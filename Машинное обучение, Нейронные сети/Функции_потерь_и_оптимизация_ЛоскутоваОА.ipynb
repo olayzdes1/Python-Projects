{
  "nbformat": 4,
  "nbformat_minor": 0,
  "metadata": {
    "colab": {
      "provenance": []
    },
    "kernelspec": {
      "name": "python3",
      "display_name": "Python 3"
    },
    "language_info": {
      "name": "python"
    }
  },
  "cells": [
    {
      "cell_type": "markdown",
      "source": [
        "Задание.\n",
        "п1. Загрузите данные. Используйте датасет с ирисами. В данных оставьте только 2 класса: Iris Versicolor, Iris Virginica."
      ],
      "metadata": {
        "id": "5IQFQHxS1coB"
      }
    },
    {
      "cell_type": "code",
      "source": [
        "import numpy as np\n",
        "import pandas as pd\n",
        "from sklearn.datasets import load_iris\n",
        "from sklearn.metrics import accuracy_score, precision_score, f1_score\n",
        "from sklearn.model_selection import train_test_split\n",
        "from datetime import datetime"
      ],
      "metadata": {
        "id": "bQdZAWtT0gL-"
      },
      "execution_count": null,
      "outputs": []
    },
    {
      "cell_type": "code",
      "execution_count": null,
      "metadata": {
        "id": "UaObL1_Q0NzA"
      },
      "outputs": [],
      "source": [
        "data = load_iris()"
      ]
    },
    {
      "cell_type": "code",
      "source": [
        "df = pd.DataFrame(data.data, columns=data.feature_names)\n",
        "df['target'] = data.target\n",
        "df_iris = df[(df['target'] == 1) | (df['target'] == 2)]\n",
        "df_iris.loc[df_iris['target'] == 1, 'target'] = 0\n",
        "df_iris.loc[df_iris['target'] == 2, 'target'] = 1\n",
        "df_iris"
      ],
      "metadata": {
        "id": "befK6dsA0zxy",
        "colab": {
          "base_uri": "https://localhost:8080/",
          "height": 424
        },
        "outputId": "82c91776-c878-44b9-ce52-85fc15bedd8b"
      },
      "execution_count": null,
      "outputs": [
        {
          "output_type": "execute_result",
          "data": {
            "text/plain": [
              "     sepal length (cm)  sepal width (cm)  petal length (cm)  petal width (cm)  \\\n",
              "50                 7.0               3.2                4.7               1.4   \n",
              "51                 6.4               3.2                4.5               1.5   \n",
              "52                 6.9               3.1                4.9               1.5   \n",
              "53                 5.5               2.3                4.0               1.3   \n",
              "54                 6.5               2.8                4.6               1.5   \n",
              "..                 ...               ...                ...               ...   \n",
              "145                6.7               3.0                5.2               2.3   \n",
              "146                6.3               2.5                5.0               1.9   \n",
              "147                6.5               3.0                5.2               2.0   \n",
              "148                6.2               3.4                5.4               2.3   \n",
              "149                5.9               3.0                5.1               1.8   \n",
              "\n",
              "     target  \n",
              "50        0  \n",
              "51        0  \n",
              "52        0  \n",
              "53        0  \n",
              "54        0  \n",
              "..      ...  \n",
              "145       1  \n",
              "146       1  \n",
              "147       1  \n",
              "148       1  \n",
              "149       1  \n",
              "\n",
              "[100 rows x 5 columns]"
            ],
            "text/html": [
              "\n",
              "  <div id=\"df-c4bba374-5fd8-4c26-b649-5a122112d37a\" class=\"colab-df-container\">\n",
              "    <div>\n",
              "<style scoped>\n",
              "    .dataframe tbody tr th:only-of-type {\n",
              "        vertical-align: middle;\n",
              "    }\n",
              "\n",
              "    .dataframe tbody tr th {\n",
              "        vertical-align: top;\n",
              "    }\n",
              "\n",
              "    .dataframe thead th {\n",
              "        text-align: right;\n",
              "    }\n",
              "</style>\n",
              "<table border=\"1\" class=\"dataframe\">\n",
              "  <thead>\n",
              "    <tr style=\"text-align: right;\">\n",
              "      <th></th>\n",
              "      <th>sepal length (cm)</th>\n",
              "      <th>sepal width (cm)</th>\n",
              "      <th>petal length (cm)</th>\n",
              "      <th>petal width (cm)</th>\n",
              "      <th>target</th>\n",
              "    </tr>\n",
              "  </thead>\n",
              "  <tbody>\n",
              "    <tr>\n",
              "      <th>50</th>\n",
              "      <td>7.0</td>\n",
              "      <td>3.2</td>\n",
              "      <td>4.7</td>\n",
              "      <td>1.4</td>\n",
              "      <td>0</td>\n",
              "    </tr>\n",
              "    <tr>\n",
              "      <th>51</th>\n",
              "      <td>6.4</td>\n",
              "      <td>3.2</td>\n",
              "      <td>4.5</td>\n",
              "      <td>1.5</td>\n",
              "      <td>0</td>\n",
              "    </tr>\n",
              "    <tr>\n",
              "      <th>52</th>\n",
              "      <td>6.9</td>\n",
              "      <td>3.1</td>\n",
              "      <td>4.9</td>\n",
              "      <td>1.5</td>\n",
              "      <td>0</td>\n",
              "    </tr>\n",
              "    <tr>\n",
              "      <th>53</th>\n",
              "      <td>5.5</td>\n",
              "      <td>2.3</td>\n",
              "      <td>4.0</td>\n",
              "      <td>1.3</td>\n",
              "      <td>0</td>\n",
              "    </tr>\n",
              "    <tr>\n",
              "      <th>54</th>\n",
              "      <td>6.5</td>\n",
              "      <td>2.8</td>\n",
              "      <td>4.6</td>\n",
              "      <td>1.5</td>\n",
              "      <td>0</td>\n",
              "    </tr>\n",
              "    <tr>\n",
              "      <th>...</th>\n",
              "      <td>...</td>\n",
              "      <td>...</td>\n",
              "      <td>...</td>\n",
              "      <td>...</td>\n",
              "      <td>...</td>\n",
              "    </tr>\n",
              "    <tr>\n",
              "      <th>145</th>\n",
              "      <td>6.7</td>\n",
              "      <td>3.0</td>\n",
              "      <td>5.2</td>\n",
              "      <td>2.3</td>\n",
              "      <td>1</td>\n",
              "    </tr>\n",
              "    <tr>\n",
              "      <th>146</th>\n",
              "      <td>6.3</td>\n",
              "      <td>2.5</td>\n",
              "      <td>5.0</td>\n",
              "      <td>1.9</td>\n",
              "      <td>1</td>\n",
              "    </tr>\n",
              "    <tr>\n",
              "      <th>147</th>\n",
              "      <td>6.5</td>\n",
              "      <td>3.0</td>\n",
              "      <td>5.2</td>\n",
              "      <td>2.0</td>\n",
              "      <td>1</td>\n",
              "    </tr>\n",
              "    <tr>\n",
              "      <th>148</th>\n",
              "      <td>6.2</td>\n",
              "      <td>3.4</td>\n",
              "      <td>5.4</td>\n",
              "      <td>2.3</td>\n",
              "      <td>1</td>\n",
              "    </tr>\n",
              "    <tr>\n",
              "      <th>149</th>\n",
              "      <td>5.9</td>\n",
              "      <td>3.0</td>\n",
              "      <td>5.1</td>\n",
              "      <td>1.8</td>\n",
              "      <td>1</td>\n",
              "    </tr>\n",
              "  </tbody>\n",
              "</table>\n",
              "<p>100 rows × 5 columns</p>\n",
              "</div>\n",
              "    <div class=\"colab-df-buttons\">\n",
              "\n",
              "  <div class=\"colab-df-container\">\n",
              "    <button class=\"colab-df-convert\" onclick=\"convertToInteractive('df-c4bba374-5fd8-4c26-b649-5a122112d37a')\"\n",
              "            title=\"Convert this dataframe to an interactive table.\"\n",
              "            style=\"display:none;\">\n",
              "\n",
              "  <svg xmlns=\"http://www.w3.org/2000/svg\" height=\"24px\" viewBox=\"0 -960 960 960\">\n",
              "    <path d=\"M120-120v-720h720v720H120Zm60-500h600v-160H180v160Zm220 220h160v-160H400v160Zm0 220h160v-160H400v160ZM180-400h160v-160H180v160Zm440 0h160v-160H620v160ZM180-180h160v-160H180v160Zm440 0h160v-160H620v160Z\"/>\n",
              "  </svg>\n",
              "    </button>\n",
              "\n",
              "  <style>\n",
              "    .colab-df-container {\n",
              "      display:flex;\n",
              "      gap: 12px;\n",
              "    }\n",
              "\n",
              "    .colab-df-convert {\n",
              "      background-color: #E8F0FE;\n",
              "      border: none;\n",
              "      border-radius: 50%;\n",
              "      cursor: pointer;\n",
              "      display: none;\n",
              "      fill: #1967D2;\n",
              "      height: 32px;\n",
              "      padding: 0 0 0 0;\n",
              "      width: 32px;\n",
              "    }\n",
              "\n",
              "    .colab-df-convert:hover {\n",
              "      background-color: #E2EBFA;\n",
              "      box-shadow: 0px 1px 2px rgba(60, 64, 67, 0.3), 0px 1px 3px 1px rgba(60, 64, 67, 0.15);\n",
              "      fill: #174EA6;\n",
              "    }\n",
              "\n",
              "    .colab-df-buttons div {\n",
              "      margin-bottom: 4px;\n",
              "    }\n",
              "\n",
              "    [theme=dark] .colab-df-convert {\n",
              "      background-color: #3B4455;\n",
              "      fill: #D2E3FC;\n",
              "    }\n",
              "\n",
              "    [theme=dark] .colab-df-convert:hover {\n",
              "      background-color: #434B5C;\n",
              "      box-shadow: 0px 1px 3px 1px rgba(0, 0, 0, 0.15);\n",
              "      filter: drop-shadow(0px 1px 2px rgba(0, 0, 0, 0.3));\n",
              "      fill: #FFFFFF;\n",
              "    }\n",
              "  </style>\n",
              "\n",
              "    <script>\n",
              "      const buttonEl =\n",
              "        document.querySelector('#df-c4bba374-5fd8-4c26-b649-5a122112d37a button.colab-df-convert');\n",
              "      buttonEl.style.display =\n",
              "        google.colab.kernel.accessAllowed ? 'block' : 'none';\n",
              "\n",
              "      async function convertToInteractive(key) {\n",
              "        const element = document.querySelector('#df-c4bba374-5fd8-4c26-b649-5a122112d37a');\n",
              "        const dataTable =\n",
              "          await google.colab.kernel.invokeFunction('convertToInteractive',\n",
              "                                                    [key], {});\n",
              "        if (!dataTable) return;\n",
              "\n",
              "        const docLinkHtml = 'Like what you see? Visit the ' +\n",
              "          '<a target=\"_blank\" href=https://colab.research.google.com/notebooks/data_table.ipynb>data table notebook</a>'\n",
              "          + ' to learn more about interactive tables.';\n",
              "        element.innerHTML = '';\n",
              "        dataTable['output_type'] = 'display_data';\n",
              "        await google.colab.output.renderOutput(dataTable, element);\n",
              "        const docLink = document.createElement('div');\n",
              "        docLink.innerHTML = docLinkHtml;\n",
              "        element.appendChild(docLink);\n",
              "      }\n",
              "    </script>\n",
              "  </div>\n",
              "\n",
              "\n",
              "<div id=\"df-45ef541c-b1aa-492c-a2fe-a5e3f63d71c7\">\n",
              "  <button class=\"colab-df-quickchart\" onclick=\"quickchart('df-45ef541c-b1aa-492c-a2fe-a5e3f63d71c7')\"\n",
              "            title=\"Suggest charts\"\n",
              "            style=\"display:none;\">\n",
              "\n",
              "<svg xmlns=\"http://www.w3.org/2000/svg\" height=\"24px\"viewBox=\"0 0 24 24\"\n",
              "     width=\"24px\">\n",
              "    <g>\n",
              "        <path d=\"M19 3H5c-1.1 0-2 .9-2 2v14c0 1.1.9 2 2 2h14c1.1 0 2-.9 2-2V5c0-1.1-.9-2-2-2zM9 17H7v-7h2v7zm4 0h-2V7h2v10zm4 0h-2v-4h2v4z\"/>\n",
              "    </g>\n",
              "</svg>\n",
              "  </button>\n",
              "\n",
              "<style>\n",
              "  .colab-df-quickchart {\n",
              "      --bg-color: #E8F0FE;\n",
              "      --fill-color: #1967D2;\n",
              "      --hover-bg-color: #E2EBFA;\n",
              "      --hover-fill-color: #174EA6;\n",
              "      --disabled-fill-color: #AAA;\n",
              "      --disabled-bg-color: #DDD;\n",
              "  }\n",
              "\n",
              "  [theme=dark] .colab-df-quickchart {\n",
              "      --bg-color: #3B4455;\n",
              "      --fill-color: #D2E3FC;\n",
              "      --hover-bg-color: #434B5C;\n",
              "      --hover-fill-color: #FFFFFF;\n",
              "      --disabled-bg-color: #3B4455;\n",
              "      --disabled-fill-color: #666;\n",
              "  }\n",
              "\n",
              "  .colab-df-quickchart {\n",
              "    background-color: var(--bg-color);\n",
              "    border: none;\n",
              "    border-radius: 50%;\n",
              "    cursor: pointer;\n",
              "    display: none;\n",
              "    fill: var(--fill-color);\n",
              "    height: 32px;\n",
              "    padding: 0;\n",
              "    width: 32px;\n",
              "  }\n",
              "\n",
              "  .colab-df-quickchart:hover {\n",
              "    background-color: var(--hover-bg-color);\n",
              "    box-shadow: 0 1px 2px rgba(60, 64, 67, 0.3), 0 1px 3px 1px rgba(60, 64, 67, 0.15);\n",
              "    fill: var(--button-hover-fill-color);\n",
              "  }\n",
              "\n",
              "  .colab-df-quickchart-complete:disabled,\n",
              "  .colab-df-quickchart-complete:disabled:hover {\n",
              "    background-color: var(--disabled-bg-color);\n",
              "    fill: var(--disabled-fill-color);\n",
              "    box-shadow: none;\n",
              "  }\n",
              "\n",
              "  .colab-df-spinner {\n",
              "    border: 2px solid var(--fill-color);\n",
              "    border-color: transparent;\n",
              "    border-bottom-color: var(--fill-color);\n",
              "    animation:\n",
              "      spin 1s steps(1) infinite;\n",
              "  }\n",
              "\n",
              "  @keyframes spin {\n",
              "    0% {\n",
              "      border-color: transparent;\n",
              "      border-bottom-color: var(--fill-color);\n",
              "      border-left-color: var(--fill-color);\n",
              "    }\n",
              "    20% {\n",
              "      border-color: transparent;\n",
              "      border-left-color: var(--fill-color);\n",
              "      border-top-color: var(--fill-color);\n",
              "    }\n",
              "    30% {\n",
              "      border-color: transparent;\n",
              "      border-left-color: var(--fill-color);\n",
              "      border-top-color: var(--fill-color);\n",
              "      border-right-color: var(--fill-color);\n",
              "    }\n",
              "    40% {\n",
              "      border-color: transparent;\n",
              "      border-right-color: var(--fill-color);\n",
              "      border-top-color: var(--fill-color);\n",
              "    }\n",
              "    60% {\n",
              "      border-color: transparent;\n",
              "      border-right-color: var(--fill-color);\n",
              "    }\n",
              "    80% {\n",
              "      border-color: transparent;\n",
              "      border-right-color: var(--fill-color);\n",
              "      border-bottom-color: var(--fill-color);\n",
              "    }\n",
              "    90% {\n",
              "      border-color: transparent;\n",
              "      border-bottom-color: var(--fill-color);\n",
              "    }\n",
              "  }\n",
              "</style>\n",
              "\n",
              "  <script>\n",
              "    async function quickchart(key) {\n",
              "      const quickchartButtonEl =\n",
              "        document.querySelector('#' + key + ' button');\n",
              "      quickchartButtonEl.disabled = true;  // To prevent multiple clicks.\n",
              "      quickchartButtonEl.classList.add('colab-df-spinner');\n",
              "      try {\n",
              "        const charts = await google.colab.kernel.invokeFunction(\n",
              "            'suggestCharts', [key], {});\n",
              "      } catch (error) {\n",
              "        console.error('Error during call to suggestCharts:', error);\n",
              "      }\n",
              "      quickchartButtonEl.classList.remove('colab-df-spinner');\n",
              "      quickchartButtonEl.classList.add('colab-df-quickchart-complete');\n",
              "    }\n",
              "    (() => {\n",
              "      let quickchartButtonEl =\n",
              "        document.querySelector('#df-45ef541c-b1aa-492c-a2fe-a5e3f63d71c7 button');\n",
              "      quickchartButtonEl.style.display =\n",
              "        google.colab.kernel.accessAllowed ? 'block' : 'none';\n",
              "    })();\n",
              "  </script>\n",
              "</div>\n",
              "    </div>\n",
              "  </div>\n"
            ],
            "application/vnd.google.colaboratory.intrinsic+json": {
              "type": "dataframe",
              "variable_name": "df_iris",
              "summary": "{\n  \"name\": \"df_iris\",\n  \"rows\": 100,\n  \"fields\": [\n    {\n      \"column\": \"sepal length (cm)\",\n      \"properties\": {\n        \"dtype\": \"number\",\n        \"std\": 0.6628344400749671,\n        \"min\": 4.9,\n        \"max\": 7.9,\n        \"num_unique_values\": 28,\n        \"samples\": [\n          5.2,\n          7.7,\n          6.6\n        ],\n        \"semantic_type\": \"\",\n        \"description\": \"\"\n      }\n    },\n    {\n      \"column\": \"sepal width (cm)\",\n      \"properties\": {\n        \"dtype\": \"number\",\n        \"std\": 0.3327510064946947,\n        \"min\": 2.0,\n        \"max\": 3.8,\n        \"num_unique_values\": 16,\n        \"samples\": [\n          3.2,\n          3.1,\n          2.4\n        ],\n        \"semantic_type\": \"\",\n        \"description\": \"\"\n      }\n    },\n    {\n      \"column\": \"petal length (cm)\",\n      \"properties\": {\n        \"dtype\": \"number\",\n        \"std\": 0.8255784626428903,\n        \"min\": 3.0,\n        \"max\": 6.9,\n        \"num_unique_values\": 34,\n        \"samples\": [\n          3.8,\n          6.0,\n          5.5\n        ],\n        \"semantic_type\": \"\",\n        \"description\": \"\"\n      }\n    },\n    {\n      \"column\": \"petal width (cm)\",\n      \"properties\": {\n        \"dtype\": \"number\",\n        \"std\": 0.42476850498628405,\n        \"min\": 1.0,\n        \"max\": 2.5,\n        \"num_unique_values\": 16,\n        \"samples\": [\n          1.4,\n          1.5,\n          1.1\n        ],\n        \"semantic_type\": \"\",\n        \"description\": \"\"\n      }\n    },\n    {\n      \"column\": \"target\",\n      \"properties\": {\n        \"dtype\": \"number\",\n        \"std\": 0,\n        \"min\": 0,\n        \"max\": 1,\n        \"num_unique_values\": 2,\n        \"samples\": [\n          1,\n          0\n        ],\n        \"semantic_type\": \"\",\n        \"description\": \"\"\n      }\n    }\n  ]\n}"
            }
          },
          "metadata": {},
          "execution_count": 3
        }
      ]
    },
    {
      "cell_type": "markdown",
      "source": [
        "В датасете значения столбца 'target' соответствует 1 и 2 для Iris-versicolor и Iris-virginic соответственно. Поэтому оставляем только эти категории, затем переобозначаем значения в 0 и 1."
      ],
      "metadata": {
        "id": "aO_arKxU1r6x"
      }
    },
    {
      "cell_type": "markdown",
      "source": [
        "Разделяем датасет на признаки X и целевую переменную с категориями y."
      ],
      "metadata": {
        "id": "C5X3K_engGmt"
      }
    },
    {
      "cell_type": "code",
      "source": [
        "X = df_iris.drop(columns='target')\n",
        "y = df_iris['target']"
      ],
      "metadata": {
        "id": "ld6R8v9DgH19"
      },
      "execution_count": null,
      "outputs": []
    },
    {
      "cell_type": "markdown",
      "source": [
        "п2. Самостоятельно реализуйте логистическую регрессию, без использования метода LogisticRegression из библиотеки."
      ],
      "metadata": {
        "id": "I_qlBfwD3Qqr"
      }
    },
    {
      "cell_type": "markdown",
      "source": [
        "Для реализации логистической регрессии были написана функция, предсказывающая, к какой категории ирисов относится каждый образец.\n",
        "\n",
        "Вероятность принадлежности к классу при логистической регрессии рассчитывается как сигмоида от суммы произведений значения признака на вес этого признака плюс свободный член. Затем, в зависимости от полученной вероятности, делается вывод о принадлежности каждого ириса к конкретному классу."
      ],
      "metadata": {
        "id": "4_k48ECn3YrU"
      }
    },
    {
      "cell_type": "code",
      "source": [
        "def sigmoid(z): #функция для расчета сигмоиды\n",
        "  return 1/(1 + np.exp(-z))"
      ],
      "metadata": {
        "id": "7FnOxwAkCe3R"
      },
      "execution_count": null,
      "outputs": []
    },
    {
      "cell_type": "code",
      "source": [
        "def sigm_der(z): #производная сигмоиды\n",
        "  return sigmoid(z) * (1 - sigmoid(z))"
      ],
      "metadata": {
        "id": "3PShrvn5CyuU"
      },
      "execution_count": null,
      "outputs": []
    },
    {
      "cell_type": "code",
      "source": [
        "def log_regression(X, w, w0): #функция для логистической регрессии\n",
        "  class_pred = []\n",
        "  X = np.array(X)\n",
        "  for x in X:\n",
        "    z = w0 + w[0]*x[0] + w[1]*x[1] + w[2]*x[2] + w[3]*x[3] #сумма произведений вектора весов и вектора признаков + w0\n",
        "    class_pred.append(1 if sigmoid(z) >= 0.5 else 0) #считаем, что класс 1, если полученная вероятность >= 0.5\n",
        "  return class_pred"
      ],
      "metadata": {
        "id": "jls4ugz73eLo"
      },
      "execution_count": null,
      "outputs": []
    },
    {
      "cell_type": "markdown",
      "source": [
        "п3. Реализуйте метод градиентного спуска. Обучите логистическую регрессию этим методом. Выберете и посчитайте метрику качества."
      ],
      "metadata": {
        "id": "cPktsScR60Wi"
      }
    },
    {
      "cell_type": "markdown",
      "source": [
        "При помощи метода градиентного спуска определяем значения весов параметров."
      ],
      "metadata": {
        "id": "eL277e-wDwc0"
      }
    },
    {
      "cell_type": "code",
      "source": [
        "def cost_function(w, w0, X, y):\n",
        "  cost = 0\n",
        "  for j in range(len(X)):\n",
        "    z = w0 + w[0]*X[0] + w[1]*X[1] + w[2]*X[2] + w[3]*X[3]\n",
        "    cost -= y[j] * np.log(sigmoid(z)) + (1-y[j])*np.log(1-sigmoid(z)) #logloss\n",
        "    #print(cost)\n",
        "  return cost/len(X)"
      ],
      "metadata": {
        "id": "kZBuTd6jRhc1"
      },
      "execution_count": null,
      "outputs": []
    },
    {
      "cell_type": "code",
      "source": [
        "def grad_des(X, y, learning_rate=0.001, epochs=100):\n",
        "  y = np.array(y)\n",
        "  X = np.array(X)\n",
        "  w = np.zeros(4)\n",
        "  w0 = 0\n",
        "  costs = []\n",
        "  for p in range(epochs):\n",
        "    y_pred = []\n",
        "    for i in range(len(X)):\n",
        "      z = w0 + w[0]*X[i][0] + w[1]*X[i][1] + w[2]*X[i][2] + w[3]*X[i][3]\n",
        "      y_pred.append(sigmoid(z))\n",
        "      w0 -= learning_rate * (y_pred[i] - y[i]) * sigm_der(y_pred[i])\n",
        "      for k in range(4):\n",
        "        w[k] -= learning_rate * (y_pred[i] - y[i]) * X[i][k] * sigm_der(y_pred[i]) #считаем веса по методу градиентного спуска\n",
        "    cost = cost_function(w, w0, X, y) #считаем ошибки в весах в каждую эпоху\n",
        "    costs.append(cost)\n",
        "  return(w0, w, costs)"
      ],
      "metadata": {
        "id": "WLl9NfCNFLbM"
      },
      "execution_count": null,
      "outputs": []
    },
    {
      "cell_type": "markdown",
      "source": [
        "Проверяем работу функций. Определяем значения весов параметров и обучаем модель предсказывать, к какому классу относится каждый ирис."
      ],
      "metadata": {
        "id": "hArQFCT9Eh74"
      }
    },
    {
      "cell_type": "code",
      "source": [
        "X_train, X_test, y_train, y_test = train_test_split(X, y, test_size=0.2, random_state=42) #разделение на тренировочную и тестовую выборки"
      ],
      "metadata": {
        "id": "4TfD4lx2sZeR"
      },
      "execution_count": null,
      "outputs": []
    },
    {
      "cell_type": "code",
      "source": [
        "start_time = datetime.now()\n",
        "w0, w, costs = grad_des(X_train, y_train, learning_rate=0.001, epochs=500) #вычисляем веса параметров модели и ошибку\n",
        "print(f'Полученные методом градиентного спуска веса параметров: {w0, w}')\n",
        "print(f'Последнее значение ошибки параметров {costs[-1]}')\n",
        "class_pred = log_regression(X_test, w, w0) #подставляем веса и предсказываем значения класса на тестовой выборке\n",
        "print(f'Предсказанные значения классов на тренировочной выборке: {class_pred}')\n",
        "end_time = datetime.now()\n",
        "work_time_grad = (end_time - start_time).total_seconds()"
      ],
      "metadata": {
        "colab": {
          "base_uri": "https://localhost:8080/"
        },
        "id": "ODQTXR-EF52M",
        "outputId": "624a42d8-cef4-4b9e-f8df-3f8dd5330ebb"
      },
      "execution_count": null,
      "outputs": [
        {
          "output_type": "stream",
          "name": "stdout",
          "text": [
            "Полученные методом градиентного спуска веса параметров: (-0.29564850028283246, array([-0.62898273, -0.58125431,  0.96574638,  0.79794051]))\n",
            "Последнее значение ошибки параметров [1.31953735 0.76003273 0.72133896 0.71749017]\n",
            "Предсказанные значения классов на тренировочной выборке: [1, 1, 1, 0, 0, 0, 1, 1, 0, 0, 1, 0, 1, 1, 1, 0, 1, 1, 0, 0]\n"
          ]
        }
      ]
    },
    {
      "cell_type": "markdown",
      "source": [
        "В качестве метрики точности была выбрана метрика F1-score, так как она представляет собой среднее точности и полноты."
      ],
      "metadata": {
        "id": "_8Bik4JtB9c6"
      }
    },
    {
      "cell_type": "code",
      "source": [
        "print(f'Значение F1-score: {f1_score(y_test, class_pred)}')"
      ],
      "metadata": {
        "colab": {
          "base_uri": "https://localhost:8080/"
        },
        "id": "IqyciyQf0ED_",
        "outputId": "10a0993f-63a2-4d21-c3c5-fca084dd122d"
      },
      "execution_count": null,
      "outputs": [
        {
          "output_type": "stream",
          "name": "stdout",
          "text": [
            "Значение F1-score: 0.8421052631578948\n"
          ]
        }
      ]
    },
    {
      "cell_type": "markdown",
      "source": [
        "Итого в результате обучения модели логистической регрессии методом градиентного спуска на тестовой выборке получили значение F1-score = 0.84. Результат показывает, что модель достаточно хорошо обучена."
      ],
      "metadata": {
        "id": "9SygW0DfCro3"
      }
    },
    {
      "cell_type": "markdown",
      "source": [
        "п4. Повторите п. 3 для метода скользящего среднего (Root Mean Square Propagation, RMSProp)."
      ],
      "metadata": {
        "id": "q2VsMHpEE7eC"
      }
    },
    {
      "cell_type": "markdown",
      "source": [
        "Формулы были взяты по ссылке: https://habr.com/en/articles/318970/"
      ],
      "metadata": {
        "id": "p9ftML-GW6n9"
      }
    },
    {
      "cell_type": "code",
      "source": [
        "def RMSProp(X, y, learning_rate=0.001, epochs=100, gamma = 0.9, epsilon=1e-8):\n",
        "  y = np.array(y)\n",
        "  X = np.array(X)\n",
        "  w = np.zeros(4)\n",
        "  w0 = 0\n",
        "  rms_w0 = 0\n",
        "  rms_w = np.zeros(4)\n",
        "  costs =[]\n",
        "  for p in range(epochs):\n",
        "    y_pred = []\n",
        "    for i in range(len(X)):\n",
        "      z = w0 + w[0]*X[i][0] + w[1]*X[i][1] + w[2]*X[i][2] + w[3]*X[i][3]\n",
        "      y_pred.append(sigmoid(z))\n",
        "      rms_w0 = gamma * rms_w0 + (1 - gamma) * ((y_pred[i] - y[i]) * sigm_der(y_pred[i]))**2\n",
        "      for k in range(X.shape[1]):\n",
        "        rms_w[k] = gamma * rms_w[k] + (1 - gamma) * ((y_pred[i] - y[i]) * X[i][k] * sigm_der(y_pred[i]))**2\n",
        "      w0 -= (learning_rate * (y_pred[i] - y[i]) * sigm_der(y_pred[i])) / np.sqrt(rms_w0 + epsilon)\n",
        "      for k in range(X.shape[1]):\n",
        "        w[k] -= (learning_rate * (y_pred[i] - y[i]) * X[i][k] * sigm_der(y_pred[i])) / np.sqrt(rms_w[k] + epsilon)\n",
        "    cost = cost_function(w, w0, X, y)\n",
        "    costs.append(cost)\n",
        "  return(w0, w, costs)"
      ],
      "metadata": {
        "id": "AswKTZ4BE-Ui"
      },
      "execution_count": null,
      "outputs": []
    },
    {
      "cell_type": "code",
      "source": [
        "start_time1 = datetime.now()\n",
        "w0, w, costs = RMSProp(X_train, y_train, learning_rate=0.001, epochs=500, gamma = 0.9, epsilon=1e-8)\n",
        "print(f'Полученные методом скользящего среднего веса параметров: {w0, w}')\n",
        "print(f'Последнее значение ошибки параметров {costs[-1]}')\n",
        "class_pred_rms = log_regression(X_test, w, w0)\n",
        "print(f'Предсказанные значения классов на тестовой выборке: {class_pred_rms}')\n",
        "end_time1 = datetime.now()\n",
        "work_time_rms = (end_time1 - start_time1).total_seconds()"
      ],
      "metadata": {
        "colab": {
          "base_uri": "https://localhost:8080/"
        },
        "id": "sNZNX5p0QmQr",
        "outputId": "5be5abd7-93f3-4b0a-81d1-d45cc838e3e5"
      },
      "execution_count": null,
      "outputs": [
        {
          "output_type": "stream",
          "name": "stdout",
          "text": [
            "Полученные методом скользящего среднего веса параметров: (-2.368182530150962, array([-0.88837538, -1.74490305,  1.48867355,  3.47941106]))\n",
            "Последнее значение ошибки параметров [5.08931975 1.45087854 2.12827284 0.86902977]\n",
            "Предсказанные значения классов на тестовой выборке: [0, 1, 1, 0, 0, 0, 1, 1, 0, 0, 1, 0, 1, 1, 1, 0, 1, 1, 0, 0]\n"
          ]
        }
      ]
    },
    {
      "cell_type": "code",
      "source": [
        "print(f'Значение F1-score: {f1_score(y_test, class_pred_rms)}')"
      ],
      "metadata": {
        "colab": {
          "base_uri": "https://localhost:8080/"
        },
        "id": "obySiuTvQ7Qc",
        "outputId": "adcb6f07-9d79-422c-88f6-3ba9d183e1a1"
      },
      "execution_count": null,
      "outputs": [
        {
          "output_type": "stream",
          "name": "stdout",
          "text": [
            "Значение F1-score: 0.7777777777777777\n"
          ]
        }
      ]
    },
    {
      "cell_type": "markdown",
      "source": [
        "Итого в результате обучения модели логистической регрессии методом скользящего среднего на тестовой выборке получили значение F1-score = 0.78.\n",
        "\n"
      ],
      "metadata": {
        "id": "K-0ZicuyD1ZM"
      }
    },
    {
      "cell_type": "markdown",
      "source": [
        "п6. Сравните значение метрик для реализованных методов оптимизации. Можно оформить в виде таблицы вида |метод|метрика|время работы| (время работы опционально)."
      ],
      "metadata": {
        "id": "pK4uQvthBDz1"
      }
    },
    {
      "cell_type": "code",
      "source": [
        "result = pd.DataFrame({'Метод': ['Градиентный спуск', 'Скользящее среднее'], 'Метрика': [f1_score(y_test, class_pred), f1_score(y_test, class_pred_rms)], 'Время работы, сек': [work_time_grad, work_time_rms]})\n",
        "result"
      ],
      "metadata": {
        "colab": {
          "base_uri": "https://localhost:8080/",
          "height": 112
        },
        "id": "IaQ7tikxBIKp",
        "outputId": "8b35115e-7543-4472-b412-b5cacd01efd1"
      },
      "execution_count": null,
      "outputs": [
        {
          "output_type": "execute_result",
          "data": {
            "text/plain": [
              "                Метод   Метрика  Время работы, сек\n",
              "0   Градиентный спуск  0.842105           2.425185\n",
              "1  Скользящее среднее  0.777778           4.416313"
            ],
            "text/html": [
              "\n",
              "  <div id=\"df-dc28626e-a36f-4b1c-a51c-cdd6211b3338\" class=\"colab-df-container\">\n",
              "    <div>\n",
              "<style scoped>\n",
              "    .dataframe tbody tr th:only-of-type {\n",
              "        vertical-align: middle;\n",
              "    }\n",
              "\n",
              "    .dataframe tbody tr th {\n",
              "        vertical-align: top;\n",
              "    }\n",
              "\n",
              "    .dataframe thead th {\n",
              "        text-align: right;\n",
              "    }\n",
              "</style>\n",
              "<table border=\"1\" class=\"dataframe\">\n",
              "  <thead>\n",
              "    <tr style=\"text-align: right;\">\n",
              "      <th></th>\n",
              "      <th>Метод</th>\n",
              "      <th>Метрика</th>\n",
              "      <th>Время работы, сек</th>\n",
              "    </tr>\n",
              "  </thead>\n",
              "  <tbody>\n",
              "    <tr>\n",
              "      <th>0</th>\n",
              "      <td>Градиентный спуск</td>\n",
              "      <td>0.842105</td>\n",
              "      <td>2.425185</td>\n",
              "    </tr>\n",
              "    <tr>\n",
              "      <th>1</th>\n",
              "      <td>Скользящее среднее</td>\n",
              "      <td>0.777778</td>\n",
              "      <td>4.416313</td>\n",
              "    </tr>\n",
              "  </tbody>\n",
              "</table>\n",
              "</div>\n",
              "    <div class=\"colab-df-buttons\">\n",
              "\n",
              "  <div class=\"colab-df-container\">\n",
              "    <button class=\"colab-df-convert\" onclick=\"convertToInteractive('df-dc28626e-a36f-4b1c-a51c-cdd6211b3338')\"\n",
              "            title=\"Convert this dataframe to an interactive table.\"\n",
              "            style=\"display:none;\">\n",
              "\n",
              "  <svg xmlns=\"http://www.w3.org/2000/svg\" height=\"24px\" viewBox=\"0 -960 960 960\">\n",
              "    <path d=\"M120-120v-720h720v720H120Zm60-500h600v-160H180v160Zm220 220h160v-160H400v160Zm0 220h160v-160H400v160ZM180-400h160v-160H180v160Zm440 0h160v-160H620v160ZM180-180h160v-160H180v160Zm440 0h160v-160H620v160Z\"/>\n",
              "  </svg>\n",
              "    </button>\n",
              "\n",
              "  <style>\n",
              "    .colab-df-container {\n",
              "      display:flex;\n",
              "      gap: 12px;\n",
              "    }\n",
              "\n",
              "    .colab-df-convert {\n",
              "      background-color: #E8F0FE;\n",
              "      border: none;\n",
              "      border-radius: 50%;\n",
              "      cursor: pointer;\n",
              "      display: none;\n",
              "      fill: #1967D2;\n",
              "      height: 32px;\n",
              "      padding: 0 0 0 0;\n",
              "      width: 32px;\n",
              "    }\n",
              "\n",
              "    .colab-df-convert:hover {\n",
              "      background-color: #E2EBFA;\n",
              "      box-shadow: 0px 1px 2px rgba(60, 64, 67, 0.3), 0px 1px 3px 1px rgba(60, 64, 67, 0.15);\n",
              "      fill: #174EA6;\n",
              "    }\n",
              "\n",
              "    .colab-df-buttons div {\n",
              "      margin-bottom: 4px;\n",
              "    }\n",
              "\n",
              "    [theme=dark] .colab-df-convert {\n",
              "      background-color: #3B4455;\n",
              "      fill: #D2E3FC;\n",
              "    }\n",
              "\n",
              "    [theme=dark] .colab-df-convert:hover {\n",
              "      background-color: #434B5C;\n",
              "      box-shadow: 0px 1px 3px 1px rgba(0, 0, 0, 0.15);\n",
              "      filter: drop-shadow(0px 1px 2px rgba(0, 0, 0, 0.3));\n",
              "      fill: #FFFFFF;\n",
              "    }\n",
              "  </style>\n",
              "\n",
              "    <script>\n",
              "      const buttonEl =\n",
              "        document.querySelector('#df-dc28626e-a36f-4b1c-a51c-cdd6211b3338 button.colab-df-convert');\n",
              "      buttonEl.style.display =\n",
              "        google.colab.kernel.accessAllowed ? 'block' : 'none';\n",
              "\n",
              "      async function convertToInteractive(key) {\n",
              "        const element = document.querySelector('#df-dc28626e-a36f-4b1c-a51c-cdd6211b3338');\n",
              "        const dataTable =\n",
              "          await google.colab.kernel.invokeFunction('convertToInteractive',\n",
              "                                                    [key], {});\n",
              "        if (!dataTable) return;\n",
              "\n",
              "        const docLinkHtml = 'Like what you see? Visit the ' +\n",
              "          '<a target=\"_blank\" href=https://colab.research.google.com/notebooks/data_table.ipynb>data table notebook</a>'\n",
              "          + ' to learn more about interactive tables.';\n",
              "        element.innerHTML = '';\n",
              "        dataTable['output_type'] = 'display_data';\n",
              "        await google.colab.output.renderOutput(dataTable, element);\n",
              "        const docLink = document.createElement('div');\n",
              "        docLink.innerHTML = docLinkHtml;\n",
              "        element.appendChild(docLink);\n",
              "      }\n",
              "    </script>\n",
              "  </div>\n",
              "\n",
              "\n",
              "<div id=\"df-175ff474-9625-4be6-863a-c8e9801fe3ba\">\n",
              "  <button class=\"colab-df-quickchart\" onclick=\"quickchart('df-175ff474-9625-4be6-863a-c8e9801fe3ba')\"\n",
              "            title=\"Suggest charts\"\n",
              "            style=\"display:none;\">\n",
              "\n",
              "<svg xmlns=\"http://www.w3.org/2000/svg\" height=\"24px\"viewBox=\"0 0 24 24\"\n",
              "     width=\"24px\">\n",
              "    <g>\n",
              "        <path d=\"M19 3H5c-1.1 0-2 .9-2 2v14c0 1.1.9 2 2 2h14c1.1 0 2-.9 2-2V5c0-1.1-.9-2-2-2zM9 17H7v-7h2v7zm4 0h-2V7h2v10zm4 0h-2v-4h2v4z\"/>\n",
              "    </g>\n",
              "</svg>\n",
              "  </button>\n",
              "\n",
              "<style>\n",
              "  .colab-df-quickchart {\n",
              "      --bg-color: #E8F0FE;\n",
              "      --fill-color: #1967D2;\n",
              "      --hover-bg-color: #E2EBFA;\n",
              "      --hover-fill-color: #174EA6;\n",
              "      --disabled-fill-color: #AAA;\n",
              "      --disabled-bg-color: #DDD;\n",
              "  }\n",
              "\n",
              "  [theme=dark] .colab-df-quickchart {\n",
              "      --bg-color: #3B4455;\n",
              "      --fill-color: #D2E3FC;\n",
              "      --hover-bg-color: #434B5C;\n",
              "      --hover-fill-color: #FFFFFF;\n",
              "      --disabled-bg-color: #3B4455;\n",
              "      --disabled-fill-color: #666;\n",
              "  }\n",
              "\n",
              "  .colab-df-quickchart {\n",
              "    background-color: var(--bg-color);\n",
              "    border: none;\n",
              "    border-radius: 50%;\n",
              "    cursor: pointer;\n",
              "    display: none;\n",
              "    fill: var(--fill-color);\n",
              "    height: 32px;\n",
              "    padding: 0;\n",
              "    width: 32px;\n",
              "  }\n",
              "\n",
              "  .colab-df-quickchart:hover {\n",
              "    background-color: var(--hover-bg-color);\n",
              "    box-shadow: 0 1px 2px rgba(60, 64, 67, 0.3), 0 1px 3px 1px rgba(60, 64, 67, 0.15);\n",
              "    fill: var(--button-hover-fill-color);\n",
              "  }\n",
              "\n",
              "  .colab-df-quickchart-complete:disabled,\n",
              "  .colab-df-quickchart-complete:disabled:hover {\n",
              "    background-color: var(--disabled-bg-color);\n",
              "    fill: var(--disabled-fill-color);\n",
              "    box-shadow: none;\n",
              "  }\n",
              "\n",
              "  .colab-df-spinner {\n",
              "    border: 2px solid var(--fill-color);\n",
              "    border-color: transparent;\n",
              "    border-bottom-color: var(--fill-color);\n",
              "    animation:\n",
              "      spin 1s steps(1) infinite;\n",
              "  }\n",
              "\n",
              "  @keyframes spin {\n",
              "    0% {\n",
              "      border-color: transparent;\n",
              "      border-bottom-color: var(--fill-color);\n",
              "      border-left-color: var(--fill-color);\n",
              "    }\n",
              "    20% {\n",
              "      border-color: transparent;\n",
              "      border-left-color: var(--fill-color);\n",
              "      border-top-color: var(--fill-color);\n",
              "    }\n",
              "    30% {\n",
              "      border-color: transparent;\n",
              "      border-left-color: var(--fill-color);\n",
              "      border-top-color: var(--fill-color);\n",
              "      border-right-color: var(--fill-color);\n",
              "    }\n",
              "    40% {\n",
              "      border-color: transparent;\n",
              "      border-right-color: var(--fill-color);\n",
              "      border-top-color: var(--fill-color);\n",
              "    }\n",
              "    60% {\n",
              "      border-color: transparent;\n",
              "      border-right-color: var(--fill-color);\n",
              "    }\n",
              "    80% {\n",
              "      border-color: transparent;\n",
              "      border-right-color: var(--fill-color);\n",
              "      border-bottom-color: var(--fill-color);\n",
              "    }\n",
              "    90% {\n",
              "      border-color: transparent;\n",
              "      border-bottom-color: var(--fill-color);\n",
              "    }\n",
              "  }\n",
              "</style>\n",
              "\n",
              "  <script>\n",
              "    async function quickchart(key) {\n",
              "      const quickchartButtonEl =\n",
              "        document.querySelector('#' + key + ' button');\n",
              "      quickchartButtonEl.disabled = true;  // To prevent multiple clicks.\n",
              "      quickchartButtonEl.classList.add('colab-df-spinner');\n",
              "      try {\n",
              "        const charts = await google.colab.kernel.invokeFunction(\n",
              "            'suggestCharts', [key], {});\n",
              "      } catch (error) {\n",
              "        console.error('Error during call to suggestCharts:', error);\n",
              "      }\n",
              "      quickchartButtonEl.classList.remove('colab-df-spinner');\n",
              "      quickchartButtonEl.classList.add('colab-df-quickchart-complete');\n",
              "    }\n",
              "    (() => {\n",
              "      let quickchartButtonEl =\n",
              "        document.querySelector('#df-175ff474-9625-4be6-863a-c8e9801fe3ba button');\n",
              "      quickchartButtonEl.style.display =\n",
              "        google.colab.kernel.accessAllowed ? 'block' : 'none';\n",
              "    })();\n",
              "  </script>\n",
              "</div>\n",
              "    </div>\n",
              "  </div>\n"
            ],
            "application/vnd.google.colaboratory.intrinsic+json": {
              "type": "dataframe",
              "variable_name": "result",
              "summary": "{\n  \"name\": \"result\",\n  \"rows\": 2,\n  \"fields\": [\n    {\n      \"column\": \"\\u041c\\u0435\\u0442\\u043e\\u0434\",\n      \"properties\": {\n        \"dtype\": \"string\",\n        \"num_unique_values\": 2,\n        \"samples\": [\n          \"\\u0421\\u043a\\u043e\\u043b\\u044c\\u0437\\u044f\\u0449\\u0435\\u0435 \\u0441\\u0440\\u0435\\u0434\\u043d\\u0435\\u0435\",\n          \"\\u0413\\u0440\\u0430\\u0434\\u0438\\u0435\\u043d\\u0442\\u043d\\u044b\\u0439 \\u0441\\u043f\\u0443\\u0441\\u043a\"\n        ],\n        \"semantic_type\": \"\",\n        \"description\": \"\"\n      }\n    },\n    {\n      \"column\": \"\\u041c\\u0435\\u0442\\u0440\\u0438\\u043a\\u0430\",\n      \"properties\": {\n        \"dtype\": \"number\",\n        \"std\": 0.04548640112895932,\n        \"min\": 0.7777777777777777,\n        \"max\": 0.8421052631578948,\n        \"num_unique_values\": 2,\n        \"samples\": [\n          0.7777777777777777,\n          0.8421052631578948\n        ],\n        \"semantic_type\": \"\",\n        \"description\": \"\"\n      }\n    },\n    {\n      \"column\": \"\\u0412\\u0440\\u0435\\u043c\\u044f \\u0440\\u0430\\u0431\\u043e\\u0442\\u044b, \\u0441\\u0435\\u043a\",\n      \"properties\": {\n        \"dtype\": \"number\",\n        \"std\": 1.407940111010408,\n        \"min\": 2.425185,\n        \"max\": 4.416313,\n        \"num_unique_values\": 2,\n        \"samples\": [\n          4.416313,\n          2.425185\n        ],\n        \"semantic_type\": \"\",\n        \"description\": \"\"\n      }\n    }\n  ]\n}"
            }
          },
          "metadata": {},
          "execution_count": 81
        }
      ]
    },
    {
      "cell_type": "markdown",
      "source": [
        "В результате выполнения работы была построена модель логистической регрессии, обученная методами градиентного спуска и скользящего среднего.\n",
        "\n",
        "Из таблицы следует, что модель логистической регресии, обученная методом градиентного спуска, имеет метрику качества выше, т.е. точнее предсказывает значения класса ирисов. Также время работы в данном случае в 2 раза быстрее, чем при работе методом с скользящего среднего."
      ],
      "metadata": {
        "id": "oHHOUX1EPuDJ"
      }
    }
  ]
}