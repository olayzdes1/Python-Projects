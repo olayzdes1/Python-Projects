{
  "nbformat": 4,
  "nbformat_minor": 0,
  "metadata": {
    "colab": {
      "provenance": []
    },
    "kernelspec": {
      "name": "python3",
      "display_name": "Python 3"
    },
    "language_info": {
      "name": "python"
    }
  },
  "cells": [
    {
      "cell_type": "code",
      "execution_count": null,
      "metadata": {
        "id": "55qT1AuTBPXw"
      },
      "outputs": [],
      "source": [
        "import numpy as np\n",
        "import pandas as pd\n",
        "import matplotlib.pyplot as plt\n",
        "import seaborn as sns"
      ]
    },
    {
      "cell_type": "markdown",
      "source": [
        "1 Проведите оценку данных по столбцам, посмотрите визуально на распределение данных, определите базовые статистики, где это возможно."
      ],
      "metadata": {
        "id": "lwd-uIV5MzO5"
      }
    },
    {
      "cell_type": "code",
      "source": [
        "salary = pd.read_csv('salary_dataset.csv', na_values = '<NA>')\n",
        "#размер датафрейма\n",
        "salary.shape"
      ],
      "metadata": {
        "colab": {
          "base_uri": "https://localhost:8080/"
        },
        "id": "ApdiXXM8HkJG",
        "outputId": "7ddc4835-965e-48ba-84c0-ebf18207b9a9"
      },
      "execution_count": null,
      "outputs": [
        {
          "output_type": "execute_result",
          "data": {
            "text/plain": [
              "(6704, 9)"
            ]
          },
          "metadata": {},
          "execution_count": 2
        }
      ]
    },
    {
      "cell_type": "code",
      "source": [
        "salary"
      ],
      "metadata": {
        "colab": {
          "base_uri": "https://localhost:8080/",
          "height": 424
        },
        "id": "s4RYOgriIVnH",
        "outputId": "695d9b7c-b379-499f-bb6e-707061701f95"
      },
      "execution_count": null,
      "outputs": [
        {
          "output_type": "execute_result",
          "data": {
            "text/plain": [
              "      Unnamed: 0   Age  Gender    Education Level              Job Title  \\\n",
              "0              0  32.0    Male         Bachelor's      Software Engineer   \n",
              "1              1  28.0  Female           Master's           Data Analyst   \n",
              "2              2  45.0    Male                PhD         Senior Manager   \n",
              "3              3  36.0  Female         Bachelor's        Sales Associate   \n",
              "4              4  52.0    Male           Master's               Director   \n",
              "...          ...   ...     ...                ...                    ...   \n",
              "6699        6699  49.0  Female                PhD  Director of Marketing   \n",
              "6700        6700  32.0    Male        High School        Sales Associate   \n",
              "6701        6701  30.0  Female  Bachelor's Degree      Financial Manager   \n",
              "6702        6702  46.0    Male    Master's Degree      Marketing Manager   \n",
              "6703        6703  26.0  Female        High School        Sales Executive   \n",
              "\n",
              "      Years of Experience    Salary    Country        Race  \n",
              "0                     5.0   90000.0         UK       White  \n",
              "1                     3.0   65000.0        USA    Hispanic  \n",
              "2                    15.0  150000.0     Canada       White  \n",
              "3                     7.0   60000.0        USA    Hispanic  \n",
              "4                    20.0  200000.0        USA       Asian  \n",
              "...                   ...       ...        ...         ...  \n",
              "6699                 20.0  200000.0         UK       Mixed  \n",
              "6700                  3.0   50000.0  Australia  Australian  \n",
              "6701                  4.0   55000.0      China     Chinese  \n",
              "6702                 14.0  140000.0      China      Korean  \n",
              "6703                  1.0   35000.0     Canada       Black  \n",
              "\n",
              "[6704 rows x 9 columns]"
            ],
            "text/html": [
              "\n",
              "  <div id=\"df-0666a1ec-f325-430a-912c-a3154a858aec\" class=\"colab-df-container\">\n",
              "    <div>\n",
              "<style scoped>\n",
              "    .dataframe tbody tr th:only-of-type {\n",
              "        vertical-align: middle;\n",
              "    }\n",
              "\n",
              "    .dataframe tbody tr th {\n",
              "        vertical-align: top;\n",
              "    }\n",
              "\n",
              "    .dataframe thead th {\n",
              "        text-align: right;\n",
              "    }\n",
              "</style>\n",
              "<table border=\"1\" class=\"dataframe\">\n",
              "  <thead>\n",
              "    <tr style=\"text-align: right;\">\n",
              "      <th></th>\n",
              "      <th>Unnamed: 0</th>\n",
              "      <th>Age</th>\n",
              "      <th>Gender</th>\n",
              "      <th>Education Level</th>\n",
              "      <th>Job Title</th>\n",
              "      <th>Years of Experience</th>\n",
              "      <th>Salary</th>\n",
              "      <th>Country</th>\n",
              "      <th>Race</th>\n",
              "    </tr>\n",
              "  </thead>\n",
              "  <tbody>\n",
              "    <tr>\n",
              "      <th>0</th>\n",
              "      <td>0</td>\n",
              "      <td>32.0</td>\n",
              "      <td>Male</td>\n",
              "      <td>Bachelor's</td>\n",
              "      <td>Software Engineer</td>\n",
              "      <td>5.0</td>\n",
              "      <td>90000.0</td>\n",
              "      <td>UK</td>\n",
              "      <td>White</td>\n",
              "    </tr>\n",
              "    <tr>\n",
              "      <th>1</th>\n",
              "      <td>1</td>\n",
              "      <td>28.0</td>\n",
              "      <td>Female</td>\n",
              "      <td>Master's</td>\n",
              "      <td>Data Analyst</td>\n",
              "      <td>3.0</td>\n",
              "      <td>65000.0</td>\n",
              "      <td>USA</td>\n",
              "      <td>Hispanic</td>\n",
              "    </tr>\n",
              "    <tr>\n",
              "      <th>2</th>\n",
              "      <td>2</td>\n",
              "      <td>45.0</td>\n",
              "      <td>Male</td>\n",
              "      <td>PhD</td>\n",
              "      <td>Senior Manager</td>\n",
              "      <td>15.0</td>\n",
              "      <td>150000.0</td>\n",
              "      <td>Canada</td>\n",
              "      <td>White</td>\n",
              "    </tr>\n",
              "    <tr>\n",
              "      <th>3</th>\n",
              "      <td>3</td>\n",
              "      <td>36.0</td>\n",
              "      <td>Female</td>\n",
              "      <td>Bachelor's</td>\n",
              "      <td>Sales Associate</td>\n",
              "      <td>7.0</td>\n",
              "      <td>60000.0</td>\n",
              "      <td>USA</td>\n",
              "      <td>Hispanic</td>\n",
              "    </tr>\n",
              "    <tr>\n",
              "      <th>4</th>\n",
              "      <td>4</td>\n",
              "      <td>52.0</td>\n",
              "      <td>Male</td>\n",
              "      <td>Master's</td>\n",
              "      <td>Director</td>\n",
              "      <td>20.0</td>\n",
              "      <td>200000.0</td>\n",
              "      <td>USA</td>\n",
              "      <td>Asian</td>\n",
              "    </tr>\n",
              "    <tr>\n",
              "      <th>...</th>\n",
              "      <td>...</td>\n",
              "      <td>...</td>\n",
              "      <td>...</td>\n",
              "      <td>...</td>\n",
              "      <td>...</td>\n",
              "      <td>...</td>\n",
              "      <td>...</td>\n",
              "      <td>...</td>\n",
              "      <td>...</td>\n",
              "    </tr>\n",
              "    <tr>\n",
              "      <th>6699</th>\n",
              "      <td>6699</td>\n",
              "      <td>49.0</td>\n",
              "      <td>Female</td>\n",
              "      <td>PhD</td>\n",
              "      <td>Director of Marketing</td>\n",
              "      <td>20.0</td>\n",
              "      <td>200000.0</td>\n",
              "      <td>UK</td>\n",
              "      <td>Mixed</td>\n",
              "    </tr>\n",
              "    <tr>\n",
              "      <th>6700</th>\n",
              "      <td>6700</td>\n",
              "      <td>32.0</td>\n",
              "      <td>Male</td>\n",
              "      <td>High School</td>\n",
              "      <td>Sales Associate</td>\n",
              "      <td>3.0</td>\n",
              "      <td>50000.0</td>\n",
              "      <td>Australia</td>\n",
              "      <td>Australian</td>\n",
              "    </tr>\n",
              "    <tr>\n",
              "      <th>6701</th>\n",
              "      <td>6701</td>\n",
              "      <td>30.0</td>\n",
              "      <td>Female</td>\n",
              "      <td>Bachelor's Degree</td>\n",
              "      <td>Financial Manager</td>\n",
              "      <td>4.0</td>\n",
              "      <td>55000.0</td>\n",
              "      <td>China</td>\n",
              "      <td>Chinese</td>\n",
              "    </tr>\n",
              "    <tr>\n",
              "      <th>6702</th>\n",
              "      <td>6702</td>\n",
              "      <td>46.0</td>\n",
              "      <td>Male</td>\n",
              "      <td>Master's Degree</td>\n",
              "      <td>Marketing Manager</td>\n",
              "      <td>14.0</td>\n",
              "      <td>140000.0</td>\n",
              "      <td>China</td>\n",
              "      <td>Korean</td>\n",
              "    </tr>\n",
              "    <tr>\n",
              "      <th>6703</th>\n",
              "      <td>6703</td>\n",
              "      <td>26.0</td>\n",
              "      <td>Female</td>\n",
              "      <td>High School</td>\n",
              "      <td>Sales Executive</td>\n",
              "      <td>1.0</td>\n",
              "      <td>35000.0</td>\n",
              "      <td>Canada</td>\n",
              "      <td>Black</td>\n",
              "    </tr>\n",
              "  </tbody>\n",
              "</table>\n",
              "<p>6704 rows × 9 columns</p>\n",
              "</div>\n",
              "    <div class=\"colab-df-buttons\">\n",
              "\n",
              "  <div class=\"colab-df-container\">\n",
              "    <button class=\"colab-df-convert\" onclick=\"convertToInteractive('df-0666a1ec-f325-430a-912c-a3154a858aec')\"\n",
              "            title=\"Convert this dataframe to an interactive table.\"\n",
              "            style=\"display:none;\">\n",
              "\n",
              "  <svg xmlns=\"http://www.w3.org/2000/svg\" height=\"24px\" viewBox=\"0 -960 960 960\">\n",
              "    <path d=\"M120-120v-720h720v720H120Zm60-500h600v-160H180v160Zm220 220h160v-160H400v160Zm0 220h160v-160H400v160ZM180-400h160v-160H180v160Zm440 0h160v-160H620v160ZM180-180h160v-160H180v160Zm440 0h160v-160H620v160Z\"/>\n",
              "  </svg>\n",
              "    </button>\n",
              "\n",
              "  <style>\n",
              "    .colab-df-container {\n",
              "      display:flex;\n",
              "      gap: 12px;\n",
              "    }\n",
              "\n",
              "    .colab-df-convert {\n",
              "      background-color: #E8F0FE;\n",
              "      border: none;\n",
              "      border-radius: 50%;\n",
              "      cursor: pointer;\n",
              "      display: none;\n",
              "      fill: #1967D2;\n",
              "      height: 32px;\n",
              "      padding: 0 0 0 0;\n",
              "      width: 32px;\n",
              "    }\n",
              "\n",
              "    .colab-df-convert:hover {\n",
              "      background-color: #E2EBFA;\n",
              "      box-shadow: 0px 1px 2px rgba(60, 64, 67, 0.3), 0px 1px 3px 1px rgba(60, 64, 67, 0.15);\n",
              "      fill: #174EA6;\n",
              "    }\n",
              "\n",
              "    .colab-df-buttons div {\n",
              "      margin-bottom: 4px;\n",
              "    }\n",
              "\n",
              "    [theme=dark] .colab-df-convert {\n",
              "      background-color: #3B4455;\n",
              "      fill: #D2E3FC;\n",
              "    }\n",
              "\n",
              "    [theme=dark] .colab-df-convert:hover {\n",
              "      background-color: #434B5C;\n",
              "      box-shadow: 0px 1px 3px 1px rgba(0, 0, 0, 0.15);\n",
              "      filter: drop-shadow(0px 1px 2px rgba(0, 0, 0, 0.3));\n",
              "      fill: #FFFFFF;\n",
              "    }\n",
              "  </style>\n",
              "\n",
              "    <script>\n",
              "      const buttonEl =\n",
              "        document.querySelector('#df-0666a1ec-f325-430a-912c-a3154a858aec button.colab-df-convert');\n",
              "      buttonEl.style.display =\n",
              "        google.colab.kernel.accessAllowed ? 'block' : 'none';\n",
              "\n",
              "      async function convertToInteractive(key) {\n",
              "        const element = document.querySelector('#df-0666a1ec-f325-430a-912c-a3154a858aec');\n",
              "        const dataTable =\n",
              "          await google.colab.kernel.invokeFunction('convertToInteractive',\n",
              "                                                    [key], {});\n",
              "        if (!dataTable) return;\n",
              "\n",
              "        const docLinkHtml = 'Like what you see? Visit the ' +\n",
              "          '<a target=\"_blank\" href=https://colab.research.google.com/notebooks/data_table.ipynb>data table notebook</a>'\n",
              "          + ' to learn more about interactive tables.';\n",
              "        element.innerHTML = '';\n",
              "        dataTable['output_type'] = 'display_data';\n",
              "        await google.colab.output.renderOutput(dataTable, element);\n",
              "        const docLink = document.createElement('div');\n",
              "        docLink.innerHTML = docLinkHtml;\n",
              "        element.appendChild(docLink);\n",
              "      }\n",
              "    </script>\n",
              "  </div>\n",
              "\n",
              "\n",
              "<div id=\"df-9cbd84b4-dffc-4c82-abf7-db173a38d993\">\n",
              "  <button class=\"colab-df-quickchart\" onclick=\"quickchart('df-9cbd84b4-dffc-4c82-abf7-db173a38d993')\"\n",
              "            title=\"Suggest charts\"\n",
              "            style=\"display:none;\">\n",
              "\n",
              "<svg xmlns=\"http://www.w3.org/2000/svg\" height=\"24px\"viewBox=\"0 0 24 24\"\n",
              "     width=\"24px\">\n",
              "    <g>\n",
              "        <path d=\"M19 3H5c-1.1 0-2 .9-2 2v14c0 1.1.9 2 2 2h14c1.1 0 2-.9 2-2V5c0-1.1-.9-2-2-2zM9 17H7v-7h2v7zm4 0h-2V7h2v10zm4 0h-2v-4h2v4z\"/>\n",
              "    </g>\n",
              "</svg>\n",
              "  </button>\n",
              "\n",
              "<style>\n",
              "  .colab-df-quickchart {\n",
              "      --bg-color: #E8F0FE;\n",
              "      --fill-color: #1967D2;\n",
              "      --hover-bg-color: #E2EBFA;\n",
              "      --hover-fill-color: #174EA6;\n",
              "      --disabled-fill-color: #AAA;\n",
              "      --disabled-bg-color: #DDD;\n",
              "  }\n",
              "\n",
              "  [theme=dark] .colab-df-quickchart {\n",
              "      --bg-color: #3B4455;\n",
              "      --fill-color: #D2E3FC;\n",
              "      --hover-bg-color: #434B5C;\n",
              "      --hover-fill-color: #FFFFFF;\n",
              "      --disabled-bg-color: #3B4455;\n",
              "      --disabled-fill-color: #666;\n",
              "  }\n",
              "\n",
              "  .colab-df-quickchart {\n",
              "    background-color: var(--bg-color);\n",
              "    border: none;\n",
              "    border-radius: 50%;\n",
              "    cursor: pointer;\n",
              "    display: none;\n",
              "    fill: var(--fill-color);\n",
              "    height: 32px;\n",
              "    padding: 0;\n",
              "    width: 32px;\n",
              "  }\n",
              "\n",
              "  .colab-df-quickchart:hover {\n",
              "    background-color: var(--hover-bg-color);\n",
              "    box-shadow: 0 1px 2px rgba(60, 64, 67, 0.3), 0 1px 3px 1px rgba(60, 64, 67, 0.15);\n",
              "    fill: var(--button-hover-fill-color);\n",
              "  }\n",
              "\n",
              "  .colab-df-quickchart-complete:disabled,\n",
              "  .colab-df-quickchart-complete:disabled:hover {\n",
              "    background-color: var(--disabled-bg-color);\n",
              "    fill: var(--disabled-fill-color);\n",
              "    box-shadow: none;\n",
              "  }\n",
              "\n",
              "  .colab-df-spinner {\n",
              "    border: 2px solid var(--fill-color);\n",
              "    border-color: transparent;\n",
              "    border-bottom-color: var(--fill-color);\n",
              "    animation:\n",
              "      spin 1s steps(1) infinite;\n",
              "  }\n",
              "\n",
              "  @keyframes spin {\n",
              "    0% {\n",
              "      border-color: transparent;\n",
              "      border-bottom-color: var(--fill-color);\n",
              "      border-left-color: var(--fill-color);\n",
              "    }\n",
              "    20% {\n",
              "      border-color: transparent;\n",
              "      border-left-color: var(--fill-color);\n",
              "      border-top-color: var(--fill-color);\n",
              "    }\n",
              "    30% {\n",
              "      border-color: transparent;\n",
              "      border-left-color: var(--fill-color);\n",
              "      border-top-color: var(--fill-color);\n",
              "      border-right-color: var(--fill-color);\n",
              "    }\n",
              "    40% {\n",
              "      border-color: transparent;\n",
              "      border-right-color: var(--fill-color);\n",
              "      border-top-color: var(--fill-color);\n",
              "    }\n",
              "    60% {\n",
              "      border-color: transparent;\n",
              "      border-right-color: var(--fill-color);\n",
              "    }\n",
              "    80% {\n",
              "      border-color: transparent;\n",
              "      border-right-color: var(--fill-color);\n",
              "      border-bottom-color: var(--fill-color);\n",
              "    }\n",
              "    90% {\n",
              "      border-color: transparent;\n",
              "      border-bottom-color: var(--fill-color);\n",
              "    }\n",
              "  }\n",
              "</style>\n",
              "\n",
              "  <script>\n",
              "    async function quickchart(key) {\n",
              "      const quickchartButtonEl =\n",
              "        document.querySelector('#' + key + ' button');\n",
              "      quickchartButtonEl.disabled = true;  // To prevent multiple clicks.\n",
              "      quickchartButtonEl.classList.add('colab-df-spinner');\n",
              "      try {\n",
              "        const charts = await google.colab.kernel.invokeFunction(\n",
              "            'suggestCharts', [key], {});\n",
              "      } catch (error) {\n",
              "        console.error('Error during call to suggestCharts:', error);\n",
              "      }\n",
              "      quickchartButtonEl.classList.remove('colab-df-spinner');\n",
              "      quickchartButtonEl.classList.add('colab-df-quickchart-complete');\n",
              "    }\n",
              "    (() => {\n",
              "      let quickchartButtonEl =\n",
              "        document.querySelector('#df-9cbd84b4-dffc-4c82-abf7-db173a38d993 button');\n",
              "      quickchartButtonEl.style.display =\n",
              "        google.colab.kernel.accessAllowed ? 'block' : 'none';\n",
              "    })();\n",
              "  </script>\n",
              "</div>\n",
              "    </div>\n",
              "  </div>\n"
            ]
          },
          "metadata": {},
          "execution_count": 3
        }
      ]
    },
    {
      "cell_type": "code",
      "source": [
        "salary.info()"
      ],
      "metadata": {
        "colab": {
          "base_uri": "https://localhost:8080/"
        },
        "id": "kfxYD2OYIbPB",
        "outputId": "d01c7e35-0d71-45b0-ee24-27923cce7ac7"
      },
      "execution_count": null,
      "outputs": [
        {
          "output_type": "stream",
          "name": "stdout",
          "text": [
            "<class 'pandas.core.frame.DataFrame'>\n",
            "RangeIndex: 6704 entries, 0 to 6703\n",
            "Data columns (total 9 columns):\n",
            " #   Column               Non-Null Count  Dtype  \n",
            "---  ------               --------------  -----  \n",
            " 0   Unnamed: 0           6704 non-null   int64  \n",
            " 1   Age                  6702 non-null   float64\n",
            " 2   Gender               6702 non-null   object \n",
            " 3   Education Level      6701 non-null   object \n",
            " 4   Job Title            6702 non-null   object \n",
            " 5   Years of Experience  6701 non-null   float64\n",
            " 6   Salary               6699 non-null   float64\n",
            " 7   Country              6704 non-null   object \n",
            " 8   Race                 6704 non-null   object \n",
            "dtypes: float64(3), int64(1), object(5)\n",
            "memory usage: 471.5+ KB\n"
          ]
        }
      ]
    },
    {
      "cell_type": "markdown",
      "source": [
        "По общей информации можно заметить, что типы данных соответствуют информации в столбцах, единственное, столбец Age можно привести к типу int, т.к. данные целочисленные.\n",
        "\n",
        "Также видно, что имеются пропуски в столбцах."
      ],
      "metadata": {
        "id": "4TWjLTnLJjjj"
      }
    },
    {
      "cell_type": "code",
      "source": [
        "salary['Age'] = salary['Age'].astype('Int64')\n",
        "salary['Age'].info()"
      ],
      "metadata": {
        "colab": {
          "base_uri": "https://localhost:8080/"
        },
        "id": "h4klJZ8EKj7w",
        "outputId": "a03ed4e5-6c25-4007-cb09-c7ac3c402b9e"
      },
      "execution_count": null,
      "outputs": [
        {
          "output_type": "stream",
          "name": "stdout",
          "text": [
            "<class 'pandas.core.series.Series'>\n",
            "RangeIndex: 6704 entries, 0 to 6703\n",
            "Series name: Age\n",
            "Non-Null Count  Dtype\n",
            "--------------  -----\n",
            "6702 non-null   Int64\n",
            "dtypes: Int64(1)\n",
            "memory usage: 59.0 KB\n"
          ]
        }
      ]
    },
    {
      "cell_type": "code",
      "source": [
        "#Базовые статистики\n",
        "salary.drop('Unnamed: 0',axis=1).describe()"
      ],
      "metadata": {
        "colab": {
          "base_uri": "https://localhost:8080/",
          "height": 300
        },
        "id": "F3eHr2e7MRsS",
        "outputId": "85338adf-9610-4a16-acc6-7ce31ff6b98a"
      },
      "execution_count": null,
      "outputs": [
        {
          "output_type": "execute_result",
          "data": {
            "text/plain": [
              "             Age  Years of Experience         Salary\n",
              "count     6702.0          6701.000000    6699.000000\n",
              "mean   33.620859             8.094687  115326.964771\n",
              "std     7.614633             6.059003   52786.183911\n",
              "min         21.0             0.000000     350.000000\n",
              "25%         28.0             3.000000   70000.000000\n",
              "50%         32.0             7.000000  115000.000000\n",
              "75%         38.0            12.000000  160000.000000\n",
              "max         62.0            34.000000  250000.000000"
            ],
            "text/html": [
              "\n",
              "  <div id=\"df-3dcaa6b0-ca36-4d4f-b151-dfffc4751e88\" class=\"colab-df-container\">\n",
              "    <div>\n",
              "<style scoped>\n",
              "    .dataframe tbody tr th:only-of-type {\n",
              "        vertical-align: middle;\n",
              "    }\n",
              "\n",
              "    .dataframe tbody tr th {\n",
              "        vertical-align: top;\n",
              "    }\n",
              "\n",
              "    .dataframe thead th {\n",
              "        text-align: right;\n",
              "    }\n",
              "</style>\n",
              "<table border=\"1\" class=\"dataframe\">\n",
              "  <thead>\n",
              "    <tr style=\"text-align: right;\">\n",
              "      <th></th>\n",
              "      <th>Age</th>\n",
              "      <th>Years of Experience</th>\n",
              "      <th>Salary</th>\n",
              "    </tr>\n",
              "  </thead>\n",
              "  <tbody>\n",
              "    <tr>\n",
              "      <th>count</th>\n",
              "      <td>6702.0</td>\n",
              "      <td>6701.000000</td>\n",
              "      <td>6699.000000</td>\n",
              "    </tr>\n",
              "    <tr>\n",
              "      <th>mean</th>\n",
              "      <td>33.620859</td>\n",
              "      <td>8.094687</td>\n",
              "      <td>115326.964771</td>\n",
              "    </tr>\n",
              "    <tr>\n",
              "      <th>std</th>\n",
              "      <td>7.614633</td>\n",
              "      <td>6.059003</td>\n",
              "      <td>52786.183911</td>\n",
              "    </tr>\n",
              "    <tr>\n",
              "      <th>min</th>\n",
              "      <td>21.0</td>\n",
              "      <td>0.000000</td>\n",
              "      <td>350.000000</td>\n",
              "    </tr>\n",
              "    <tr>\n",
              "      <th>25%</th>\n",
              "      <td>28.0</td>\n",
              "      <td>3.000000</td>\n",
              "      <td>70000.000000</td>\n",
              "    </tr>\n",
              "    <tr>\n",
              "      <th>50%</th>\n",
              "      <td>32.0</td>\n",
              "      <td>7.000000</td>\n",
              "      <td>115000.000000</td>\n",
              "    </tr>\n",
              "    <tr>\n",
              "      <th>75%</th>\n",
              "      <td>38.0</td>\n",
              "      <td>12.000000</td>\n",
              "      <td>160000.000000</td>\n",
              "    </tr>\n",
              "    <tr>\n",
              "      <th>max</th>\n",
              "      <td>62.0</td>\n",
              "      <td>34.000000</td>\n",
              "      <td>250000.000000</td>\n",
              "    </tr>\n",
              "  </tbody>\n",
              "</table>\n",
              "</div>\n",
              "    <div class=\"colab-df-buttons\">\n",
              "\n",
              "  <div class=\"colab-df-container\">\n",
              "    <button class=\"colab-df-convert\" onclick=\"convertToInteractive('df-3dcaa6b0-ca36-4d4f-b151-dfffc4751e88')\"\n",
              "            title=\"Convert this dataframe to an interactive table.\"\n",
              "            style=\"display:none;\">\n",
              "\n",
              "  <svg xmlns=\"http://www.w3.org/2000/svg\" height=\"24px\" viewBox=\"0 -960 960 960\">\n",
              "    <path d=\"M120-120v-720h720v720H120Zm60-500h600v-160H180v160Zm220 220h160v-160H400v160Zm0 220h160v-160H400v160ZM180-400h160v-160H180v160Zm440 0h160v-160H620v160ZM180-180h160v-160H180v160Zm440 0h160v-160H620v160Z\"/>\n",
              "  </svg>\n",
              "    </button>\n",
              "\n",
              "  <style>\n",
              "    .colab-df-container {\n",
              "      display:flex;\n",
              "      gap: 12px;\n",
              "    }\n",
              "\n",
              "    .colab-df-convert {\n",
              "      background-color: #E8F0FE;\n",
              "      border: none;\n",
              "      border-radius: 50%;\n",
              "      cursor: pointer;\n",
              "      display: none;\n",
              "      fill: #1967D2;\n",
              "      height: 32px;\n",
              "      padding: 0 0 0 0;\n",
              "      width: 32px;\n",
              "    }\n",
              "\n",
              "    .colab-df-convert:hover {\n",
              "      background-color: #E2EBFA;\n",
              "      box-shadow: 0px 1px 2px rgba(60, 64, 67, 0.3), 0px 1px 3px 1px rgba(60, 64, 67, 0.15);\n",
              "      fill: #174EA6;\n",
              "    }\n",
              "\n",
              "    .colab-df-buttons div {\n",
              "      margin-bottom: 4px;\n",
              "    }\n",
              "\n",
              "    [theme=dark] .colab-df-convert {\n",
              "      background-color: #3B4455;\n",
              "      fill: #D2E3FC;\n",
              "    }\n",
              "\n",
              "    [theme=dark] .colab-df-convert:hover {\n",
              "      background-color: #434B5C;\n",
              "      box-shadow: 0px 1px 3px 1px rgba(0, 0, 0, 0.15);\n",
              "      filter: drop-shadow(0px 1px 2px rgba(0, 0, 0, 0.3));\n",
              "      fill: #FFFFFF;\n",
              "    }\n",
              "  </style>\n",
              "\n",
              "    <script>\n",
              "      const buttonEl =\n",
              "        document.querySelector('#df-3dcaa6b0-ca36-4d4f-b151-dfffc4751e88 button.colab-df-convert');\n",
              "      buttonEl.style.display =\n",
              "        google.colab.kernel.accessAllowed ? 'block' : 'none';\n",
              "\n",
              "      async function convertToInteractive(key) {\n",
              "        const element = document.querySelector('#df-3dcaa6b0-ca36-4d4f-b151-dfffc4751e88');\n",
              "        const dataTable =\n",
              "          await google.colab.kernel.invokeFunction('convertToInteractive',\n",
              "                                                    [key], {});\n",
              "        if (!dataTable) return;\n",
              "\n",
              "        const docLinkHtml = 'Like what you see? Visit the ' +\n",
              "          '<a target=\"_blank\" href=https://colab.research.google.com/notebooks/data_table.ipynb>data table notebook</a>'\n",
              "          + ' to learn more about interactive tables.';\n",
              "        element.innerHTML = '';\n",
              "        dataTable['output_type'] = 'display_data';\n",
              "        await google.colab.output.renderOutput(dataTable, element);\n",
              "        const docLink = document.createElement('div');\n",
              "        docLink.innerHTML = docLinkHtml;\n",
              "        element.appendChild(docLink);\n",
              "      }\n",
              "    </script>\n",
              "  </div>\n",
              "\n",
              "\n",
              "<div id=\"df-01eca0e3-160f-4763-88f3-54d1ce1d0047\">\n",
              "  <button class=\"colab-df-quickchart\" onclick=\"quickchart('df-01eca0e3-160f-4763-88f3-54d1ce1d0047')\"\n",
              "            title=\"Suggest charts\"\n",
              "            style=\"display:none;\">\n",
              "\n",
              "<svg xmlns=\"http://www.w3.org/2000/svg\" height=\"24px\"viewBox=\"0 0 24 24\"\n",
              "     width=\"24px\">\n",
              "    <g>\n",
              "        <path d=\"M19 3H5c-1.1 0-2 .9-2 2v14c0 1.1.9 2 2 2h14c1.1 0 2-.9 2-2V5c0-1.1-.9-2-2-2zM9 17H7v-7h2v7zm4 0h-2V7h2v10zm4 0h-2v-4h2v4z\"/>\n",
              "    </g>\n",
              "</svg>\n",
              "  </button>\n",
              "\n",
              "<style>\n",
              "  .colab-df-quickchart {\n",
              "      --bg-color: #E8F0FE;\n",
              "      --fill-color: #1967D2;\n",
              "      --hover-bg-color: #E2EBFA;\n",
              "      --hover-fill-color: #174EA6;\n",
              "      --disabled-fill-color: #AAA;\n",
              "      --disabled-bg-color: #DDD;\n",
              "  }\n",
              "\n",
              "  [theme=dark] .colab-df-quickchart {\n",
              "      --bg-color: #3B4455;\n",
              "      --fill-color: #D2E3FC;\n",
              "      --hover-bg-color: #434B5C;\n",
              "      --hover-fill-color: #FFFFFF;\n",
              "      --disabled-bg-color: #3B4455;\n",
              "      --disabled-fill-color: #666;\n",
              "  }\n",
              "\n",
              "  .colab-df-quickchart {\n",
              "    background-color: var(--bg-color);\n",
              "    border: none;\n",
              "    border-radius: 50%;\n",
              "    cursor: pointer;\n",
              "    display: none;\n",
              "    fill: var(--fill-color);\n",
              "    height: 32px;\n",
              "    padding: 0;\n",
              "    width: 32px;\n",
              "  }\n",
              "\n",
              "  .colab-df-quickchart:hover {\n",
              "    background-color: var(--hover-bg-color);\n",
              "    box-shadow: 0 1px 2px rgba(60, 64, 67, 0.3), 0 1px 3px 1px rgba(60, 64, 67, 0.15);\n",
              "    fill: var(--button-hover-fill-color);\n",
              "  }\n",
              "\n",
              "  .colab-df-quickchart-complete:disabled,\n",
              "  .colab-df-quickchart-complete:disabled:hover {\n",
              "    background-color: var(--disabled-bg-color);\n",
              "    fill: var(--disabled-fill-color);\n",
              "    box-shadow: none;\n",
              "  }\n",
              "\n",
              "  .colab-df-spinner {\n",
              "    border: 2px solid var(--fill-color);\n",
              "    border-color: transparent;\n",
              "    border-bottom-color: var(--fill-color);\n",
              "    animation:\n",
              "      spin 1s steps(1) infinite;\n",
              "  }\n",
              "\n",
              "  @keyframes spin {\n",
              "    0% {\n",
              "      border-color: transparent;\n",
              "      border-bottom-color: var(--fill-color);\n",
              "      border-left-color: var(--fill-color);\n",
              "    }\n",
              "    20% {\n",
              "      border-color: transparent;\n",
              "      border-left-color: var(--fill-color);\n",
              "      border-top-color: var(--fill-color);\n",
              "    }\n",
              "    30% {\n",
              "      border-color: transparent;\n",
              "      border-left-color: var(--fill-color);\n",
              "      border-top-color: var(--fill-color);\n",
              "      border-right-color: var(--fill-color);\n",
              "    }\n",
              "    40% {\n",
              "      border-color: transparent;\n",
              "      border-right-color: var(--fill-color);\n",
              "      border-top-color: var(--fill-color);\n",
              "    }\n",
              "    60% {\n",
              "      border-color: transparent;\n",
              "      border-right-color: var(--fill-color);\n",
              "    }\n",
              "    80% {\n",
              "      border-color: transparent;\n",
              "      border-right-color: var(--fill-color);\n",
              "      border-bottom-color: var(--fill-color);\n",
              "    }\n",
              "    90% {\n",
              "      border-color: transparent;\n",
              "      border-bottom-color: var(--fill-color);\n",
              "    }\n",
              "  }\n",
              "</style>\n",
              "\n",
              "  <script>\n",
              "    async function quickchart(key) {\n",
              "      const quickchartButtonEl =\n",
              "        document.querySelector('#' + key + ' button');\n",
              "      quickchartButtonEl.disabled = true;  // To prevent multiple clicks.\n",
              "      quickchartButtonEl.classList.add('colab-df-spinner');\n",
              "      try {\n",
              "        const charts = await google.colab.kernel.invokeFunction(\n",
              "            'suggestCharts', [key], {});\n",
              "      } catch (error) {\n",
              "        console.error('Error during call to suggestCharts:', error);\n",
              "      }\n",
              "      quickchartButtonEl.classList.remove('colab-df-spinner');\n",
              "      quickchartButtonEl.classList.add('colab-df-quickchart-complete');\n",
              "    }\n",
              "    (() => {\n",
              "      let quickchartButtonEl =\n",
              "        document.querySelector('#df-01eca0e3-160f-4763-88f3-54d1ce1d0047 button');\n",
              "      quickchartButtonEl.style.display =\n",
              "        google.colab.kernel.accessAllowed ? 'block' : 'none';\n",
              "    })();\n",
              "  </script>\n",
              "</div>\n",
              "    </div>\n",
              "  </div>\n"
            ]
          },
          "metadata": {},
          "execution_count": 6
        }
      ]
    },
    {
      "cell_type": "markdown",
      "source": [
        "2 Найдите выбросы в данных, для наглядности используйте соответствующие типы визуализаций. Попробуйте объяснить их появление в наборе."
      ],
      "metadata": {
        "id": "0sKsR-9rPBLY"
      }
    },
    {
      "cell_type": "markdown",
      "source": [
        "Анализ выбросов в столбце Age"
      ],
      "metadata": {
        "id": "anWkbSMCRdFF"
      }
    },
    {
      "cell_type": "code",
      "source": [
        "#в общей информации по столбцу видно, что в нем присутствуют 2 пропуска, поэтому дальше считаем выбросы, не учитывая пропуски\n",
        "sal_nona = salary.dropna(subset='Age')\n",
        "q1 = sal_nona['Age'].quantile(0.25)\n",
        "q3 = sal_nona['Age'].quantile(0.75)\n",
        "iqr = q3 - q1\n",
        "lower_bound = q1 - (1.5 * iqr)\n",
        "upper_bound = q3 + (1.5 * iqr)\n",
        "sal_nona[~sal_nona['Age'].between(lower_bound, upper_bound, inclusive='both')]"
      ],
      "metadata": {
        "colab": {
          "base_uri": "https://localhost:8080/",
          "height": 424
        },
        "id": "xxb79IfnO5vJ",
        "outputId": "3ccb6633-9222-4bd5-e990-865b7667ca2a"
      },
      "execution_count": null,
      "outputs": [
        {
          "output_type": "execute_result",
          "data": {
            "text/plain": [
              "      Unnamed: 0  Age  Gender    Education Level                  Job Title  \\\n",
              "1211        1211   61    Male                PhD  Software Engineer Manager   \n",
              "1223        1223   57    Male                PhD  Software Engineer Manager   \n",
              "1225        1225   62    Male                PhD  Software Engineer Manager   \n",
              "1236        1236   62    Male                PhD  Software Engineer Manager   \n",
              "1240        1240   55    Male                PhD  Software Engineer Manager   \n",
              "...          ...  ...     ...                ...                        ...   \n",
              "3058        3058   54    Male    Master's Degree   Senior Software Engineer   \n",
              "3067        3067   54    Male  Bachelor's Degree        Full Stack Engineer   \n",
              "3084        3084   54  Female                PhD  Software Engineer Manager   \n",
              "3104        3104   54    Male                PhD  Software Engineer Manager   \n",
              "3120        3120   54    Male                PhD  Software Engineer Manager   \n",
              "\n",
              "      Years of Experience    Salary    Country              Race  \n",
              "1211                 20.0  200000.0         UK             Welsh  \n",
              "1223                 18.0  195000.0      China             White  \n",
              "1225                 19.0  200000.0         UK             White  \n",
              "1236                 20.0  200000.0      China            Korean  \n",
              "1240                 17.0  190000.0        USA  African American  \n",
              "...                   ...       ...        ...               ...  \n",
              "3058                 32.0  195270.0     Canada             Asian  \n",
              "3067                 25.0  179756.0         UK             Mixed  \n",
              "3084                 32.0  191510.0      China           Chinese  \n",
              "3104                 30.0  184660.0  Australia        Australian  \n",
              "3120                 28.0  182013.0        USA  African American  \n",
              "\n",
              "[123 rows x 9 columns]"
            ],
            "text/html": [
              "\n",
              "  <div id=\"df-5905413a-be87-4095-8c3e-a32cbe3836b6\" class=\"colab-df-container\">\n",
              "    <div>\n",
              "<style scoped>\n",
              "    .dataframe tbody tr th:only-of-type {\n",
              "        vertical-align: middle;\n",
              "    }\n",
              "\n",
              "    .dataframe tbody tr th {\n",
              "        vertical-align: top;\n",
              "    }\n",
              "\n",
              "    .dataframe thead th {\n",
              "        text-align: right;\n",
              "    }\n",
              "</style>\n",
              "<table border=\"1\" class=\"dataframe\">\n",
              "  <thead>\n",
              "    <tr style=\"text-align: right;\">\n",
              "      <th></th>\n",
              "      <th>Unnamed: 0</th>\n",
              "      <th>Age</th>\n",
              "      <th>Gender</th>\n",
              "      <th>Education Level</th>\n",
              "      <th>Job Title</th>\n",
              "      <th>Years of Experience</th>\n",
              "      <th>Salary</th>\n",
              "      <th>Country</th>\n",
              "      <th>Race</th>\n",
              "    </tr>\n",
              "  </thead>\n",
              "  <tbody>\n",
              "    <tr>\n",
              "      <th>1211</th>\n",
              "      <td>1211</td>\n",
              "      <td>61</td>\n",
              "      <td>Male</td>\n",
              "      <td>PhD</td>\n",
              "      <td>Software Engineer Manager</td>\n",
              "      <td>20.0</td>\n",
              "      <td>200000.0</td>\n",
              "      <td>UK</td>\n",
              "      <td>Welsh</td>\n",
              "    </tr>\n",
              "    <tr>\n",
              "      <th>1223</th>\n",
              "      <td>1223</td>\n",
              "      <td>57</td>\n",
              "      <td>Male</td>\n",
              "      <td>PhD</td>\n",
              "      <td>Software Engineer Manager</td>\n",
              "      <td>18.0</td>\n",
              "      <td>195000.0</td>\n",
              "      <td>China</td>\n",
              "      <td>White</td>\n",
              "    </tr>\n",
              "    <tr>\n",
              "      <th>1225</th>\n",
              "      <td>1225</td>\n",
              "      <td>62</td>\n",
              "      <td>Male</td>\n",
              "      <td>PhD</td>\n",
              "      <td>Software Engineer Manager</td>\n",
              "      <td>19.0</td>\n",
              "      <td>200000.0</td>\n",
              "      <td>UK</td>\n",
              "      <td>White</td>\n",
              "    </tr>\n",
              "    <tr>\n",
              "      <th>1236</th>\n",
              "      <td>1236</td>\n",
              "      <td>62</td>\n",
              "      <td>Male</td>\n",
              "      <td>PhD</td>\n",
              "      <td>Software Engineer Manager</td>\n",
              "      <td>20.0</td>\n",
              "      <td>200000.0</td>\n",
              "      <td>China</td>\n",
              "      <td>Korean</td>\n",
              "    </tr>\n",
              "    <tr>\n",
              "      <th>1240</th>\n",
              "      <td>1240</td>\n",
              "      <td>55</td>\n",
              "      <td>Male</td>\n",
              "      <td>PhD</td>\n",
              "      <td>Software Engineer Manager</td>\n",
              "      <td>17.0</td>\n",
              "      <td>190000.0</td>\n",
              "      <td>USA</td>\n",
              "      <td>African American</td>\n",
              "    </tr>\n",
              "    <tr>\n",
              "      <th>...</th>\n",
              "      <td>...</td>\n",
              "      <td>...</td>\n",
              "      <td>...</td>\n",
              "      <td>...</td>\n",
              "      <td>...</td>\n",
              "      <td>...</td>\n",
              "      <td>...</td>\n",
              "      <td>...</td>\n",
              "      <td>...</td>\n",
              "    </tr>\n",
              "    <tr>\n",
              "      <th>3058</th>\n",
              "      <td>3058</td>\n",
              "      <td>54</td>\n",
              "      <td>Male</td>\n",
              "      <td>Master's Degree</td>\n",
              "      <td>Senior Software Engineer</td>\n",
              "      <td>32.0</td>\n",
              "      <td>195270.0</td>\n",
              "      <td>Canada</td>\n",
              "      <td>Asian</td>\n",
              "    </tr>\n",
              "    <tr>\n",
              "      <th>3067</th>\n",
              "      <td>3067</td>\n",
              "      <td>54</td>\n",
              "      <td>Male</td>\n",
              "      <td>Bachelor's Degree</td>\n",
              "      <td>Full Stack Engineer</td>\n",
              "      <td>25.0</td>\n",
              "      <td>179756.0</td>\n",
              "      <td>UK</td>\n",
              "      <td>Mixed</td>\n",
              "    </tr>\n",
              "    <tr>\n",
              "      <th>3084</th>\n",
              "      <td>3084</td>\n",
              "      <td>54</td>\n",
              "      <td>Female</td>\n",
              "      <td>PhD</td>\n",
              "      <td>Software Engineer Manager</td>\n",
              "      <td>32.0</td>\n",
              "      <td>191510.0</td>\n",
              "      <td>China</td>\n",
              "      <td>Chinese</td>\n",
              "    </tr>\n",
              "    <tr>\n",
              "      <th>3104</th>\n",
              "      <td>3104</td>\n",
              "      <td>54</td>\n",
              "      <td>Male</td>\n",
              "      <td>PhD</td>\n",
              "      <td>Software Engineer Manager</td>\n",
              "      <td>30.0</td>\n",
              "      <td>184660.0</td>\n",
              "      <td>Australia</td>\n",
              "      <td>Australian</td>\n",
              "    </tr>\n",
              "    <tr>\n",
              "      <th>3120</th>\n",
              "      <td>3120</td>\n",
              "      <td>54</td>\n",
              "      <td>Male</td>\n",
              "      <td>PhD</td>\n",
              "      <td>Software Engineer Manager</td>\n",
              "      <td>28.0</td>\n",
              "      <td>182013.0</td>\n",
              "      <td>USA</td>\n",
              "      <td>African American</td>\n",
              "    </tr>\n",
              "  </tbody>\n",
              "</table>\n",
              "<p>123 rows × 9 columns</p>\n",
              "</div>\n",
              "    <div class=\"colab-df-buttons\">\n",
              "\n",
              "  <div class=\"colab-df-container\">\n",
              "    <button class=\"colab-df-convert\" onclick=\"convertToInteractive('df-5905413a-be87-4095-8c3e-a32cbe3836b6')\"\n",
              "            title=\"Convert this dataframe to an interactive table.\"\n",
              "            style=\"display:none;\">\n",
              "\n",
              "  <svg xmlns=\"http://www.w3.org/2000/svg\" height=\"24px\" viewBox=\"0 -960 960 960\">\n",
              "    <path d=\"M120-120v-720h720v720H120Zm60-500h600v-160H180v160Zm220 220h160v-160H400v160Zm0 220h160v-160H400v160ZM180-400h160v-160H180v160Zm440 0h160v-160H620v160ZM180-180h160v-160H180v160Zm440 0h160v-160H620v160Z\"/>\n",
              "  </svg>\n",
              "    </button>\n",
              "\n",
              "  <style>\n",
              "    .colab-df-container {\n",
              "      display:flex;\n",
              "      gap: 12px;\n",
              "    }\n",
              "\n",
              "    .colab-df-convert {\n",
              "      background-color: #E8F0FE;\n",
              "      border: none;\n",
              "      border-radius: 50%;\n",
              "      cursor: pointer;\n",
              "      display: none;\n",
              "      fill: #1967D2;\n",
              "      height: 32px;\n",
              "      padding: 0 0 0 0;\n",
              "      width: 32px;\n",
              "    }\n",
              "\n",
              "    .colab-df-convert:hover {\n",
              "      background-color: #E2EBFA;\n",
              "      box-shadow: 0px 1px 2px rgba(60, 64, 67, 0.3), 0px 1px 3px 1px rgba(60, 64, 67, 0.15);\n",
              "      fill: #174EA6;\n",
              "    }\n",
              "\n",
              "    .colab-df-buttons div {\n",
              "      margin-bottom: 4px;\n",
              "    }\n",
              "\n",
              "    [theme=dark] .colab-df-convert {\n",
              "      background-color: #3B4455;\n",
              "      fill: #D2E3FC;\n",
              "    }\n",
              "\n",
              "    [theme=dark] .colab-df-convert:hover {\n",
              "      background-color: #434B5C;\n",
              "      box-shadow: 0px 1px 3px 1px rgba(0, 0, 0, 0.15);\n",
              "      filter: drop-shadow(0px 1px 2px rgba(0, 0, 0, 0.3));\n",
              "      fill: #FFFFFF;\n",
              "    }\n",
              "  </style>\n",
              "\n",
              "    <script>\n",
              "      const buttonEl =\n",
              "        document.querySelector('#df-5905413a-be87-4095-8c3e-a32cbe3836b6 button.colab-df-convert');\n",
              "      buttonEl.style.display =\n",
              "        google.colab.kernel.accessAllowed ? 'block' : 'none';\n",
              "\n",
              "      async function convertToInteractive(key) {\n",
              "        const element = document.querySelector('#df-5905413a-be87-4095-8c3e-a32cbe3836b6');\n",
              "        const dataTable =\n",
              "          await google.colab.kernel.invokeFunction('convertToInteractive',\n",
              "                                                    [key], {});\n",
              "        if (!dataTable) return;\n",
              "\n",
              "        const docLinkHtml = 'Like what you see? Visit the ' +\n",
              "          '<a target=\"_blank\" href=https://colab.research.google.com/notebooks/data_table.ipynb>data table notebook</a>'\n",
              "          + ' to learn more about interactive tables.';\n",
              "        element.innerHTML = '';\n",
              "        dataTable['output_type'] = 'display_data';\n",
              "        await google.colab.output.renderOutput(dataTable, element);\n",
              "        const docLink = document.createElement('div');\n",
              "        docLink.innerHTML = docLinkHtml;\n",
              "        element.appendChild(docLink);\n",
              "      }\n",
              "    </script>\n",
              "  </div>\n",
              "\n",
              "\n",
              "<div id=\"df-880e0276-cfa2-42a9-9dba-e93df45e76b5\">\n",
              "  <button class=\"colab-df-quickchart\" onclick=\"quickchart('df-880e0276-cfa2-42a9-9dba-e93df45e76b5')\"\n",
              "            title=\"Suggest charts\"\n",
              "            style=\"display:none;\">\n",
              "\n",
              "<svg xmlns=\"http://www.w3.org/2000/svg\" height=\"24px\"viewBox=\"0 0 24 24\"\n",
              "     width=\"24px\">\n",
              "    <g>\n",
              "        <path d=\"M19 3H5c-1.1 0-2 .9-2 2v14c0 1.1.9 2 2 2h14c1.1 0 2-.9 2-2V5c0-1.1-.9-2-2-2zM9 17H7v-7h2v7zm4 0h-2V7h2v10zm4 0h-2v-4h2v4z\"/>\n",
              "    </g>\n",
              "</svg>\n",
              "  </button>\n",
              "\n",
              "<style>\n",
              "  .colab-df-quickchart {\n",
              "      --bg-color: #E8F0FE;\n",
              "      --fill-color: #1967D2;\n",
              "      --hover-bg-color: #E2EBFA;\n",
              "      --hover-fill-color: #174EA6;\n",
              "      --disabled-fill-color: #AAA;\n",
              "      --disabled-bg-color: #DDD;\n",
              "  }\n",
              "\n",
              "  [theme=dark] .colab-df-quickchart {\n",
              "      --bg-color: #3B4455;\n",
              "      --fill-color: #D2E3FC;\n",
              "      --hover-bg-color: #434B5C;\n",
              "      --hover-fill-color: #FFFFFF;\n",
              "      --disabled-bg-color: #3B4455;\n",
              "      --disabled-fill-color: #666;\n",
              "  }\n",
              "\n",
              "  .colab-df-quickchart {\n",
              "    background-color: var(--bg-color);\n",
              "    border: none;\n",
              "    border-radius: 50%;\n",
              "    cursor: pointer;\n",
              "    display: none;\n",
              "    fill: var(--fill-color);\n",
              "    height: 32px;\n",
              "    padding: 0;\n",
              "    width: 32px;\n",
              "  }\n",
              "\n",
              "  .colab-df-quickchart:hover {\n",
              "    background-color: var(--hover-bg-color);\n",
              "    box-shadow: 0 1px 2px rgba(60, 64, 67, 0.3), 0 1px 3px 1px rgba(60, 64, 67, 0.15);\n",
              "    fill: var(--button-hover-fill-color);\n",
              "  }\n",
              "\n",
              "  .colab-df-quickchart-complete:disabled,\n",
              "  .colab-df-quickchart-complete:disabled:hover {\n",
              "    background-color: var(--disabled-bg-color);\n",
              "    fill: var(--disabled-fill-color);\n",
              "    box-shadow: none;\n",
              "  }\n",
              "\n",
              "  .colab-df-spinner {\n",
              "    border: 2px solid var(--fill-color);\n",
              "    border-color: transparent;\n",
              "    border-bottom-color: var(--fill-color);\n",
              "    animation:\n",
              "      spin 1s steps(1) infinite;\n",
              "  }\n",
              "\n",
              "  @keyframes spin {\n",
              "    0% {\n",
              "      border-color: transparent;\n",
              "      border-bottom-color: var(--fill-color);\n",
              "      border-left-color: var(--fill-color);\n",
              "    }\n",
              "    20% {\n",
              "      border-color: transparent;\n",
              "      border-left-color: var(--fill-color);\n",
              "      border-top-color: var(--fill-color);\n",
              "    }\n",
              "    30% {\n",
              "      border-color: transparent;\n",
              "      border-left-color: var(--fill-color);\n",
              "      border-top-color: var(--fill-color);\n",
              "      border-right-color: var(--fill-color);\n",
              "    }\n",
              "    40% {\n",
              "      border-color: transparent;\n",
              "      border-right-color: var(--fill-color);\n",
              "      border-top-color: var(--fill-color);\n",
              "    }\n",
              "    60% {\n",
              "      border-color: transparent;\n",
              "      border-right-color: var(--fill-color);\n",
              "    }\n",
              "    80% {\n",
              "      border-color: transparent;\n",
              "      border-right-color: var(--fill-color);\n",
              "      border-bottom-color: var(--fill-color);\n",
              "    }\n",
              "    90% {\n",
              "      border-color: transparent;\n",
              "      border-bottom-color: var(--fill-color);\n",
              "    }\n",
              "  }\n",
              "</style>\n",
              "\n",
              "  <script>\n",
              "    async function quickchart(key) {\n",
              "      const quickchartButtonEl =\n",
              "        document.querySelector('#' + key + ' button');\n",
              "      quickchartButtonEl.disabled = true;  // To prevent multiple clicks.\n",
              "      quickchartButtonEl.classList.add('colab-df-spinner');\n",
              "      try {\n",
              "        const charts = await google.colab.kernel.invokeFunction(\n",
              "            'suggestCharts', [key], {});\n",
              "      } catch (error) {\n",
              "        console.error('Error during call to suggestCharts:', error);\n",
              "      }\n",
              "      quickchartButtonEl.classList.remove('colab-df-spinner');\n",
              "      quickchartButtonEl.classList.add('colab-df-quickchart-complete');\n",
              "    }\n",
              "    (() => {\n",
              "      let quickchartButtonEl =\n",
              "        document.querySelector('#df-880e0276-cfa2-42a9-9dba-e93df45e76b5 button');\n",
              "      quickchartButtonEl.style.display =\n",
              "        google.colab.kernel.accessAllowed ? 'block' : 'none';\n",
              "    })();\n",
              "  </script>\n",
              "</div>\n",
              "    </div>\n",
              "  </div>\n"
            ]
          },
          "metadata": {},
          "execution_count": 7
        }
      ]
    },
    {
      "cell_type": "code",
      "source": [
        "sns.boxplot(data=sal_nona['Age'])\n",
        "plt.title(\"Возраст\")\n",
        "plt.show()"
      ],
      "metadata": {
        "colab": {
          "base_uri": "https://localhost:8080/",
          "height": 433
        },
        "id": "fXSd-ASHUAEf",
        "outputId": "7d057f6d-cfab-494b-fef7-1981e42a36d2"
      },
      "execution_count": null,
      "outputs": [
        {
          "output_type": "display_data",
          "data": {
            "text/plain": [
              "<Figure size 640x480 with 1 Axes>"
            ],
            "image/png": "[encoded data removed]"
          },
          "metadata": {}
        }
      ]
    },
    {
      "cell_type": "markdown",
      "source": [
        "По полученным данным и диаграмме с усами видно, что за выбросы принимаются люди возрастом немного больше 50-ти лет и старше. Думаю, что в данном случае это связано с тем, что в датасете бОльшее количество данных на людей среднего возраста 28-38 лет. Поэтому и получается, что, относительно средних значений, данные 50+ лет выходят за пределы вычисленных границ."
      ],
      "metadata": {
        "id": "-qyT3A3yXJDz"
      }
    },
    {
      "cell_type": "markdown",
      "source": [
        "Анализ выбросов в столбце Years of Experience"
      ],
      "metadata": {
        "id": "fODW8XgZY9jT"
      }
    },
    {
      "cell_type": "code",
      "source": [
        "years_nona = salary.dropna(subset='Years of Experience')\n",
        "q1 = years_nona['Years of Experience'].quantile(0.25)\n",
        "q3 = years_nona['Years of Experience'].quantile(0.75)\n",
        "iqr2 = q3 - q1\n",
        "lower_bound = q1 - (1.5 * iqr2)\n",
        "upper_bound = q3 + (1.5 * iqr2)\n",
        "years_nona[~years_nona['Years of Experience'].between(lower_bound, upper_bound, inclusive='both')]"
      ],
      "metadata": {
        "colab": {
          "base_uri": "https://localhost:8080/",
          "height": 424
        },
        "id": "hJDFMeAzY120",
        "outputId": "b1ea6aa7-9372-45fe-f720-5c8eaaceee63"
      },
      "execution_count": null,
      "outputs": [
        {
          "output_type": "execute_result",
          "data": {
            "text/plain": [
              "      Unnamed: 0  Age  Gender  Education Level                  Job Title  \\\n",
              "2378        2378   53   Other      High School    Senior Project Engineer   \n",
              "2387        2387   57  Female              PhD        Full Stack Engineer   \n",
              "2392        2392   52  Female  Master's Degree   Senior Software Engineer   \n",
              "2396        2396   60  Female              PhD  Software Engineer Manager   \n",
              "2398        2398   58    Male  Master's Degree   Senior Software Engineer   \n",
              "...          ...  ...     ...              ...                        ...   \n",
              "3076        3076   52    Male              PhD  Software Engineer Manager   \n",
              "3084        3084   54  Female              PhD  Software Engineer Manager   \n",
              "3104        3104   54    Male              PhD  Software Engineer Manager   \n",
              "3120        3120   54    Male              PhD  Software Engineer Manager   \n",
              "3126        3126   48    Male              PhD   Senior Software Engineer   \n",
              "\n",
              "      Years of Experience    Salary    Country              Race  \n",
              "2378                 31.0  166109.0     Canada             White  \n",
              "2387                 30.0  121450.0  Australia        Australian  \n",
              "2392                 28.0  186963.0  Australia        Australian  \n",
              "2396                 33.0  179180.0      China             White  \n",
              "2398                 27.0  190004.0      China             White  \n",
              "...                   ...       ...        ...               ...  \n",
              "3076                 26.0  185982.0     Canada             Asian  \n",
              "3084                 32.0  191510.0      China           Chinese  \n",
              "3104                 30.0  184660.0  Australia        Australian  \n",
              "3120                 28.0  182013.0        USA  African American  \n",
              "3126                 26.0  194638.0         UK             Asian  \n",
              "\n",
              "[75 rows x 9 columns]"
            ],
            "text/html": [
              "\n",
              "  <div id=\"df-83a108c3-cfc6-4b2d-a4d2-cb9efe17f58a\" class=\"colab-df-container\">\n",
              "    <div>\n",
              "<style scoped>\n",
              "    .dataframe tbody tr th:only-of-type {\n",
              "        vertical-align: middle;\n",
              "    }\n",
              "\n",
              "    .dataframe tbody tr th {\n",
              "        vertical-align: top;\n",
              "    }\n",
              "\n",
              "    .dataframe thead th {\n",
              "        text-align: right;\n",
              "    }\n",
              "</style>\n",
              "<table border=\"1\" class=\"dataframe\">\n",
              "  <thead>\n",
              "    <tr style=\"text-align: right;\">\n",
              "      <th></th>\n",
              "      <th>Unnamed: 0</th>\n",
              "      <th>Age</th>\n",
              "      <th>Gender</th>\n",
              "      <th>Education Level</th>\n",
              "      <th>Job Title</th>\n",
              "      <th>Years of Experience</th>\n",
              "      <th>Salary</th>\n",
              "      <th>Country</th>\n",
              "      <th>Race</th>\n",
              "    </tr>\n",
              "  </thead>\n",
              "  <tbody>\n",
              "    <tr>\n",
              "      <th>2378</th>\n",
              "      <td>2378</td>\n",
              "      <td>53</td>\n",
              "      <td>Other</td>\n",
              "      <td>High School</td>\n",
              "      <td>Senior Project Engineer</td>\n",
              "      <td>31.0</td>\n",
              "      <td>166109.0</td>\n",
              "      <td>Canada</td>\n",
              "      <td>White</td>\n",
              "    </tr>\n",
              "    <tr>\n",
              "      <th>2387</th>\n",
              "      <td>2387</td>\n",
              "      <td>57</td>\n",
              "      <td>Female</td>\n",
              "      <td>PhD</td>\n",
              "      <td>Full Stack Engineer</td>\n",
              "      <td>30.0</td>\n",
              "      <td>121450.0</td>\n",
              "      <td>Australia</td>\n",
              "      <td>Australian</td>\n",
              "    </tr>\n",
              "    <tr>\n",
              "      <th>2392</th>\n",
              "      <td>2392</td>\n",
              "      <td>52</td>\n",
              "      <td>Female</td>\n",
              "      <td>Master's Degree</td>\n",
              "      <td>Senior Software Engineer</td>\n",
              "      <td>28.0</td>\n",
              "      <td>186963.0</td>\n",
              "      <td>Australia</td>\n",
              "      <td>Australian</td>\n",
              "    </tr>\n",
              "    <tr>\n",
              "      <th>2396</th>\n",
              "      <td>2396</td>\n",
              "      <td>60</td>\n",
              "      <td>Female</td>\n",
              "      <td>PhD</td>\n",
              "      <td>Software Engineer Manager</td>\n",
              "      <td>33.0</td>\n",
              "      <td>179180.0</td>\n",
              "      <td>China</td>\n",
              "      <td>White</td>\n",
              "    </tr>\n",
              "    <tr>\n",
              "      <th>2398</th>\n",
              "      <td>2398</td>\n",
              "      <td>58</td>\n",
              "      <td>Male</td>\n",
              "      <td>Master's Degree</td>\n",
              "      <td>Senior Software Engineer</td>\n",
              "      <td>27.0</td>\n",
              "      <td>190004.0</td>\n",
              "      <td>China</td>\n",
              "      <td>White</td>\n",
              "    </tr>\n",
              "    <tr>\n",
              "      <th>...</th>\n",
              "      <td>...</td>\n",
              "      <td>...</td>\n",
              "      <td>...</td>\n",
              "      <td>...</td>\n",
              "      <td>...</td>\n",
              "      <td>...</td>\n",
              "      <td>...</td>\n",
              "      <td>...</td>\n",
              "      <td>...</td>\n",
              "    </tr>\n",
              "    <tr>\n",
              "      <th>3076</th>\n",
              "      <td>3076</td>\n",
              "      <td>52</td>\n",
              "      <td>Male</td>\n",
              "      <td>PhD</td>\n",
              "      <td>Software Engineer Manager</td>\n",
              "      <td>26.0</td>\n",
              "      <td>185982.0</td>\n",
              "      <td>Canada</td>\n",
              "      <td>Asian</td>\n",
              "    </tr>\n",
              "    <tr>\n",
              "      <th>3084</th>\n",
              "      <td>3084</td>\n",
              "      <td>54</td>\n",
              "      <td>Female</td>\n",
              "      <td>PhD</td>\n",
              "      <td>Software Engineer Manager</td>\n",
              "      <td>32.0</td>\n",
              "      <td>191510.0</td>\n",
              "      <td>China</td>\n",
              "      <td>Chinese</td>\n",
              "    </tr>\n",
              "    <tr>\n",
              "      <th>3104</th>\n",
              "      <td>3104</td>\n",
              "      <td>54</td>\n",
              "      <td>Male</td>\n",
              "      <td>PhD</td>\n",
              "      <td>Software Engineer Manager</td>\n",
              "      <td>30.0</td>\n",
              "      <td>184660.0</td>\n",
              "      <td>Australia</td>\n",
              "      <td>Australian</td>\n",
              "    </tr>\n",
              "    <tr>\n",
              "      <th>3120</th>\n",
              "      <td>3120</td>\n",
              "      <td>54</td>\n",
              "      <td>Male</td>\n",
              "      <td>PhD</td>\n",
              "      <td>Software Engineer Manager</td>\n",
              "      <td>28.0</td>\n",
              "      <td>182013.0</td>\n",
              "      <td>USA</td>\n",
              "      <td>African American</td>\n",
              "    </tr>\n",
              "    <tr>\n",
              "      <th>3126</th>\n",
              "      <td>3126</td>\n",
              "      <td>48</td>\n",
              "      <td>Male</td>\n",
              "      <td>PhD</td>\n",
              "      <td>Senior Software Engineer</td>\n",
              "      <td>26.0</td>\n",
              "      <td>194638.0</td>\n",
              "      <td>UK</td>\n",
              "      <td>Asian</td>\n",
              "    </tr>\n",
              "  </tbody>\n",
              "</table>\n",
              "<p>75 rows × 9 columns</p>\n",
              "</div>\n",
              "    <div class=\"colab-df-buttons\">\n",
              "\n",
              "  <div class=\"colab-df-container\">\n",
              "    <button class=\"colab-df-convert\" onclick=\"convertToInteractive('df-83a108c3-cfc6-4b2d-a4d2-cb9efe17f58a')\"\n",
              "            title=\"Convert this dataframe to an interactive table.\"\n",
              "            style=\"display:none;\">\n",
              "\n",
              "  <svg xmlns=\"http://www.w3.org/2000/svg\" height=\"24px\" viewBox=\"0 -960 960 960\">\n",
              "    <path d=\"M120-120v-720h720v720H120Zm60-500h600v-160H180v160Zm220 220h160v-160H400v160Zm0 220h160v-160H400v160ZM180-400h160v-160H180v160Zm440 0h160v-160H620v160ZM180-180h160v-160H180v160Zm440 0h160v-160H620v160Z\"/>\n",
              "  </svg>\n",
              "    </button>\n",
              "\n",
              "  <style>\n",
              "    .colab-df-container {\n",
              "      display:flex;\n",
              "      gap: 12px;\n",
              "    }\n",
              "\n",
              "    .colab-df-convert {\n",
              "      background-color: #E8F0FE;\n",
              "      border: none;\n",
              "      border-radius: 50%;\n",
              "      cursor: pointer;\n",
              "      display: none;\n",
              "      fill: #1967D2;\n",
              "      height: 32px;\n",
              "      padding: 0 0 0 0;\n",
              "      width: 32px;\n",
              "    }\n",
              "\n",
              "    .colab-df-convert:hover {\n",
              "      background-color: #E2EBFA;\n",
              "      box-shadow: 0px 1px 2px rgba(60, 64, 67, 0.3), 0px 1px 3px 1px rgba(60, 64, 67, 0.15);\n",
              "      fill: #174EA6;\n",
              "    }\n",
              "\n",
              "    .colab-df-buttons div {\n",
              "      margin-bottom: 4px;\n",
              "    }\n",
              "\n",
              "    [theme=dark] .colab-df-convert {\n",
              "      background-color: #3B4455;\n",
              "      fill: #D2E3FC;\n",
              "    }\n",
              "\n",
              "    [theme=dark] .colab-df-convert:hover {\n",
              "      background-color: #434B5C;\n",
              "      box-shadow: 0px 1px 3px 1px rgba(0, 0, 0, 0.15);\n",
              "      filter: drop-shadow(0px 1px 2px rgba(0, 0, 0, 0.3));\n",
              "      fill: #FFFFFF;\n",
              "    }\n",
              "  </style>\n",
              "\n",
              "    <script>\n",
              "      const buttonEl =\n",
              "        document.querySelector('#df-83a108c3-cfc6-4b2d-a4d2-cb9efe17f58a button.colab-df-convert');\n",
              "      buttonEl.style.display =\n",
              "        google.colab.kernel.accessAllowed ? 'block' : 'none';\n",
              "\n",
              "      async function convertToInteractive(key) {\n",
              "        const element = document.querySelector('#df-83a108c3-cfc6-4b2d-a4d2-cb9efe17f58a');\n",
              "        const dataTable =\n",
              "          await google.colab.kernel.invokeFunction('convertToInteractive',\n",
              "                                                    [key], {});\n",
              "        if (!dataTable) return;\n",
              "\n",
              "        const docLinkHtml = 'Like what you see? Visit the ' +\n",
              "          '<a target=\"_blank\" href=https://colab.research.google.com/notebooks/data_table.ipynb>data table notebook</a>'\n",
              "          + ' to learn more about interactive tables.';\n",
              "        element.innerHTML = '';\n",
              "        dataTable['output_type'] = 'display_data';\n",
              "        await google.colab.output.renderOutput(dataTable, element);\n",
              "        const docLink = document.createElement('div');\n",
              "        docLink.innerHTML = docLinkHtml;\n",
              "        element.appendChild(docLink);\n",
              "      }\n",
              "    </script>\n",
              "  </div>\n",
              "\n",
              "\n",
              "<div id=\"df-55228596-e1aa-46f3-a428-cd4513239dce\">\n",
              "  <button class=\"colab-df-quickchart\" onclick=\"quickchart('df-55228596-e1aa-46f3-a428-cd4513239dce')\"\n",
              "            title=\"Suggest charts\"\n",
              "            style=\"display:none;\">\n",
              "\n",
              "<svg xmlns=\"http://www.w3.org/2000/svg\" height=\"24px\"viewBox=\"0 0 24 24\"\n",
              "     width=\"24px\">\n",
              "    <g>\n",
              "        <path d=\"M19 3H5c-1.1 0-2 .9-2 2v14c0 1.1.9 2 2 2h14c1.1 0 2-.9 2-2V5c0-1.1-.9-2-2-2zM9 17H7v-7h2v7zm4 0h-2V7h2v10zm4 0h-2v-4h2v4z\"/>\n",
              "    </g>\n",
              "</svg>\n",
              "  </button>\n",
              "\n",
              "<style>\n",
              "  .colab-df-quickchart {\n",
              "      --bg-color: #E8F0FE;\n",
              "      --fill-color: #1967D2;\n",
              "      --hover-bg-color: #E2EBFA;\n",
              "      --hover-fill-color: #174EA6;\n",
              "      --disabled-fill-color: #AAA;\n",
              "      --disabled-bg-color: #DDD;\n",
              "  }\n",
              "\n",
              "  [theme=dark] .colab-df-quickchart {\n",
              "      --bg-color: #3B4455;\n",
              "      --fill-color: #D2E3FC;\n",
              "      --hover-bg-color: #434B5C;\n",
              "      --hover-fill-color: #FFFFFF;\n",
              "      --disabled-bg-color: #3B4455;\n",
              "      --disabled-fill-color: #666;\n",
              "  }\n",
              "\n",
              "  .colab-df-quickchart {\n",
              "    background-color: var(--bg-color);\n",
              "    border: none;\n",
              "    border-radius: 50%;\n",
              "    cursor: pointer;\n",
              "    display: none;\n",
              "    fill: var(--fill-color);\n",
              "    height: 32px;\n",
              "    padding: 0;\n",
              "    width: 32px;\n",
              "  }\n",
              "\n",
              "  .colab-df-quickchart:hover {\n",
              "    background-color: var(--hover-bg-color);\n",
              "    box-shadow: 0 1px 2px rgba(60, 64, 67, 0.3), 0 1px 3px 1px rgba(60, 64, 67, 0.15);\n",
              "    fill: var(--button-hover-fill-color);\n",
              "  }\n",
              "\n",
              "  .colab-df-quickchart-complete:disabled,\n",
              "  .colab-df-quickchart-complete:disabled:hover {\n",
              "    background-color: var(--disabled-bg-color);\n",
              "    fill: var(--disabled-fill-color);\n",
              "    box-shadow: none;\n",
              "  }\n",
              "\n",
              "  .colab-df-spinner {\n",
              "    border: 2px solid var(--fill-color);\n",
              "    border-color: transparent;\n",
              "    border-bottom-color: var(--fill-color);\n",
              "    animation:\n",
              "      spin 1s steps(1) infinite;\n",
              "  }\n",
              "\n",
              "  @keyframes spin {\n",
              "    0% {\n",
              "      border-color: transparent;\n",
              "      border-bottom-color: var(--fill-color);\n",
              "      border-left-color: var(--fill-color);\n",
              "    }\n",
              "    20% {\n",
              "      border-color: transparent;\n",
              "      border-left-color: var(--fill-color);\n",
              "      border-top-color: var(--fill-color);\n",
              "    }\n",
              "    30% {\n",
              "      border-color: transparent;\n",
              "      border-left-color: var(--fill-color);\n",
              "      border-top-color: var(--fill-color);\n",
              "      border-right-color: var(--fill-color);\n",
              "    }\n",
              "    40% {\n",
              "      border-color: transparent;\n",
              "      border-right-color: var(--fill-color);\n",
              "      border-top-color: var(--fill-color);\n",
              "    }\n",
              "    60% {\n",
              "      border-color: transparent;\n",
              "      border-right-color: var(--fill-color);\n",
              "    }\n",
              "    80% {\n",
              "      border-color: transparent;\n",
              "      border-right-color: var(--fill-color);\n",
              "      border-bottom-color: var(--fill-color);\n",
              "    }\n",
              "    90% {\n",
              "      border-color: transparent;\n",
              "      border-bottom-color: var(--fill-color);\n",
              "    }\n",
              "  }\n",
              "</style>\n",
              "\n",
              "  <script>\n",
              "    async function quickchart(key) {\n",
              "      const quickchartButtonEl =\n",
              "        document.querySelector('#' + key + ' button');\n",
              "      quickchartButtonEl.disabled = true;  // To prevent multiple clicks.\n",
              "      quickchartButtonEl.classList.add('colab-df-spinner');\n",
              "      try {\n",
              "        const charts = await google.colab.kernel.invokeFunction(\n",
              "            'suggestCharts', [key], {});\n",
              "      } catch (error) {\n",
              "        console.error('Error during call to suggestCharts:', error);\n",
              "      }\n",
              "      quickchartButtonEl.classList.remove('colab-df-spinner');\n",
              "      quickchartButtonEl.classList.add('colab-df-quickchart-complete');\n",
              "    }\n",
              "    (() => {\n",
              "      let quickchartButtonEl =\n",
              "        document.querySelector('#df-55228596-e1aa-46f3-a428-cd4513239dce button');\n",
              "      quickchartButtonEl.style.display =\n",
              "        google.colab.kernel.accessAllowed ? 'block' : 'none';\n",
              "    })();\n",
              "  </script>\n",
              "</div>\n",
              "    </div>\n",
              "  </div>\n"
            ]
          },
          "metadata": {},
          "execution_count": 9
        }
      ]
    },
    {
      "cell_type": "code",
      "source": [
        "sns.boxplot(data=years_nona['Years of Experience'])\n",
        "plt.title(\"Опыт работы\")\n",
        "plt.show()"
      ],
      "metadata": {
        "colab": {
          "base_uri": "https://localhost:8080/",
          "height": 434
        },
        "id": "ImpdfOAaZ7im",
        "outputId": "4d8ceb9b-60d0-436d-8e54-3345c149e1f2"
      },
      "execution_count": null,
      "outputs": [
        {
          "output_type": "display_data",
          "data": {
            "text/plain": [
              "<Figure size 640x480 with 1 Axes>"
            ],
            "image/png": "[encoded data removed]"
          },
          "metadata": {}
        }
      ]
    },
    {
      "cell_type": "markdown",
      "source": [
        "Так как на предыдущем шаге было выявлено, что работников 50+ меньшинство, то логично, что выбросами в столбце с опытом работы будут считаться также большие значения. Чем старше человек - тем больше его опыт. И в данном случае выбросами считается стаж работы > 25 лет."
      ],
      "metadata": {
        "id": "Fm9lW8aVbGC5"
      }
    },
    {
      "cell_type": "markdown",
      "source": [
        "Анализ выбросов в столбце Salary"
      ],
      "metadata": {
        "id": "l37pEky8btCh"
      }
    },
    {
      "cell_type": "code",
      "source": [
        "money = salary.dropna(subset='Salary')\n",
        "q1 = money['Salary'].quantile(0.25)\n",
        "q3 = money['Salary'].quantile(0.75)\n",
        "iqr3 = q3 - q1\n",
        "lower_bound = q1 - (1.5 * iqr3)\n",
        "upper_bound = q3 + (1.5 * iqr3)\n",
        "money[~money['Salary'].between(lower_bound, upper_bound, inclusive='both')]"
      ],
      "metadata": {
        "colab": {
          "base_uri": "https://localhost:8080/",
          "height": 53
        },
        "id": "0RLUnHeOb0Km",
        "outputId": "2d4b8a60-ae1f-4589-af35-a13e17feb5ac"
      },
      "execution_count": null,
      "outputs": [
        {
          "output_type": "execute_result",
          "data": {
            "text/plain": [
              "Empty DataFrame\n",
              "Columns: [Unnamed: 0, Age, Gender, Education Level, Job Title, Years of Experience, Salary, Country, Race]\n",
              "Index: []"
            ],
            "text/html": [
              "\n",
              "  <div id=\"df-23f1dbb8-d88f-40a8-b0c4-bda4b9314a7f\" class=\"colab-df-container\">\n",
              "    <div>\n",
              "<style scoped>\n",
              "    .dataframe tbody tr th:only-of-type {\n",
              "        vertical-align: middle;\n",
              "    }\n",
              "\n",
              "    .dataframe tbody tr th {\n",
              "        vertical-align: top;\n",
              "    }\n",
              "\n",
              "    .dataframe thead th {\n",
              "        text-align: right;\n",
              "    }\n",
              "</style>\n",
              "<table border=\"1\" class=\"dataframe\">\n",
              "  <thead>\n",
              "    <tr style=\"text-align: right;\">\n",
              "      <th></th>\n",
              "      <th>Unnamed: 0</th>\n",
              "      <th>Age</th>\n",
              "      <th>Gender</th>\n",
              "      <th>Education Level</th>\n",
              "      <th>Job Title</th>\n",
              "      <th>Years of Experience</th>\n",
              "      <th>Salary</th>\n",
              "      <th>Country</th>\n",
              "      <th>Race</th>\n",
              "    </tr>\n",
              "  </thead>\n",
              "  <tbody>\n",
              "  </tbody>\n",
              "</table>\n",
              "</div>\n",
              "    <div class=\"colab-df-buttons\">\n",
              "\n",
              "  <div class=\"colab-df-container\">\n",
              "    <button class=\"colab-df-convert\" onclick=\"convertToInteractive('df-23f1dbb8-d88f-40a8-b0c4-bda4b9314a7f')\"\n",
              "            title=\"Convert this dataframe to an interactive table.\"\n",
              "            style=\"display:none;\">\n",
              "\n",
              "  <svg xmlns=\"http://www.w3.org/2000/svg\" height=\"24px\" viewBox=\"0 -960 960 960\">\n",
              "    <path d=\"M120-120v-720h720v720H120Zm60-500h600v-160H180v160Zm220 220h160v-160H400v160Zm0 220h160v-160H400v160ZM180-400h160v-160H180v160Zm440 0h160v-160H620v160ZM180-180h160v-160H180v160Zm440 0h160v-160H620v160Z\"/>\n",
              "  </svg>\n",
              "    </button>\n",
              "\n",
              "  <style>\n",
              "    .colab-df-container {\n",
              "      display:flex;\n",
              "      gap: 12px;\n",
              "    }\n",
              "\n",
              "    .colab-df-convert {\n",
              "      background-color: #E8F0FE;\n",
              "      border: none;\n",
              "      border-radius: 50%;\n",
              "      cursor: pointer;\n",
              "      display: none;\n",
              "      fill: #1967D2;\n",
              "      height: 32px;\n",
              "      padding: 0 0 0 0;\n",
              "      width: 32px;\n",
              "    }\n",
              "\n",
              "    .colab-df-convert:hover {\n",
              "      background-color: #E2EBFA;\n",
              "      box-shadow: 0px 1px 2px rgba(60, 64, 67, 0.3), 0px 1px 3px 1px rgba(60, 64, 67, 0.15);\n",
              "      fill: #174EA6;\n",
              "    }\n",
              "\n",
              "    .colab-df-buttons div {\n",
              "      margin-bottom: 4px;\n",
              "    }\n",
              "\n",
              "    [theme=dark] .colab-df-convert {\n",
              "      background-color: #3B4455;\n",
              "      fill: #D2E3FC;\n",
              "    }\n",
              "\n",
              "    [theme=dark] .colab-df-convert:hover {\n",
              "      background-color: #434B5C;\n",
              "      box-shadow: 0px 1px 3px 1px rgba(0, 0, 0, 0.15);\n",
              "      filter: drop-shadow(0px 1px 2px rgba(0, 0, 0, 0.3));\n",
              "      fill: #FFFFFF;\n",
              "    }\n",
              "  </style>\n",
              "\n",
              "    <script>\n",
              "      const buttonEl =\n",
              "        document.querySelector('#df-23f1dbb8-d88f-40a8-b0c4-bda4b9314a7f button.colab-df-convert');\n",
              "      buttonEl.style.display =\n",
              "        google.colab.kernel.accessAllowed ? 'block' : 'none';\n",
              "\n",
              "      async function convertToInteractive(key) {\n",
              "        const element = document.querySelector('#df-23f1dbb8-d88f-40a8-b0c4-bda4b9314a7f');\n",
              "        const dataTable =\n",
              "          await google.colab.kernel.invokeFunction('convertToInteractive',\n",
              "                                                    [key], {});\n",
              "        if (!dataTable) return;\n",
              "\n",
              "        const docLinkHtml = 'Like what you see? Visit the ' +\n",
              "          '<a target=\"_blank\" href=https://colab.research.google.com/notebooks/data_table.ipynb>data table notebook</a>'\n",
              "          + ' to learn more about interactive tables.';\n",
              "        element.innerHTML = '';\n",
              "        dataTable['output_type'] = 'display_data';\n",
              "        await google.colab.output.renderOutput(dataTable, element);\n",
              "        const docLink = document.createElement('div');\n",
              "        docLink.innerHTML = docLinkHtml;\n",
              "        element.appendChild(docLink);\n",
              "      }\n",
              "    </script>\n",
              "  </div>\n",
              "\n",
              "    </div>\n",
              "  </div>\n"
            ]
          },
          "metadata": {},
          "execution_count": 11
        }
      ]
    },
    {
      "cell_type": "code",
      "source": [
        "sns.boxplot(data=money['Salary'])\n",
        "plt.title(\"Зарплата\")\n",
        "plt.show()"
      ],
      "metadata": {
        "colab": {
          "base_uri": "https://localhost:8080/",
          "height": 433
        },
        "id": "OeoHwtIpkHUA",
        "outputId": "7f839344-bf47-4fd9-ceb7-402a857cf7a9"
      },
      "execution_count": null,
      "outputs": [
        {
          "output_type": "display_data",
          "data": {
            "text/plain": [
              "<Figure size 640x480 with 1 Axes>"
            ],
            "image/png": "[encoded data removed]"
          },
          "metadata": {}
        }
      ]
    },
    {
      "cell_type": "markdown",
      "source": [
        "В данном случае мы не получили никакой информации о выбросах, так как все значения входят область между верней и нижней границей интервала."
      ],
      "metadata": {
        "id": "wXL1tEDwkThU"
      }
    },
    {
      "cell_type": "markdown",
      "source": [
        "3 Заполнение пропусков"
      ],
      "metadata": {
        "id": "sqasaP00rOAt"
      }
    },
    {
      "cell_type": "code",
      "source": [
        "(salary.isna().mean() * 100).round(2)"
      ],
      "metadata": {
        "colab": {
          "base_uri": "https://localhost:8080/"
        },
        "id": "7if26ClnrRI0",
        "outputId": "f7f38acd-113a-483c-e2d8-85fbf0aa87c6"
      },
      "execution_count": null,
      "outputs": [
        {
          "output_type": "execute_result",
          "data": {
            "text/plain": [
              "Unnamed: 0             0.00\n",
              "Age                    0.03\n",
              "Gender                 0.03\n",
              "Education Level        0.04\n",
              "Job Title              0.03\n",
              "Years of Experience    0.04\n",
              "Salary                 0.07\n",
              "Country                0.00\n",
              "Race                   0.00\n",
              "dtype: float64"
            ]
          },
          "metadata": {},
          "execution_count": 13
        }
      ]
    },
    {
      "cell_type": "markdown",
      "source": [
        "В столбцах Age, Gender, Education Level, Job Title, Years of Experience, Salary присутствуют пропуски."
      ],
      "metadata": {
        "id": "wDdpUQ5ArqYn"
      }
    },
    {
      "cell_type": "markdown",
      "source": [
        "Предполагаем, что возраст можно оценить по стажу работы. А стаж работы по занимаемой должности."
      ],
      "metadata": {
        "id": "69UBxNcTsJi0"
      }
    },
    {
      "cell_type": "code",
      "source": [
        "salary.groupby('Job Title')['Years of Experience'].median()"
      ],
      "metadata": {
        "colab": {
          "base_uri": "https://localhost:8080/"
        },
        "id": "Ig6p8x6isdd-",
        "outputId": "8a9e4e41-b583-4cb1-afe6-38b04efe6d17"
      },
      "execution_count": null,
      "outputs": [
        {
          "output_type": "execute_result",
          "data": {
            "text/plain": [
              "Job Title\n",
              "Account Manager              5.0\n",
              "Accountant                   4.0\n",
              "Administrative Assistant     9.0\n",
              "Back end Developer           5.0\n",
              "Business Analyst             6.0\n",
              "                            ... \n",
              "UX Designer                  5.0\n",
              "UX Researcher                2.0\n",
              "VP of Finance               19.0\n",
              "VP of Operations            19.0\n",
              "Web Developer                4.0\n",
              "Name: Years of Experience, Length: 193, dtype: float64"
            ]
          },
          "metadata": {},
          "execution_count": 141
        }
      ]
    },
    {
      "cell_type": "markdown",
      "source": [
        "По группировке видно, что предположение \"стаж работы-занимаемая должность\" справедливо. Чем больше стаж, тем серьезнее должность у человека; а малый стаж также встречается еще у людей, работающих на \"новых\" специальностях, к примеру, UX-дизайнеры, аналитики данных"
      ],
      "metadata": {
        "id": "5_PSzzYRU8P3"
      }
    },
    {
      "cell_type": "code",
      "source": [
        "\n",
        "salary[\"Years of Experience\"] = salary[\"Years of Experience\"].fillna(salary.groupby(by=\"Job Title\")[\"Years of Experience\"].transform('median'))"
      ],
      "metadata": {
        "id": "l3Ituc4AOF17"
      },
      "execution_count": null,
      "outputs": []
    },
    {
      "cell_type": "markdown",
      "source": [
        "Предполагаем, что пропуски в столбце с полом можно заполнить по уровню образования"
      ],
      "metadata": {
        "id": "Bhx1Jme31RO6"
      }
    },
    {
      "cell_type": "code",
      "source": [
        "salary.groupby('Education Level')['Gender'].agg(pd.Series.mode)"
      ],
      "metadata": {
        "colab": {
          "base_uri": "https://localhost:8080/"
        },
        "id": "xI0AoJUW1DAg",
        "outputId": "429ec826-3ea6-4b2c-870b-ffaadd7e50c0"
      },
      "execution_count": null,
      "outputs": [
        {
          "output_type": "execute_result",
          "data": {
            "text/plain": [
              "Education Level\n",
              "Bachelor's             Male\n",
              "Bachelor's Degree      Male\n",
              "High School          Female\n",
              "Master's             Female\n",
              "Master's Degree      Female\n",
              "PhD                    Male\n",
              "phD                    Male\n",
              "Name: Gender, dtype: object"
            ]
          },
          "metadata": {},
          "execution_count": 130
        }
      ]
    },
    {
      "cell_type": "code",
      "source": [
        "salary['Gender'] = salary['Gender'].fillna(salary.groupby('Education Level')['Gender'].transform(lambda x: x.mode()[0]))\n",
        "\n",
        "(salary.isna().mean() * 100).round(2)"
      ],
      "metadata": {
        "colab": {
          "base_uri": "https://localhost:8080/"
        },
        "id": "p6Q2kykTMLZx",
        "outputId": "f219101a-ca76-49ad-efcf-516e753053d2"
      },
      "execution_count": null,
      "outputs": [
        {
          "output_type": "execute_result",
          "data": {
            "text/plain": [
              "Unnamed: 0             0.00\n",
              "Age                    0.03\n",
              "Gender                 0.03\n",
              "Education Level        0.04\n",
              "Job Title              0.03\n",
              "Years of Experience    0.04\n",
              "Salary                 0.07\n",
              "Country                0.00\n",
              "Race                   0.00\n",
              "exp_group              0.04\n",
              "dtype: float64"
            ]
          },
          "metadata": {},
          "execution_count": 140
        }
      ]
    },
    {
      "cell_type": "code",
      "source": [
        "salary['Age'] = salary['Age'].fillna(salary['Age'].median())\n",
        "salary['Gender'] = salary['Gender'].fillna(salary['Gender'].mode()[0])"
      ],
      "metadata": {
        "id": "-seKVNg3N6DW"
      },
      "execution_count": null,
      "outputs": []
    },
    {
      "cell_type": "markdown",
      "source": [
        "Гипотеза: Чем старше человек, тем больше у него стаж работы"
      ],
      "metadata": {
        "id": "o5oV_bTbiV8b"
      }
    },
    {
      "cell_type": "code",
      "source": [
        "salary.groupby('Age')['Years of Experience'].median().head(15)"
      ],
      "metadata": {
        "colab": {
          "base_uri": "https://localhost:8080/"
        },
        "id": "4_MoDDzRibjq",
        "outputId": "388e526a-0c83-4657-d0eb-7defeed84ef9"
      },
      "execution_count": null,
      "outputs": [
        {
          "output_type": "execute_result",
          "data": {
            "text/plain": [
              "Age\n",
              "21    0.0\n",
              "22    0.0\n",
              "23    1.0\n",
              "24    1.0\n",
              "25    1.0\n",
              "26    2.0\n",
              "27    3.0\n",
              "28    3.0\n",
              "29    4.0\n",
              "30    5.0\n",
              "31    6.0\n",
              "32    7.0\n",
              "33    8.0\n",
              "34    9.0\n",
              "35    9.0\n",
              "Name: Years of Experience, dtype: float64"
            ]
          },
          "metadata": {},
          "execution_count": 15
        }
      ]
    },
    {
      "cell_type": "markdown",
      "source": [
        "Гипотеза подтверждается, наглядно видно, что с возрастом стаж работы растет, поэтому заменим пропуски в столбце со стажем работы на медианные значения по группам"
      ],
      "metadata": {
        "id": "tTNfZQt_i3Mh"
      }
    },
    {
      "cell_type": "code",
      "source": [
        "salary[\"Years of Experience\"] = salary[\"Years of Experience\"].fillna(salary.groupby(by=\"Age\")[\"Years of Experience\"].transform('median'))"
      ],
      "metadata": {
        "id": "1Rbvb1rijEsV"
      },
      "execution_count": null,
      "outputs": []
    },
    {
      "cell_type": "markdown",
      "source": [
        "Снова предполагаем, что занимаемая должность зависит от стажа работы. Чем дольше работает сотрудник, тем серьезнее у него должность"
      ],
      "metadata": {
        "id": "ZWYvvz1XjlAg"
      }
    },
    {
      "cell_type": "code",
      "source": [
        "salary.groupby('Years of Experience')['Job Title'].agg(lambda x: x.mode()[0] if x.count() != 0 else \"unknown\").head(10)"
      ],
      "metadata": {
        "colab": {
          "base_uri": "https://localhost:8080/"
        },
        "id": "1iJBUYsNjwos",
        "outputId": "c686aaf2-9a69-472f-b9e9-343d088447be"
      },
      "execution_count": null,
      "outputs": [
        {
          "output_type": "execute_result",
          "data": {
            "text/plain": [
              "Years of Experience\n",
              "0.0                             Receptionist\n",
              "0.5                 Junior Marketing Analyst\n",
              "1.0                   Junior Sales Associate\n",
              "1.5    Junior Business Development Associate\n",
              "2.0                             Data Analyst\n",
              "3.0                        Software Engineer\n",
              "4.0                        Software Engineer\n",
              "5.0                        Software Engineer\n",
              "6.0                      Full Stack Engineer\n",
              "7.0                          Product Manager\n",
              "Name: Job Title, dtype: object"
            ]
          },
          "metadata": {},
          "execution_count": 17
        }
      ]
    },
    {
      "cell_type": "code",
      "source": [
        "salary['Job Title'] = salary['Job Title'].fillna(salary.groupby('Years of Experience')['Job Title'].transform(lambda x: x.mode()[0]))"
      ],
      "metadata": {
        "id": "8CEB_23rki4e"
      },
      "execution_count": null,
      "outputs": []
    },
    {
      "cell_type": "markdown",
      "source": [
        "Уровень образования должен зависеть от занимаемой должности"
      ],
      "metadata": {
        "id": "V4GOuMZAlIR3"
      }
    },
    {
      "cell_type": "code",
      "source": [
        "salary.groupby('Job Title')['Education Level'].agg(lambda x: x.mode()[0] if x.count() != 0 else \"unknown\")"
      ],
      "metadata": {
        "colab": {
          "base_uri": "https://localhost:8080/"
        },
        "id": "Zs1yZxRDleLu",
        "outputId": "d63fcc01-d91e-4bd8-c2b9-9063a32d2759"
      },
      "execution_count": null,
      "outputs": [
        {
          "output_type": "execute_result",
          "data": {
            "text/plain": [
              "Job Title\n",
              "Account Manager                    Bachelor's\n",
              "Accountant                         Bachelor's\n",
              "Administrative Assistant           Bachelor's\n",
              "Back end Developer          Bachelor's Degree\n",
              "Business Analyst                   Bachelor's\n",
              "                                  ...        \n",
              "UX Designer                          Master's\n",
              "UX Researcher                        Master's\n",
              "VP of Finance                        Master's\n",
              "VP of Operations                     Master's\n",
              "Web Developer               Bachelor's Degree\n",
              "Name: Education Level, Length: 193, dtype: object"
            ]
          },
          "metadata": {},
          "execution_count": 19
        }
      ]
    },
    {
      "cell_type": "code",
      "source": [
        "salary['Education Level'] = salary['Education Level'].fillna(salary.groupby('Job Title')['Education Level'].transform(lambda x: x.mode()[0] if x.count() != 0 else \"unknown\"))"
      ],
      "metadata": {
        "id": "60uHCD9TolSj"
      },
      "execution_count": null,
      "outputs": []
    },
    {
      "cell_type": "markdown",
      "source": [
        "Предполагаю, что уровень зарплаты зависит, в большей степени, от стажа работы и занимаемой должности. Тут для наглядности добавим еще 1 столбец со стажем работы: 0-10, 11-20, 21-30, 31-34 (34-максимум)"
      ],
      "metadata": {
        "id": "m1wyQtpEo7-u"
      }
    },
    {
      "cell_type": "code",
      "source": [
        "salary.loc[(salary['Years of Experience'] >=0) & (salary['Years of Experience'] <=10), 'exp_group'] = '0-10 y'\n",
        "salary.loc[(salary['Years of Experience'] >=11) & (salary['Years of Experience'] <=20), 'exp_group'] = '11-20 y'\n",
        "salary.loc[(salary['Years of Experience'] >=21) & (salary['Years of Experience'] <=30), 'exp_group'] = '21-30 y'\n",
        "salary.loc[(salary['Years of Experience'] >=31) & (salary['Years of Experience'] <=34), 'exp_group'] = '31-34 y'"
      ],
      "metadata": {
        "id": "6IxRzQoCp1EL"
      },
      "execution_count": null,
      "outputs": []
    },
    {
      "cell_type": "code",
      "source": [
        "salary.groupby(['exp_group', 'Job Title'])['Salary'].median()"
      ],
      "metadata": {
        "colab": {
          "base_uri": "https://localhost:8080/"
        },
        "id": "IAz2KYappS9y",
        "outputId": "121c8c12-0203-4283-888f-3cdedd8b5975"
      },
      "execution_count": null,
      "outputs": [
        {
          "output_type": "execute_result",
          "data": {
            "text/plain": [
              "exp_group  Job Title                \n",
              "0-10 y     Account Manager               75000.0\n",
              "           Accountant                    55000.0\n",
              "           Administrative Assistant      50000.0\n",
              "           Back end Developer            94502.0\n",
              "           Business Analyst              77500.0\n",
              "                                          ...   \n",
              "21-30 y    Supply Chain Analyst         130000.0\n",
              "31-34 y    Full Stack Engineer          188232.0\n",
              "           Senior Project Engineer      166109.0\n",
              "           Senior Software Engineer     195270.0\n",
              "           Software Engineer Manager    191267.0\n",
              "Name: Salary, Length: 262, dtype: float64"
            ]
          },
          "metadata": {},
          "execution_count": 22
        }
      ]
    },
    {
      "cell_type": "markdown",
      "source": [
        "Гипотеза подтвердилась, можно заметить между некоторыми позициями разных групп разницу > чем в 10 раз"
      ],
      "metadata": {
        "id": "vxkaB2ucquze"
      }
    },
    {
      "cell_type": "code",
      "source": [
        "salary[\"Salary\"] = salary[\"Salary\"].fillna(salary.groupby(['exp_group', 'Job Title'])[\"Salary\"].transform('median'))\n",
        "(salary.isna().mean() * 100).round(2)"
      ],
      "metadata": {
        "colab": {
          "base_uri": "https://localhost:8080/"
        },
        "id": "0arAv6jurG5l",
        "outputId": "6f2ce84e-03db-4ff6-fd9d-683d44931cc5"
      },
      "execution_count": null,
      "outputs": [
        {
          "output_type": "execute_result",
          "data": {
            "text/plain": [
              "Unnamed: 0             0.00\n",
              "Age                    0.00\n",
              "Gender                 0.00\n",
              "Education Level        0.00\n",
              "Job Title              0.00\n",
              "Years of Experience    0.00\n",
              "Salary                 0.01\n",
              "Country                0.00\n",
              "Race                   0.00\n",
              "exp_group              0.00\n",
              "dtype: float64"
            ]
          },
          "metadata": {},
          "execution_count": 23
        }
      ]
    },
    {
      "cell_type": "markdown",
      "source": [
        "Из-за ненулевого значения пропуска Salary, упросим группировку только до стажа работы"
      ],
      "metadata": {
        "id": "QZ_jfvzzsT3u"
      }
    },
    {
      "cell_type": "code",
      "source": [
        "salary.groupby(['exp_group'])['Salary'].median()"
      ],
      "metadata": {
        "colab": {
          "base_uri": "https://localhost:8080/"
        },
        "id": "HROdSVCYsIvh",
        "outputId": "c8977e21-0df8-4733-f6d5-25116341b817"
      },
      "execution_count": null,
      "outputs": [
        {
          "output_type": "execute_result",
          "data": {
            "text/plain": [
              "exp_group\n",
              "0-10 y      85000.0\n",
              "11-20 y    170000.0\n",
              "21-30 y    182237.0\n",
              "31-34 y    191267.0\n",
              "Name: Salary, dtype: float64"
            ]
          },
          "metadata": {},
          "execution_count": 24
        }
      ]
    },
    {
      "cell_type": "markdown",
      "source": [
        "Особенно сильно видна разницы в зарплате между начинающими специалистами и опытными"
      ],
      "metadata": {
        "id": "lqJch2Qysmlq"
      }
    },
    {
      "cell_type": "code",
      "source": [
        "salary[\"Salary\"] = salary[\"Salary\"].fillna(salary.groupby(['exp_group'])[\"Salary\"].transform('median'))\n",
        "(salary.isna().mean() * 100).round(2)"
      ],
      "metadata": {
        "colab": {
          "base_uri": "https://localhost:8080/"
        },
        "id": "NIjoXITusnQQ",
        "outputId": "841f068f-2cf2-49ad-d9dc-567941529110"
      },
      "execution_count": null,
      "outputs": [
        {
          "output_type": "execute_result",
          "data": {
            "text/plain": [
              "Unnamed: 0             0.0\n",
              "Age                    0.0\n",
              "Gender                 0.0\n",
              "Education Level        0.0\n",
              "Job Title              0.0\n",
              "Years of Experience    0.0\n",
              "Salary                 0.0\n",
              "Country                0.0\n",
              "Race                   0.0\n",
              "exp_group              0.0\n",
              "dtype: float64"
            ]
          },
          "metadata": {},
          "execution_count": 25
        }
      ]
    },
    {
      "cell_type": "markdown",
      "source": [
        "3 Задайте 4-6 вопросов к вашим данным и постарайтесь ответить на них графически"
      ],
      "metadata": {
        "id": "OSwd9CiLklno"
      }
    },
    {
      "cell_type": "markdown",
      "source": [
        "***В наборе данных больше информации о мужчинах или о женщинах?***"
      ],
      "metadata": {
        "id": "UnNT_gmVm70u"
      }
    },
    {
      "cell_type": "code",
      "source": [
        "sns.countplot(data=salary, x=\"Gender\", hue=\"Gender\", palette= \"Reds\")\n",
        "plt.title(\"Количество работников в разрезе пола\")\n",
        "plt.ylabel(\"Количество работников\")\n",
        "plt.show()"
      ],
      "metadata": {
        "colab": {
          "base_uri": "https://localhost:8080/",
          "height": 472
        },
        "id": "ZGlxLnJ0nDND",
        "outputId": "0219085b-89a1-42b4-b70d-849fc9f328da"
      },
      "execution_count": null,
      "outputs": [
        {
          "output_type": "display_data",
          "data": {
            "text/plain": [
              "<Figure size 640x480 with 1 Axes>"
            ],
            "image/png": "[encoded data removed]"
          },
          "metadata": {}
        }
      ]
    },
    {
      "cell_type": "markdown",
      "source": [
        "Да, действительно в данных больше информации о работниках-мужчинах, но также присутствуют еще данные о \"дргуих\" гендерах"
      ],
      "metadata": {
        "id": "N1lcLVIcoGxu"
      }
    },
    {
      "cell_type": "markdown",
      "source": [
        "***Чем больше возраст, тем больше стаж работы?***"
      ],
      "metadata": {
        "id": "IPd5dpDBkqpG"
      }
    },
    {
      "cell_type": "code",
      "source": [
        "sns.lineplot(data=salary, x=\"Age\", y=\"Years of Experience\");\n",
        "\n",
        "plt.title(\"Взаимосвязь между возрастом и стажем работы\")\n",
        "plt.ylabel(\"Стаж работы\")\n",
        "plt.xlabel(\"Возраст\")\n",
        "plt.show()"
      ],
      "metadata": {
        "colab": {
          "base_uri": "https://localhost:8080/",
          "height": 472
        },
        "id": "1-FFAyrglF5J",
        "outputId": "95536023-aa33-4359-e6bf-c670df0c7ade"
      },
      "execution_count": null,
      "outputs": [
        {
          "output_type": "display_data",
          "data": {
            "text/plain": [
              "<Figure size 640x480 with 1 Axes>"
            ],
            "image/png": "[encoded data removed]"
          },
          "metadata": {}
        }
      ]
    },
    {
      "cell_type": "markdown",
      "source": [
        "По графику мы видим четко прослеживающуюся линейную зависимость примерно до 50 лет возраста и 25 лет стажа (это как раз те значения, от которых уже начинаются выбросы в датасете). То есть гипотеза о том, что чем старше человек, тем больше у него опыт работы подтверждается."
      ],
      "metadata": {
        "id": "DDlG3ex6ggAt"
      }
    },
    {
      "cell_type": "markdown",
      "source": [
        "***Зависит ли размер зарплаты от страны проживания?***"
      ],
      "metadata": {
        "id": "Ab_6HdSKgzK9"
      }
    },
    {
      "cell_type": "code",
      "source": [
        "sns.barplot(data=salary, x=\"Country\", y=\"Salary\", hue = \"Country\")\n",
        "plt.title(\"Взаимосвязь между страной проживания и средним значением зарплаты\")\n",
        "plt.ylabel(\"Зарплата\")\n",
        "plt.xlabel(\"Страна\")\n",
        "plt.show()"
      ],
      "metadata": {
        "colab": {
          "base_uri": "https://localhost:8080/",
          "height": 472
        },
        "id": "RX6Sw_NXhDEv",
        "outputId": "bbc9a977-cda1-4e50-b4ac-43fde320dbc9"
      },
      "execution_count": null,
      "outputs": [
        {
          "output_type": "display_data",
          "data": {
            "text/plain": [
              "<Figure size 640x480 with 1 Axes>"
            ],
            "image/png": "[encoded data removed]"
          },
          "metadata": {}
        }
      ]
    },
    {
      "cell_type": "markdown",
      "source": [
        "Можно наблюдать, что средние значения зарплат практически не отличаются по странам проживания"
      ],
      "metadata": {
        "id": "YHTUks0SmKop"
      }
    },
    {
      "cell_type": "markdown",
      "source": [
        "Ниже видно, что один и тот же уровень образования в наборе данных может называться по-разному. Приведем для дальнейшего удобства к одному виду"
      ],
      "metadata": {
        "id": "umX3gIg7mXcD"
      }
    },
    {
      "cell_type": "code",
      "source": [
        "salary['Education Level'].value_counts()"
      ],
      "metadata": {
        "colab": {
          "base_uri": "https://localhost:8080/"
        },
        "id": "S-GmSXQvoxcT",
        "outputId": "a91fd785-e203-49ed-f0e9-13b5fa35699c"
      },
      "execution_count": null,
      "outputs": [
        {
          "output_type": "execute_result",
          "data": {
            "text/plain": [
              "Bachelor's Degree    2269\n",
              "Master's Degree      1573\n",
              "PhD                  1368\n",
              "Bachelor's            756\n",
              "High School           448\n",
              "Master's              288\n",
              "unknown                 1\n",
              "phD                     1\n",
              "Name: Education Level, dtype: int64"
            ]
          },
          "metadata": {},
          "execution_count": 51
        }
      ]
    },
    {
      "cell_type": "code",
      "source": [
        "salary['Education Level'] = salary['Education Level'].replace(\"phD\", \"PhD\")\n",
        "salary['Education Level'] = salary['Education Level'].replace(\"Master's Degree\", \"Master's\")\n",
        "salary['Education Level'] = salary['Education Level'].replace(\"Bachelor's Degree\", \"Bachelor's\")\n",
        "salary['Education Level'].value_counts()"
      ],
      "metadata": {
        "colab": {
          "base_uri": "https://localhost:8080/"
        },
        "id": "e7pG1rdAqAF4",
        "outputId": "14def702-617f-4b00-9a9c-de65811ebd7c"
      },
      "execution_count": null,
      "outputs": [
        {
          "output_type": "execute_result",
          "data": {
            "text/plain": [
              "Bachelor's     3025\n",
              "Master's       1861\n",
              "PhD            1369\n",
              "High School     448\n",
              "unknown           1\n",
              "Name: Education Level, dtype: int64"
            ]
          },
          "metadata": {},
          "execution_count": 55
        }
      ]
    },
    {
      "cell_type": "markdown",
      "source": [
        "***Большинство сотрудников имеют высшее образование?***"
      ],
      "metadata": {
        "id": "E5pYrvbpqy3R"
      }
    },
    {
      "cell_type": "code",
      "source": [
        "sns.countplot(data=salary, x=\"Education Level\", color=\"blue\")\n",
        "plt.title(\"Количество работников по уровню образования\")\n",
        "plt.show()"
      ],
      "metadata": {
        "colab": {
          "base_uri": "https://localhost:8080/",
          "height": 472
        },
        "id": "sGAh_62Hq_3E",
        "outputId": "ae879bd1-a8fe-404d-8f5b-e28ad11302f4"
      },
      "execution_count": null,
      "outputs": [
        {
          "output_type": "display_data",
          "data": {
            "text/plain": [
              "<Figure size 640x480 with 1 Axes>"
            ],
            "image/png": "[encoded data removed]"
          },
          "metadata": {}
        }
      ]
    },
    {
      "cell_type": "markdown",
      "source": [
        "Да, у большинства сотрудников имеется степень бакалавра и выше"
      ],
      "metadata": {
        "id": "VFkdZt_9rxqI"
      }
    },
    {
      "cell_type": "markdown",
      "source": [
        "***Есть ли корреляция между возрастом, стажем и размеров зарплаты?***"
      ],
      "metadata": {
        "id": "H-i0vwt_u30K"
      }
    },
    {
      "cell_type": "code",
      "source": [
        "corr_matrix = salary[[\"Age\", \"Years of Experience\", \"Salary\"]].corr('spearman')\n",
        "plt.figure(figsize=[8,5])\n",
        "sns.heatmap(corr_matrix, annot=True, cmap='Reds')\n",
        "plt.title(\"Матрица корреляции Спирмена\")\n",
        "plt.show()"
      ],
      "metadata": {
        "colab": {
          "base_uri": "https://localhost:8080/",
          "height": 468
        },
        "id": "PLqxwsNuvGi9",
        "outputId": "2c18369a-d864-4872-acae-86185787db45"
      },
      "execution_count": null,
      "outputs": [
        {
          "output_type": "display_data",
          "data": {
            "text/plain": [
              "<Figure size 800x500 with 2 Axes>"
            ],
            "image/png": "[encoded data removed]"
          },
          "metadata": {}
        }
      ]
    },
    {
      "cell_type": "markdown",
      "source": [
        "Получилось, что значения возраста, стажа и зарплаты довольно сильно коррелируют друг с другом"
      ],
      "metadata": {
        "id": "AqeHjNEeyl9s"
      }
    },
    {
      "cell_type": "markdown",
      "source": [
        "***Насколько влияет раса и пол на размер заработной платы?***"
      ],
      "metadata": {
        "id": "47gAPY5xr4-9"
      }
    },
    {
      "cell_type": "code",
      "source": [
        "salary_corr = pd.pivot_table(data=salary, index='Race', columns='Gender', values='Salary', aggfunc='mean')\n",
        "plt.figure(figsize=[12,5])\n",
        "sns.heatmap(salary_corr, annot=True, cmap='Pastel2')\n",
        "plt.title(\"Размер зарплаты в зависимости от пола и расы\")\n",
        "plt.show()"
      ],
      "metadata": {
        "colab": {
          "base_uri": "https://localhost:8080/",
          "height": 487
        },
        "id": "FqXcZlFBsRAJ",
        "outputId": "1902d4a0-f478-41d5-b3eb-acae732c2f5e"
      },
      "execution_count": null,
      "outputs": [
        {
          "output_type": "display_data",
          "data": {
            "text/plain": [
              "<Figure size 1200x500 with 2 Axes>"
            ],
            "image/png": "[encoded data removed]"
          },
          "metadata": {}
        }
      ]
    },
    {
      "cell_type": "markdown",
      "source": [
        "Если проводить анализ только между мужчинами и женщинами, то у мужчин, вне зависимости от расы среднее значение ЗП выше на ~  10000. При этом размер зарплаты не зависит от расы у мужчин и женщин. А в категории \"другие\" наоборот, значительно сильно колеблется значение ЗП в зависимости от расы; думаю, что это связано, по большей части из-за небольшого количества данных по категории \"другие\"."
      ],
      "metadata": {
        "id": "u3Ylr_v2tO1d"
      }
    }
  ]
}