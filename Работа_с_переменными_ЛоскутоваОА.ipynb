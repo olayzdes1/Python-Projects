{
  "nbformat": 4,
  "nbformat_minor": 0,
  "metadata": {
    "colab": {
      "provenance": []
    },
    "kernelspec": {
      "name": "python3",
      "display_name": "Python 3"
    },
    "language_info": {
      "name": "python"
    }
  },
  "cells": [
    {
      "cell_type": "markdown",
      "source": [
        "Цель: изучить применение методов разведочного анализа данных (EDA) для улучшения качества работы моделей машинного обучения."
      ],
      "metadata": {
        "id": "YktaNY9GqoJh"
      }
    },
    {
      "cell_type": "markdown",
      "source": [
        "1. Получите данные и загрузите их в рабочую среду."
      ],
      "metadata": {
        "id": "f3QFGnNPqrOY"
      }
    },
    {
      "cell_type": "code",
      "execution_count": null,
      "metadata": {
        "id": "oUm28aByqiYm"
      },
      "outputs": [],
      "source": [
        "import pandas as pd\n",
        "import numpy as np\n",
        "\n",
        "\n",
        "from matplotlib import pyplot as plt\n",
        "from sklearn.datasets import fetch_california_housing\n",
        "\n",
        "from sklearn.model_selection import train_test_split\n",
        "from sklearn.linear_model import LinearRegression\n",
        "from sklearn.metrics import mean_squared_error, r2_score"
      ]
    },
    {
      "cell_type": "code",
      "source": [
        "housing = fetch_california_housing()\n",
        "housing_df = pd.DataFrame(housing.data, columns=housing.feature_names)\n",
        "housing_df['MedHouseVal'] = housing.target\n",
        "housing_df.head()"
      ],
      "metadata": {
        "colab": {
          "base_uri": "https://localhost:8080/",
          "height": 244
        },
        "id": "pChWshZMrbSb",
        "outputId": "6ac2b93f-cd91-440e-985e-207523be06d9"
      },
      "execution_count": null,
      "outputs": [
        {
          "output_type": "execute_result",
          "data": {
            "text/plain": [
              "   MedInc  HouseAge  AveRooms  AveBedrms  Population  AveOccup  Latitude  \\\n",
              "0  8.3252      41.0  6.984127   1.023810       322.0  2.555556     37.88   \n",
              "1  8.3014      21.0  6.238137   0.971880      2401.0  2.109842     37.86   \n",
              "2  7.2574      52.0  8.288136   1.073446       496.0  2.802260     37.85   \n",
              "3  5.6431      52.0  5.817352   1.073059       558.0  2.547945     37.85   \n",
              "4  3.8462      52.0  6.281853   1.081081       565.0  2.181467     37.85   \n",
              "\n",
              "   Longitude  MedHouseVal  \n",
              "0    -122.23        4.526  \n",
              "1    -122.22        3.585  \n",
              "2    -122.24        3.521  \n",
              "3    -122.25        3.413  \n",
              "4    -122.25        3.422  "
            ],
            "text/html": [
              "\n",
              "  <div id=\"df-54006f4e-4d53-4134-a4ed-c0906c2dc7d2\" class=\"colab-df-container\">\n",
              "    <div>\n",
              "<style scoped>\n",
              "    .dataframe tbody tr th:only-of-type {\n",
              "        vertical-align: middle;\n",
              "    }\n",
              "\n",
              "    .dataframe tbody tr th {\n",
              "        vertical-align: top;\n",
              "    }\n",
              "\n",
              "    .dataframe thead th {\n",
              "        text-align: right;\n",
              "    }\n",
              "</style>\n",
              "<table border=\"1\" class=\"dataframe\">\n",
              "  <thead>\n",
              "    <tr style=\"text-align: right;\">\n",
              "      <th></th>\n",
              "      <th>MedInc</th>\n",
              "      <th>HouseAge</th>\n",
              "      <th>AveRooms</th>\n",
              "      <th>AveBedrms</th>\n",
              "      <th>Population</th>\n",
              "      <th>AveOccup</th>\n",
              "      <th>Latitude</th>\n",
              "      <th>Longitude</th>\n",
              "      <th>MedHouseVal</th>\n",
              "    </tr>\n",
              "  </thead>\n",
              "  <tbody>\n",
              "    <tr>\n",
              "      <th>0</th>\n",
              "      <td>8.3252</td>\n",
              "      <td>41.0</td>\n",
              "      <td>6.984127</td>\n",
              "      <td>1.023810</td>\n",
              "      <td>322.0</td>\n",
              "      <td>2.555556</td>\n",
              "      <td>37.88</td>\n",
              "      <td>-122.23</td>\n",
              "      <td>4.526</td>\n",
              "    </tr>\n",
              "    <tr>\n",
              "      <th>1</th>\n",
              "      <td>8.3014</td>\n",
              "      <td>21.0</td>\n",
              "      <td>6.238137</td>\n",
              "      <td>0.971880</td>\n",
              "      <td>2401.0</td>\n",
              "      <td>2.109842</td>\n",
              "      <td>37.86</td>\n",
              "      <td>-122.22</td>\n",
              "      <td>3.585</td>\n",
              "    </tr>\n",
              "    <tr>\n",
              "      <th>2</th>\n",
              "      <td>7.2574</td>\n",
              "      <td>52.0</td>\n",
              "      <td>8.288136</td>\n",
              "      <td>1.073446</td>\n",
              "      <td>496.0</td>\n",
              "      <td>2.802260</td>\n",
              "      <td>37.85</td>\n",
              "      <td>-122.24</td>\n",
              "      <td>3.521</td>\n",
              "    </tr>\n",
              "    <tr>\n",
              "      <th>3</th>\n",
              "      <td>5.6431</td>\n",
              "      <td>52.0</td>\n",
              "      <td>5.817352</td>\n",
              "      <td>1.073059</td>\n",
              "      <td>558.0</td>\n",
              "      <td>2.547945</td>\n",
              "      <td>37.85</td>\n",
              "      <td>-122.25</td>\n",
              "      <td>3.413</td>\n",
              "    </tr>\n",
              "    <tr>\n",
              "      <th>4</th>\n",
              "      <td>3.8462</td>\n",
              "      <td>52.0</td>\n",
              "      <td>6.281853</td>\n",
              "      <td>1.081081</td>\n",
              "      <td>565.0</td>\n",
              "      <td>2.181467</td>\n",
              "      <td>37.85</td>\n",
              "      <td>-122.25</td>\n",
              "      <td>3.422</td>\n",
              "    </tr>\n",
              "  </tbody>\n",
              "</table>\n",
              "</div>\n",
              "    <div class=\"colab-df-buttons\">\n",
              "\n",
              "  <div class=\"colab-df-container\">\n",
              "    <button class=\"colab-df-convert\" onclick=\"convertToInteractive('df-54006f4e-4d53-4134-a4ed-c0906c2dc7d2')\"\n",
              "            title=\"Convert this dataframe to an interactive table.\"\n",
              "            style=\"display:none;\">\n",
              "\n",
              "  <svg xmlns=\"http://www.w3.org/2000/svg\" height=\"24px\" viewBox=\"0 -960 960 960\">\n",
              "    <path d=\"M120-120v-720h720v720H120Zm60-500h600v-160H180v160Zm220 220h160v-160H400v160Zm0 220h160v-160H400v160ZM180-400h160v-160H180v160Zm440 0h160v-160H620v160ZM180-180h160v-160H180v160Zm440 0h160v-160H620v160Z\"/>\n",
              "  </svg>\n",
              "    </button>\n",
              "\n",
              "  <style>\n",
              "    .colab-df-container {\n",
              "      display:flex;\n",
              "      gap: 12px;\n",
              "    }\n",
              "\n",
              "    .colab-df-convert {\n",
              "      background-color: #E8F0FE;\n",
              "      border: none;\n",
              "      border-radius: 50%;\n",
              "      cursor: pointer;\n",
              "      display: none;\n",
              "      fill: #1967D2;\n",
              "      height: 32px;\n",
              "      padding: 0 0 0 0;\n",
              "      width: 32px;\n",
              "    }\n",
              "\n",
              "    .colab-df-convert:hover {\n",
              "      background-color: #E2EBFA;\n",
              "      box-shadow: 0px 1px 2px rgba(60, 64, 67, 0.3), 0px 1px 3px 1px rgba(60, 64, 67, 0.15);\n",
              "      fill: #174EA6;\n",
              "    }\n",
              "\n",
              "    .colab-df-buttons div {\n",
              "      margin-bottom: 4px;\n",
              "    }\n",
              "\n",
              "    [theme=dark] .colab-df-convert {\n",
              "      background-color: #3B4455;\n",
              "      fill: #D2E3FC;\n",
              "    }\n",
              "\n",
              "    [theme=dark] .colab-df-convert:hover {\n",
              "      background-color: #434B5C;\n",
              "      box-shadow: 0px 1px 3px 1px rgba(0, 0, 0, 0.15);\n",
              "      filter: drop-shadow(0px 1px 2px rgba(0, 0, 0, 0.3));\n",
              "      fill: #FFFFFF;\n",
              "    }\n",
              "  </style>\n",
              "\n",
              "    <script>\n",
              "      const buttonEl =\n",
              "        document.querySelector('#df-54006f4e-4d53-4134-a4ed-c0906c2dc7d2 button.colab-df-convert');\n",
              "      buttonEl.style.display =\n",
              "        google.colab.kernel.accessAllowed ? 'block' : 'none';\n",
              "\n",
              "      async function convertToInteractive(key) {\n",
              "        const element = document.querySelector('#df-54006f4e-4d53-4134-a4ed-c0906c2dc7d2');\n",
              "        const dataTable =\n",
              "          await google.colab.kernel.invokeFunction('convertToInteractive',\n",
              "                                                    [key], {});\n",
              "        if (!dataTable) return;\n",
              "\n",
              "        const docLinkHtml = 'Like what you see? Visit the ' +\n",
              "          '<a target=\"_blank\" href=https://colab.research.google.com/notebooks/data_table.ipynb>data table notebook</a>'\n",
              "          + ' to learn more about interactive tables.';\n",
              "        element.innerHTML = '';\n",
              "        dataTable['output_type'] = 'display_data';\n",
              "        await google.colab.output.renderOutput(dataTable, element);\n",
              "        const docLink = document.createElement('div');\n",
              "        docLink.innerHTML = docLinkHtml;\n",
              "        element.appendChild(docLink);\n",
              "      }\n",
              "    </script>\n",
              "  </div>\n",
              "\n",
              "\n",
              "<div id=\"df-9cad4450-ce95-41ee-bb54-14d92220055f\">\n",
              "  <button class=\"colab-df-quickchart\" onclick=\"quickchart('df-9cad4450-ce95-41ee-bb54-14d92220055f')\"\n",
              "            title=\"Suggest charts\"\n",
              "            style=\"display:none;\">\n",
              "\n",
              "<svg xmlns=\"http://www.w3.org/2000/svg\" height=\"24px\"viewBox=\"0 0 24 24\"\n",
              "     width=\"24px\">\n",
              "    <g>\n",
              "        <path d=\"M19 3H5c-1.1 0-2 .9-2 2v14c0 1.1.9 2 2 2h14c1.1 0 2-.9 2-2V5c0-1.1-.9-2-2-2zM9 17H7v-7h2v7zm4 0h-2V7h2v10zm4 0h-2v-4h2v4z\"/>\n",
              "    </g>\n",
              "</svg>\n",
              "  </button>\n",
              "\n",
              "<style>\n",
              "  .colab-df-quickchart {\n",
              "      --bg-color: #E8F0FE;\n",
              "      --fill-color: #1967D2;\n",
              "      --hover-bg-color: #E2EBFA;\n",
              "      --hover-fill-color: #174EA6;\n",
              "      --disabled-fill-color: #AAA;\n",
              "      --disabled-bg-color: #DDD;\n",
              "  }\n",
              "\n",
              "  [theme=dark] .colab-df-quickchart {\n",
              "      --bg-color: #3B4455;\n",
              "      --fill-color: #D2E3FC;\n",
              "      --hover-bg-color: #434B5C;\n",
              "      --hover-fill-color: #FFFFFF;\n",
              "      --disabled-bg-color: #3B4455;\n",
              "      --disabled-fill-color: #666;\n",
              "  }\n",
              "\n",
              "  .colab-df-quickchart {\n",
              "    background-color: var(--bg-color);\n",
              "    border: none;\n",
              "    border-radius: 50%;\n",
              "    cursor: pointer;\n",
              "    display: none;\n",
              "    fill: var(--fill-color);\n",
              "    height: 32px;\n",
              "    padding: 0;\n",
              "    width: 32px;\n",
              "  }\n",
              "\n",
              "  .colab-df-quickchart:hover {\n",
              "    background-color: var(--hover-bg-color);\n",
              "    box-shadow: 0 1px 2px rgba(60, 64, 67, 0.3), 0 1px 3px 1px rgba(60, 64, 67, 0.15);\n",
              "    fill: var(--button-hover-fill-color);\n",
              "  }\n",
              "\n",
              "  .colab-df-quickchart-complete:disabled,\n",
              "  .colab-df-quickchart-complete:disabled:hover {\n",
              "    background-color: var(--disabled-bg-color);\n",
              "    fill: var(--disabled-fill-color);\n",
              "    box-shadow: none;\n",
              "  }\n",
              "\n",
              "  .colab-df-spinner {\n",
              "    border: 2px solid var(--fill-color);\n",
              "    border-color: transparent;\n",
              "    border-bottom-color: var(--fill-color);\n",
              "    animation:\n",
              "      spin 1s steps(1) infinite;\n",
              "  }\n",
              "\n",
              "  @keyframes spin {\n",
              "    0% {\n",
              "      border-color: transparent;\n",
              "      border-bottom-color: var(--fill-color);\n",
              "      border-left-color: var(--fill-color);\n",
              "    }\n",
              "    20% {\n",
              "      border-color: transparent;\n",
              "      border-left-color: var(--fill-color);\n",
              "      border-top-color: var(--fill-color);\n",
              "    }\n",
              "    30% {\n",
              "      border-color: transparent;\n",
              "      border-left-color: var(--fill-color);\n",
              "      border-top-color: var(--fill-color);\n",
              "      border-right-color: var(--fill-color);\n",
              "    }\n",
              "    40% {\n",
              "      border-color: transparent;\n",
              "      border-right-color: var(--fill-color);\n",
              "      border-top-color: var(--fill-color);\n",
              "    }\n",
              "    60% {\n",
              "      border-color: transparent;\n",
              "      border-right-color: var(--fill-color);\n",
              "    }\n",
              "    80% {\n",
              "      border-color: transparent;\n",
              "      border-right-color: var(--fill-color);\n",
              "      border-bottom-color: var(--fill-color);\n",
              "    }\n",
              "    90% {\n",
              "      border-color: transparent;\n",
              "      border-bottom-color: var(--fill-color);\n",
              "    }\n",
              "  }\n",
              "</style>\n",
              "\n",
              "  <script>\n",
              "    async function quickchart(key) {\n",
              "      const quickchartButtonEl =\n",
              "        document.querySelector('#' + key + ' button');\n",
              "      quickchartButtonEl.disabled = true;  // To prevent multiple clicks.\n",
              "      quickchartButtonEl.classList.add('colab-df-spinner');\n",
              "      try {\n",
              "        const charts = await google.colab.kernel.invokeFunction(\n",
              "            'suggestCharts', [key], {});\n",
              "      } catch (error) {\n",
              "        console.error('Error during call to suggestCharts:', error);\n",
              "      }\n",
              "      quickchartButtonEl.classList.remove('colab-df-spinner');\n",
              "      quickchartButtonEl.classList.add('colab-df-quickchart-complete');\n",
              "    }\n",
              "    (() => {\n",
              "      let quickchartButtonEl =\n",
              "        document.querySelector('#df-9cad4450-ce95-41ee-bb54-14d92220055f button');\n",
              "      quickchartButtonEl.style.display =\n",
              "        google.colab.kernel.accessAllowed ? 'block' : 'none';\n",
              "    })();\n",
              "  </script>\n",
              "</div>\n",
              "\n",
              "    </div>\n",
              "  </div>\n"
            ],
            "application/vnd.google.colaboratory.intrinsic+json": {
              "type": "dataframe",
              "variable_name": "housing_df",
              "summary": "{\n  \"name\": \"housing_df\",\n  \"rows\": 20640,\n  \"fields\": [\n    {\n      \"column\": \"MedInc\",\n      \"properties\": {\n        \"dtype\": \"number\",\n        \"std\": 1.8998217179452688,\n        \"min\": 0.4999,\n        \"max\": 15.0001,\n        \"num_unique_values\": 12928,\n        \"samples\": [\n          5.0286,\n          2.0433,\n          6.1228\n        ],\n        \"semantic_type\": \"\",\n        \"description\": \"\"\n      }\n    },\n    {\n      \"column\": \"HouseAge\",\n      \"properties\": {\n        \"dtype\": \"number\",\n        \"std\": 12.58555761211165,\n        \"min\": 1.0,\n        \"max\": 52.0,\n        \"num_unique_values\": 52,\n        \"samples\": [\n          35.0,\n          25.0,\n          7.0\n        ],\n        \"semantic_type\": \"\",\n        \"description\": \"\"\n      }\n    },\n    {\n      \"column\": \"AveRooms\",\n      \"properties\": {\n        \"dtype\": \"number\",\n        \"std\": 2.4741731394243187,\n        \"min\": 0.8461538461538461,\n        \"max\": 141.9090909090909,\n        \"num_unique_values\": 19392,\n        \"samples\": [\n          6.111269614835948,\n          5.912820512820513,\n          5.7924528301886795\n        ],\n        \"semantic_type\": \"\",\n        \"description\": \"\"\n      }\n    },\n    {\n      \"column\": \"AveBedrms\",\n      \"properties\": {\n        \"dtype\": \"number\",\n        \"std\": 0.473910856795466,\n        \"min\": 0.3333333333333333,\n        \"max\": 34.06666666666667,\n        \"num_unique_values\": 14233,\n        \"samples\": [\n          0.9906542056074766,\n          1.112099644128114,\n          1.0398230088495575\n        ],\n        \"semantic_type\": \"\",\n        \"description\": \"\"\n      }\n    },\n    {\n      \"column\": \"Population\",\n      \"properties\": {\n        \"dtype\": \"number\",\n        \"std\": 1132.462121765341,\n        \"min\": 3.0,\n        \"max\": 35682.0,\n        \"num_unique_values\": 3888,\n        \"samples\": [\n          4169.0,\n          636.0,\n          3367.0\n        ],\n        \"semantic_type\": \"\",\n        \"description\": \"\"\n      }\n    },\n    {\n      \"column\": \"AveOccup\",\n      \"properties\": {\n        \"dtype\": \"number\",\n        \"std\": 10.386049562213618,\n        \"min\": 0.6923076923076923,\n        \"max\": 1243.3333333333333,\n        \"num_unique_values\": 18841,\n        \"samples\": [\n          2.6939799331103678,\n          3.559375,\n          3.297082228116711\n        ],\n        \"semantic_type\": \"\",\n        \"description\": \"\"\n      }\n    },\n    {\n      \"column\": \"Latitude\",\n      \"properties\": {\n        \"dtype\": \"number\",\n        \"std\": 2.1359523974571153,\n        \"min\": 32.54,\n        \"max\": 41.95,\n        \"num_unique_values\": 862,\n        \"samples\": [\n          33.7,\n          34.41,\n          38.24\n        ],\n        \"semantic_type\": \"\",\n        \"description\": \"\"\n      }\n    },\n    {\n      \"column\": \"Longitude\",\n      \"properties\": {\n        \"dtype\": \"number\",\n        \"std\": 2.0035317235025882,\n        \"min\": -124.35,\n        \"max\": -114.31,\n        \"num_unique_values\": 844,\n        \"samples\": [\n          -118.63,\n          -119.86,\n          -121.26\n        ],\n        \"semantic_type\": \"\",\n        \"description\": \"\"\n      }\n    },\n    {\n      \"column\": \"MedHouseVal\",\n      \"properties\": {\n        \"dtype\": \"number\",\n        \"std\": 1.1539561587441387,\n        \"min\": 0.14999,\n        \"max\": 5.00001,\n        \"num_unique_values\": 3842,\n        \"samples\": [\n          1.943,\n          3.79,\n          2.301\n        ],\n        \"semantic_type\": \"\",\n        \"description\": \"\"\n      }\n    }\n  ]\n}"
            }
          },
          "metadata": {},
          "execution_count": 7
        }
      ]
    },
    {
      "cell_type": "markdown",
      "source": [
        "2. Проверьте данные на наличие пропусков. Удалите их в случае обнаружения."
      ],
      "metadata": {
        "id": "DQqAX0yptD-6"
      }
    },
    {
      "cell_type": "code",
      "source": [
        "housing_df.info()"
      ],
      "metadata": {
        "colab": {
          "base_uri": "https://localhost:8080/"
        },
        "id": "BzwBgjzGtFux",
        "outputId": "031d63c8-9fc3-418b-b6cd-cafe206c71b0"
      },
      "execution_count": null,
      "outputs": [
        {
          "output_type": "stream",
          "name": "stdout",
          "text": [
            "<class 'pandas.core.frame.DataFrame'>\n",
            "RangeIndex: 20640 entries, 0 to 20639\n",
            "Data columns (total 9 columns):\n",
            " #   Column       Non-Null Count  Dtype  \n",
            "---  ------       --------------  -----  \n",
            " 0   MedInc       20640 non-null  float64\n",
            " 1   HouseAge     20640 non-null  float64\n",
            " 2   AveRooms     20640 non-null  float64\n",
            " 3   AveBedrms    20640 non-null  float64\n",
            " 4   Population   20640 non-null  float64\n",
            " 5   AveOccup     20640 non-null  float64\n",
            " 6   Latitude     20640 non-null  float64\n",
            " 7   Longitude    20640 non-null  float64\n",
            " 8   MedHouseVal  20640 non-null  float64\n",
            "dtypes: float64(9)\n",
            "memory usage: 1.4 MB\n"
          ]
        }
      ]
    },
    {
      "cell_type": "code",
      "source": [
        "(housing_df.isna().mean() * 100).round(2)"
      ],
      "metadata": {
        "colab": {
          "base_uri": "https://localhost:8080/"
        },
        "id": "YJAhma_xtgei",
        "outputId": "057e22eb-d39a-4cd2-e74c-bbe24087b2b5"
      },
      "execution_count": null,
      "outputs": [
        {
          "output_type": "execute_result",
          "data": {
            "text/plain": [
              "MedInc         0.0\n",
              "HouseAge       0.0\n",
              "AveRooms       0.0\n",
              "AveBedrms      0.0\n",
              "Population     0.0\n",
              "AveOccup       0.0\n",
              "Latitude       0.0\n",
              "Longitude      0.0\n",
              "MedHouseVal    0.0\n",
              "dtype: float64"
            ]
          },
          "metadata": {},
          "execution_count": 10
        }
      ]
    },
    {
      "cell_type": "markdown",
      "source": [
        "В данных отсутствуют пропуски."
      ],
      "metadata": {
        "id": "zW5JF6-otoPC"
      }
    },
    {
      "cell_type": "markdown",
      "source": [
        "3. Разделите выборку на обучающее и тестовое подмножества. 80% данных оставить на обучающее множество, 20% - на тестовое."
      ],
      "metadata": {
        "id": "RVLidUcFtqzq"
      }
    },
    {
      "cell_type": "code",
      "source": [
        "X = housing_df.drop(columns='MedHouseVal')\n",
        "y = housing_df['MedHouseVal']"
      ],
      "metadata": {
        "id": "2Ndj0r26t8XE"
      },
      "execution_count": null,
      "outputs": []
    },
    {
      "cell_type": "code",
      "source": [
        "X_train, X_test, y_train, y_test = train_test_split(X, y, test_size=0.2, random_state=42)"
      ],
      "metadata": {
        "id": "8Q9lxz8EttiG"
      },
      "execution_count": null,
      "outputs": []
    },
    {
      "cell_type": "markdown",
      "source": [
        "4. Постройте модель линейной регрессии. Вычислите метрики RMSE, R2 на обучающем и тестовом множестве."
      ],
      "metadata": {
        "id": "3h_y38BruuJ1"
      }
    },
    {
      "cell_type": "code",
      "source": [
        "model = LinearRegression()"
      ],
      "metadata": {
        "id": "E1MaIe45up1v"
      },
      "execution_count": null,
      "outputs": []
    },
    {
      "cell_type": "code",
      "source": [
        "model.fit(X_train, y_train)\n",
        "y_pred_test = model.predict(X_test)\n",
        "y_pred_train = model.predict(X_train)"
      ],
      "metadata": {
        "id": "2CwVIvT4vBsK"
      },
      "execution_count": null,
      "outputs": []
    },
    {
      "cell_type": "code",
      "source": [
        "r2_train1 = r2_score(y_train, y_pred_train)\n",
        "r2_test1 = r2_score(y_test, y_pred_test)"
      ],
      "metadata": {
        "id": "6z1erbBovFIY"
      },
      "execution_count": null,
      "outputs": []
    },
    {
      "cell_type": "code",
      "source": [
        "rmse_train1 = mean_squared_error(y_train, y_pred_train, squared=False)\n",
        "rmse_test1 = mean_squared_error(y_test, y_pred_test, squared=False)"
      ],
      "metadata": {
        "id": "n1K5RpoQxOJP"
      },
      "execution_count": null,
      "outputs": []
    },
    {
      "cell_type": "code",
      "source": [
        "print(f'R2 на тестовом множестве: {r2_test1}\\nR2 на обучающем множестве: {r2_train1}')\n",
        "print(f'RMSE на тестовом множестве: {rmse_test1}\\nRMSE на обучающем множестве: {rmse_train1}')"
      ],
      "metadata": {
        "colab": {
          "base_uri": "https://localhost:8080/"
        },
        "id": "--EKQ-wPxrmk",
        "outputId": "e1556147-8334-4c8c-ad3d-61ec6562e94d"
      },
      "execution_count": null,
      "outputs": [
        {
          "output_type": "stream",
          "name": "stdout",
          "text": [
            "R2 на тестовом множестве: 0.5757877060324508\n",
            "R2 на обучающем множестве: 0.6125511913966952\n",
            "RMSE на тестовом множестве: 0.7455813830127764\n",
            "RMSE на обучающем множестве: 0.7196757085831575\n"
          ]
        }
      ]
    },
    {
      "cell_type": "markdown",
      "source": [
        "Для удобства выполнения следующих пунктов организуем все эти действия в одну функцию"
      ],
      "metadata": {
        "id": "eKlhMA7_zFTR"
      }
    },
    {
      "cell_type": "code",
      "source": [
        "def linear_model(X, y):\n",
        "  X_train, X_test, y_train, y_test = train_test_split(X, y, test_size=0.2, random_state=42)\n",
        "  model = LinearRegression()\n",
        "  model.fit(X_train, y_train)\n",
        "  y_pred_test = model.predict(X_test)\n",
        "  y_pred_train = model.predict(X_train)\n",
        "  r2_train = r2_score(y_train, y_pred_train)\n",
        "  r2_test = r2_score(y_test, y_pred_test)\n",
        "  rmse_train = mean_squared_error(y_train, y_pred_train, squared=False)\n",
        "  rmse_test = mean_squared_error(y_test, y_pred_test, squared=False)\n",
        "  return r2_train, r2_test, rmse_train, rmse_test"
      ],
      "metadata": {
        "id": "9mGiqlzEzLM-"
      },
      "execution_count": null,
      "outputs": []
    },
    {
      "cell_type": "markdown",
      "source": [
        "5. Постройте график распределения целевой переменной. Сделайте вывод. Присутствуют ли в этом признаке выбросы?"
      ],
      "metadata": {
        "id": "OntG68fAzQTy"
      }
    },
    {
      "cell_type": "code",
      "source": [
        "plt.hist(housing_df['MedHouseVal'], bins = 20)\n",
        "plt.xlabel('Значение MedHouseVal')\n",
        "plt.ylabel('Частота')\n",
        "plt.title('График распределения MedHouseVal')\n",
        "plt.show()"
      ],
      "metadata": {
        "colab": {
          "base_uri": "https://localhost:8080/",
          "height": 472
        },
        "id": "ha3sul0Rzff5",
        "outputId": "d3113901-b36c-47d7-ae51-5394cfda52b8"
      },
      "execution_count": null,
      "outputs": [
        {
          "output_type": "display_data",
          "data": {
            "text/plain": [
              "<Figure size 640x480 with 1 Axes>"
            ],
            "image/png": "[encoded data removed]"
          },
          "metadata": {}
        }
      ]
    },
    {
      "cell_type": "markdown",
      "source": [
        "На графике видно, что распределение не нормальное, центр значений сдвинут влево. Выбросами могут являться значения, находящиеся около 5, тк бОльшая часть данных распределена слева."
      ],
      "metadata": {
        "id": "W6odrhOo0_yq"
      }
    },
    {
      "cell_type": "markdown",
      "source": [
        "6. Посчитайте и выведите корреляционную матрицу. Убедитесь, что ячейки матрицы поделены на цветные категории, в ячейках указано числовое значение корреляции.\n",
        "\n",
        "a. Сделайте выводы.\n",
        "\n",
        "b. Удалите признаки на основании полученных значений, выводов.\n",
        "\n",
        "c. Повторите п. 3, п. 4 на измененных данных."
      ],
      "metadata": {
        "id": "QMzMeWjW2B4I"
      }
    },
    {
      "cell_type": "code",
      "source": [
        "corr = housing_df.corr()\n",
        "corr.style.background_gradient(cmap='coolwarm')"
      ],
      "metadata": {
        "colab": {
          "base_uri": "https://localhost:8080/",
          "height": 331
        },
        "id": "5GdzZEXQ19n2",
        "outputId": "95600bb5-4710-4bb2-edc7-02b3306e34a3"
      },
      "execution_count": null,
      "outputs": [
        {
          "output_type": "execute_result",
          "data": {
            "text/plain": [
              "<pandas.io.formats.style.Styler at 0x7ff913f7bac0>"
            ],
            "text/html": [
              "<style type=\"text/css\">\n",
              "#T_9ff34_row0_col0, #T_9ff34_row1_col1, #T_9ff34_row2_col2, #T_9ff34_row3_col3, #T_9ff34_row4_col4, #T_9ff34_row5_col5, #T_9ff34_row6_col6, #T_9ff34_row7_col7, #T_9ff34_row8_col8 {\n",
              "  background-color: #b40426;\n",
              "  color: #f1f1f1;\n",
              "}\n",
              "#T_9ff34_row0_col1 {\n",
              "  background-color: #6485ec;\n",
              "  color: #f1f1f1;\n",
              "}\n",
              "#T_9ff34_row0_col2 {\n",
              "  background-color: #c5d6f2;\n",
              "  color: #000000;\n",
              "}\n",
              "#T_9ff34_row0_col3 {\n",
              "  background-color: #3e51c5;\n",
              "  color: #f1f1f1;\n",
              "}\n",
              "#T_9ff34_row0_col4 {\n",
              "  background-color: #86a9fc;\n",
              "  color: #f1f1f1;\n",
              "}\n",
              "#T_9ff34_row0_col5 {\n",
              "  background-color: #465ecf;\n",
              "  color: #f1f1f1;\n",
              "}\n",
              "#T_9ff34_row0_col6 {\n",
              "  background-color: #ccd9ed;\n",
              "  color: #000000;\n",
              "}\n",
              "#T_9ff34_row0_col7 {\n",
              "  background-color: #d5dbe5;\n",
              "  color: #000000;\n",
              "}\n",
              "#T_9ff34_row0_col8 {\n",
              "  background-color: #f6a283;\n",
              "  color: #000000;\n",
              "}\n",
              "#T_9ff34_row1_col0, #T_9ff34_row1_col2, #T_9ff34_row1_col3, #T_9ff34_row1_col4, #T_9ff34_row4_col1, #T_9ff34_row6_col7, #T_9ff34_row6_col8, #T_9ff34_row7_col6, #T_9ff34_row8_col5 {\n",
              "  background-color: #3b4cc0;\n",
              "  color: #f1f1f1;\n",
              "}\n",
              "#T_9ff34_row1_col5 {\n",
              "  background-color: #455cce;\n",
              "  color: #f1f1f1;\n",
              "}\n",
              "#T_9ff34_row1_col6, #T_9ff34_row3_col7 {\n",
              "  background-color: #d9dce1;\n",
              "  color: #000000;\n",
              "}\n",
              "#T_9ff34_row1_col7, #T_9ff34_row4_col6 {\n",
              "  background-color: #c7d7f0;\n",
              "  color: #000000;\n",
              "}\n",
              "#T_9ff34_row1_col8 {\n",
              "  background-color: #81a4fb;\n",
              "  color: #f1f1f1;\n",
              "}\n",
              "#T_9ff34_row2_col0 {\n",
              "  background-color: #c0d4f5;\n",
              "  color: #000000;\n",
              "}\n",
              "#T_9ff34_row2_col1, #T_9ff34_row4_col0 {\n",
              "  background-color: #5d7ce6;\n",
              "  color: #f1f1f1;\n",
              "}\n",
              "#T_9ff34_row2_col3 {\n",
              "  background-color: #e26952;\n",
              "  color: #f1f1f1;\n",
              "}\n",
              "#T_9ff34_row2_col4 {\n",
              "  background-color: #7295f4;\n",
              "  color: #f1f1f1;\n",
              "}\n",
              "#T_9ff34_row2_col5, #T_9ff34_row3_col5 {\n",
              "  background-color: #3f53c6;\n",
              "  color: #f1f1f1;\n",
              "}\n",
              "#T_9ff34_row2_col6 {\n",
              "  background-color: #e6d7cf;\n",
              "  color: #000000;\n",
              "}\n",
              "#T_9ff34_row2_col7 {\n",
              "  background-color: #d4dbe6;\n",
              "  color: #000000;\n",
              "}\n",
              "#T_9ff34_row2_col8 {\n",
              "  background-color: #90b2fe;\n",
              "  color: #000000;\n",
              "}\n",
              "#T_9ff34_row3_col0 {\n",
              "  background-color: #4a63d3;\n",
              "  color: #f1f1f1;\n",
              "}\n",
              "#T_9ff34_row3_col1 {\n",
              "  background-color: #7093f3;\n",
              "  color: #f1f1f1;\n",
              "}\n",
              "#T_9ff34_row3_col2 {\n",
              "  background-color: #df634e;\n",
              "  color: #f1f1f1;\n",
              "}\n",
              "#T_9ff34_row3_col4 {\n",
              "  background-color: #7396f5;\n",
              "  color: #f1f1f1;\n",
              "}\n",
              "#T_9ff34_row3_col6 {\n",
              "  background-color: #e1dad6;\n",
              "  color: #000000;\n",
              "}\n",
              "#T_9ff34_row3_col8, #T_9ff34_row7_col3, #T_9ff34_row7_col8 {\n",
              "  background-color: #5470de;\n",
              "  color: #f1f1f1;\n",
              "}\n",
              "#T_9ff34_row4_col2 {\n",
              "  background-color: #4f69d9;\n",
              "  color: #f1f1f1;\n",
              "}\n",
              "#T_9ff34_row4_col3 {\n",
              "  background-color: #3d50c3;\n",
              "  color: #f1f1f1;\n",
              "}\n",
              "#T_9ff34_row4_col5, #T_9ff34_row7_col0 {\n",
              "  background-color: #5673e0;\n",
              "  color: #f1f1f1;\n",
              "}\n",
              "#T_9ff34_row4_col7 {\n",
              "  background-color: #e5d8d1;\n",
              "  color: #000000;\n",
              "}\n",
              "#T_9ff34_row4_col8, #T_9ff34_row5_col8 {\n",
              "  background-color: #5a78e4;\n",
              "  color: #f1f1f1;\n",
              "}\n",
              "#T_9ff34_row5_col0 {\n",
              "  background-color: #6180e9;\n",
              "  color: #f1f1f1;\n",
              "}\n",
              "#T_9ff34_row5_col1 {\n",
              "  background-color: #89acfd;\n",
              "  color: #000000;\n",
              "}\n",
              "#T_9ff34_row5_col2 {\n",
              "  background-color: #6282ea;\n",
              "  color: #f1f1f1;\n",
              "}\n",
              "#T_9ff34_row5_col3 {\n",
              "  background-color: #4e68d8;\n",
              "  color: #f1f1f1;\n",
              "}\n",
              "#T_9ff34_row5_col4 {\n",
              "  background-color: #98b9ff;\n",
              "  color: #000000;\n",
              "}\n",
              "#T_9ff34_row5_col6, #T_9ff34_row5_col7 {\n",
              "  background-color: #d8dce2;\n",
              "  color: #000000;\n",
              "}\n",
              "#T_9ff34_row6_col0 {\n",
              "  background-color: #445acc;\n",
              "  color: #f1f1f1;\n",
              "}\n",
              "#T_9ff34_row6_col1 {\n",
              "  background-color: #88abfd;\n",
              "  color: #000000;\n",
              "}\n",
              "#T_9ff34_row6_col2 {\n",
              "  background-color: #84a7fc;\n",
              "  color: #f1f1f1;\n",
              "}\n",
              "#T_9ff34_row6_col3 {\n",
              "  background-color: #6687ed;\n",
              "  color: #f1f1f1;\n",
              "}\n",
              "#T_9ff34_row6_col4, #T_9ff34_row7_col1 {\n",
              "  background-color: #688aef;\n",
              "  color: #f1f1f1;\n",
              "}\n",
              "#T_9ff34_row6_col5, #T_9ff34_row7_col5 {\n",
              "  background-color: #4257c9;\n",
              "  color: #f1f1f1;\n",
              "}\n",
              "#T_9ff34_row7_col2 {\n",
              "  background-color: #5b7ae5;\n",
              "  color: #f1f1f1;\n",
              "}\n",
              "#T_9ff34_row7_col4 {\n",
              "  background-color: #a1c0ff;\n",
              "  color: #000000;\n",
              "}\n",
              "#T_9ff34_row8_col0 {\n",
              "  background-color: #f6a586;\n",
              "  color: #000000;\n",
              "}\n",
              "#T_9ff34_row8_col1 {\n",
              "  background-color: #a2c1ff;\n",
              "  color: #000000;\n",
              "}\n",
              "#T_9ff34_row8_col2 {\n",
              "  background-color: #92b4fe;\n",
              "  color: #000000;\n",
              "}\n",
              "#T_9ff34_row8_col3 {\n",
              "  background-color: #4358cb;\n",
              "  color: #f1f1f1;\n",
              "}\n",
              "#T_9ff34_row8_col4 {\n",
              "  background-color: #7ea1fa;\n",
              "  color: #f1f1f1;\n",
              "}\n",
              "#T_9ff34_row8_col6 {\n",
              "  background-color: #c1d4f4;\n",
              "  color: #000000;\n",
              "}\n",
              "#T_9ff34_row8_col7 {\n",
              "  background-color: #d1dae9;\n",
              "  color: #000000;\n",
              "}\n",
              "</style>\n",
              "<table id=\"T_9ff34\" class=\"dataframe\">\n",
              "  <thead>\n",
              "    <tr>\n",
              "      <th class=\"blank level0\" >&nbsp;</th>\n",
              "      <th id=\"T_9ff34_level0_col0\" class=\"col_heading level0 col0\" >MedInc</th>\n",
              "      <th id=\"T_9ff34_level0_col1\" class=\"col_heading level0 col1\" >HouseAge</th>\n",
              "      <th id=\"T_9ff34_level0_col2\" class=\"col_heading level0 col2\" >AveRooms</th>\n",
              "      <th id=\"T_9ff34_level0_col3\" class=\"col_heading level0 col3\" >AveBedrms</th>\n",
              "      <th id=\"T_9ff34_level0_col4\" class=\"col_heading level0 col4\" >Population</th>\n",
              "      <th id=\"T_9ff34_level0_col5\" class=\"col_heading level0 col5\" >AveOccup</th>\n",
              "      <th id=\"T_9ff34_level0_col6\" class=\"col_heading level0 col6\" >Latitude</th>\n",
              "      <th id=\"T_9ff34_level0_col7\" class=\"col_heading level0 col7\" >Longitude</th>\n",
              "      <th id=\"T_9ff34_level0_col8\" class=\"col_heading level0 col8\" >MedHouseVal</th>\n",
              "    </tr>\n",
              "  </thead>\n",
              "  <tbody>\n",
              "    <tr>\n",
              "      <th id=\"T_9ff34_level0_row0\" class=\"row_heading level0 row0\" >MedInc</th>\n",
              "      <td id=\"T_9ff34_row0_col0\" class=\"data row0 col0\" >1.000000</td>\n",
              "      <td id=\"T_9ff34_row0_col1\" class=\"data row0 col1\" >-0.119034</td>\n",
              "      <td id=\"T_9ff34_row0_col2\" class=\"data row0 col2\" >0.326895</td>\n",
              "      <td id=\"T_9ff34_row0_col3\" class=\"data row0 col3\" >-0.062040</td>\n",
              "      <td id=\"T_9ff34_row0_col4\" class=\"data row0 col4\" >0.004834</td>\n",
              "      <td id=\"T_9ff34_row0_col5\" class=\"data row0 col5\" >0.018766</td>\n",
              "      <td id=\"T_9ff34_row0_col6\" class=\"data row0 col6\" >-0.079809</td>\n",
              "      <td id=\"T_9ff34_row0_col7\" class=\"data row0 col7\" >-0.015176</td>\n",
              "      <td id=\"T_9ff34_row0_col8\" class=\"data row0 col8\" >0.688075</td>\n",
              "    </tr>\n",
              "    <tr>\n",
              "      <th id=\"T_9ff34_level0_row1\" class=\"row_heading level0 row1\" >HouseAge</th>\n",
              "      <td id=\"T_9ff34_row1_col0\" class=\"data row1 col0\" >-0.119034</td>\n",
              "      <td id=\"T_9ff34_row1_col1\" class=\"data row1 col1\" >1.000000</td>\n",
              "      <td id=\"T_9ff34_row1_col2\" class=\"data row1 col2\" >-0.153277</td>\n",
              "      <td id=\"T_9ff34_row1_col3\" class=\"data row1 col3\" >-0.077747</td>\n",
              "      <td id=\"T_9ff34_row1_col4\" class=\"data row1 col4\" >-0.296244</td>\n",
              "      <td id=\"T_9ff34_row1_col5\" class=\"data row1 col5\" >0.013191</td>\n",
              "      <td id=\"T_9ff34_row1_col6\" class=\"data row1 col6\" >0.011173</td>\n",
              "      <td id=\"T_9ff34_row1_col7\" class=\"data row1 col7\" >-0.108197</td>\n",
              "      <td id=\"T_9ff34_row1_col8\" class=\"data row1 col8\" >0.105623</td>\n",
              "    </tr>\n",
              "    <tr>\n",
              "      <th id=\"T_9ff34_level0_row2\" class=\"row_heading level0 row2\" >AveRooms</th>\n",
              "      <td id=\"T_9ff34_row2_col0\" class=\"data row2 col0\" >0.326895</td>\n",
              "      <td id=\"T_9ff34_row2_col1\" class=\"data row2 col1\" >-0.153277</td>\n",
              "      <td id=\"T_9ff34_row2_col2\" class=\"data row2 col2\" >1.000000</td>\n",
              "      <td id=\"T_9ff34_row2_col3\" class=\"data row2 col3\" >0.847621</td>\n",
              "      <td id=\"T_9ff34_row2_col4\" class=\"data row2 col4\" >-0.072213</td>\n",
              "      <td id=\"T_9ff34_row2_col5\" class=\"data row2 col5\" >-0.004852</td>\n",
              "      <td id=\"T_9ff34_row2_col6\" class=\"data row2 col6\" >0.106389</td>\n",
              "      <td id=\"T_9ff34_row2_col7\" class=\"data row2 col7\" >-0.027540</td>\n",
              "      <td id=\"T_9ff34_row2_col8\" class=\"data row2 col8\" >0.151948</td>\n",
              "    </tr>\n",
              "    <tr>\n",
              "      <th id=\"T_9ff34_level0_row3\" class=\"row_heading level0 row3\" >AveBedrms</th>\n",
              "      <td id=\"T_9ff34_row3_col0\" class=\"data row3 col0\" >-0.062040</td>\n",
              "      <td id=\"T_9ff34_row3_col1\" class=\"data row3 col1\" >-0.077747</td>\n",
              "      <td id=\"T_9ff34_row3_col2\" class=\"data row3 col2\" >0.847621</td>\n",
              "      <td id=\"T_9ff34_row3_col3\" class=\"data row3 col3\" >1.000000</td>\n",
              "      <td id=\"T_9ff34_row3_col4\" class=\"data row3 col4\" >-0.066197</td>\n",
              "      <td id=\"T_9ff34_row3_col5\" class=\"data row3 col5\" >-0.006181</td>\n",
              "      <td id=\"T_9ff34_row3_col6\" class=\"data row3 col6\" >0.069721</td>\n",
              "      <td id=\"T_9ff34_row3_col7\" class=\"data row3 col7\" >0.013344</td>\n",
              "      <td id=\"T_9ff34_row3_col8\" class=\"data row3 col8\" >-0.046701</td>\n",
              "    </tr>\n",
              "    <tr>\n",
              "      <th id=\"T_9ff34_level0_row4\" class=\"row_heading level0 row4\" >Population</th>\n",
              "      <td id=\"T_9ff34_row4_col0\" class=\"data row4 col0\" >0.004834</td>\n",
              "      <td id=\"T_9ff34_row4_col1\" class=\"data row4 col1\" >-0.296244</td>\n",
              "      <td id=\"T_9ff34_row4_col2\" class=\"data row4 col2\" >-0.072213</td>\n",
              "      <td id=\"T_9ff34_row4_col3\" class=\"data row4 col3\" >-0.066197</td>\n",
              "      <td id=\"T_9ff34_row4_col4\" class=\"data row4 col4\" >1.000000</td>\n",
              "      <td id=\"T_9ff34_row4_col5\" class=\"data row4 col5\" >0.069863</td>\n",
              "      <td id=\"T_9ff34_row4_col6\" class=\"data row4 col6\" >-0.108785</td>\n",
              "      <td id=\"T_9ff34_row4_col7\" class=\"data row4 col7\" >0.099773</td>\n",
              "      <td id=\"T_9ff34_row4_col8\" class=\"data row4 col8\" >-0.024650</td>\n",
              "    </tr>\n",
              "    <tr>\n",
              "      <th id=\"T_9ff34_level0_row5\" class=\"row_heading level0 row5\" >AveOccup</th>\n",
              "      <td id=\"T_9ff34_row5_col0\" class=\"data row5 col0\" >0.018766</td>\n",
              "      <td id=\"T_9ff34_row5_col1\" class=\"data row5 col1\" >0.013191</td>\n",
              "      <td id=\"T_9ff34_row5_col2\" class=\"data row5 col2\" >-0.004852</td>\n",
              "      <td id=\"T_9ff34_row5_col3\" class=\"data row5 col3\" >-0.006181</td>\n",
              "      <td id=\"T_9ff34_row5_col4\" class=\"data row5 col4\" >0.069863</td>\n",
              "      <td id=\"T_9ff34_row5_col5\" class=\"data row5 col5\" >1.000000</td>\n",
              "      <td id=\"T_9ff34_row5_col6\" class=\"data row5 col6\" >0.002366</td>\n",
              "      <td id=\"T_9ff34_row5_col7\" class=\"data row5 col7\" >0.002476</td>\n",
              "      <td id=\"T_9ff34_row5_col8\" class=\"data row5 col8\" >-0.023737</td>\n",
              "    </tr>\n",
              "    <tr>\n",
              "      <th id=\"T_9ff34_level0_row6\" class=\"row_heading level0 row6\" >Latitude</th>\n",
              "      <td id=\"T_9ff34_row6_col0\" class=\"data row6 col0\" >-0.079809</td>\n",
              "      <td id=\"T_9ff34_row6_col1\" class=\"data row6 col1\" >0.011173</td>\n",
              "      <td id=\"T_9ff34_row6_col2\" class=\"data row6 col2\" >0.106389</td>\n",
              "      <td id=\"T_9ff34_row6_col3\" class=\"data row6 col3\" >0.069721</td>\n",
              "      <td id=\"T_9ff34_row6_col4\" class=\"data row6 col4\" >-0.108785</td>\n",
              "      <td id=\"T_9ff34_row6_col5\" class=\"data row6 col5\" >0.002366</td>\n",
              "      <td id=\"T_9ff34_row6_col6\" class=\"data row6 col6\" >1.000000</td>\n",
              "      <td id=\"T_9ff34_row6_col7\" class=\"data row6 col7\" >-0.924664</td>\n",
              "      <td id=\"T_9ff34_row6_col8\" class=\"data row6 col8\" >-0.144160</td>\n",
              "    </tr>\n",
              "    <tr>\n",
              "      <th id=\"T_9ff34_level0_row7\" class=\"row_heading level0 row7\" >Longitude</th>\n",
              "      <td id=\"T_9ff34_row7_col0\" class=\"data row7 col0\" >-0.015176</td>\n",
              "      <td id=\"T_9ff34_row7_col1\" class=\"data row7 col1\" >-0.108197</td>\n",
              "      <td id=\"T_9ff34_row7_col2\" class=\"data row7 col2\" >-0.027540</td>\n",
              "      <td id=\"T_9ff34_row7_col3\" class=\"data row7 col3\" >0.013344</td>\n",
              "      <td id=\"T_9ff34_row7_col4\" class=\"data row7 col4\" >0.099773</td>\n",
              "      <td id=\"T_9ff34_row7_col5\" class=\"data row7 col5\" >0.002476</td>\n",
              "      <td id=\"T_9ff34_row7_col6\" class=\"data row7 col6\" >-0.924664</td>\n",
              "      <td id=\"T_9ff34_row7_col7\" class=\"data row7 col7\" >1.000000</td>\n",
              "      <td id=\"T_9ff34_row7_col8\" class=\"data row7 col8\" >-0.045967</td>\n",
              "    </tr>\n",
              "    <tr>\n",
              "      <th id=\"T_9ff34_level0_row8\" class=\"row_heading level0 row8\" >MedHouseVal</th>\n",
              "      <td id=\"T_9ff34_row8_col0\" class=\"data row8 col0\" >0.688075</td>\n",
              "      <td id=\"T_9ff34_row8_col1\" class=\"data row8 col1\" >0.105623</td>\n",
              "      <td id=\"T_9ff34_row8_col2\" class=\"data row8 col2\" >0.151948</td>\n",
              "      <td id=\"T_9ff34_row8_col3\" class=\"data row8 col3\" >-0.046701</td>\n",
              "      <td id=\"T_9ff34_row8_col4\" class=\"data row8 col4\" >-0.024650</td>\n",
              "      <td id=\"T_9ff34_row8_col5\" class=\"data row8 col5\" >-0.023737</td>\n",
              "      <td id=\"T_9ff34_row8_col6\" class=\"data row8 col6\" >-0.144160</td>\n",
              "      <td id=\"T_9ff34_row8_col7\" class=\"data row8 col7\" >-0.045967</td>\n",
              "      <td id=\"T_9ff34_row8_col8\" class=\"data row8 col8\" >1.000000</td>\n",
              "    </tr>\n",
              "  </tbody>\n",
              "</table>\n"
            ]
          },
          "metadata": {},
          "execution_count": 52
        }
      ]
    },
    {
      "cell_type": "markdown",
      "source": [
        "Для избежания переобучения модели между признаками не должно быть сильной корреляции. На корреляционной матрице видно, что корреляцию 0.85 имеют признаки AveRooms и AveBedrms (среднее кол-во комнат и спален), поэтому признак AveBedrms необходимо удалить. Также среднюю корреляцию имеет признак MedInc и целевая переменная MedHouseVal, но удаление столбца с данными о среднем доходе населения может негативно сказаться на точности модели, тк средний доход - важный фактор при определении стоимости жилья. Поэтому можно построить 2 модели с MedInc и без для того, чтобы проверить, какой вклад в точность вносит наличие этого признака."
      ],
      "metadata": {
        "id": "S_qtMxYQ3XrY"
      }
    },
    {
      "cell_type": "code",
      "source": [
        "X_corr1 = housing_df.drop(columns=['MedHouseVal', 'AveBedrms'])\n",
        "X_corr2 = housing_df.drop(columns=['MedHouseVal', 'AveBedrms', 'MedInc'])"
      ],
      "metadata": {
        "id": "EwPKvn4P6VWA"
      },
      "execution_count": null,
      "outputs": []
    },
    {
      "cell_type": "code",
      "source": [
        "r2_train2, r2_test2, rmse_train2, rmse_test2 = linear_model(X_corr1, y)\n",
        "print(f'R2 на тестовом множестве: {r2_test2}\\nR2 на обучающем множестве: {r2_train2}')\n",
        "print(f'RMSE на тестовом множестве: {rmse_test2}\\nRMSE на обучающем множестве: {rmse_train2}')"
      ],
      "metadata": {
        "colab": {
          "base_uri": "https://localhost:8080/"
        },
        "id": "D80NeNzf6loi",
        "outputId": "7e5af4c5-0384-45f3-d597-b73bf33cfd54"
      },
      "execution_count": null,
      "outputs": [
        {
          "output_type": "stream",
          "name": "stdout",
          "text": [
            "R2 на тестовом множестве: 0.5823239094526445\n",
            "R2 на обучающем множестве: 0.5995238502055928\n",
            "RMSE на тестовом множестве: 0.7398151789804083\n",
            "RMSE на обучающем множестве: 0.7316746485880744\n"
          ]
        }
      ]
    },
    {
      "cell_type": "markdown",
      "source": [
        "Значение коэффициента R2 увеличилось и значение среднеквадратичной ошибки уменьшилось на тестовом множестве, что говорит о повышении (хоть и небольшом) точности модели, в то время как значения на обучающем множестве чуть ухудшились, что говорит об отсутствии переобучения модели."
      ],
      "metadata": {
        "id": "CBpij3Pq7jeK"
      }
    },
    {
      "cell_type": "code",
      "source": [
        "r2_train3, r2_test3, rmse_train3, rmse_test3 = linear_model(X_corr2, y)\n",
        "print(f'R2 на тестовом множестве: {r2_test3}\\nR2 на обучающем множестве: {r2_train3}')\n",
        "print(f'RMSE на тестовом множестве: {rmse_test3}\\nRMSE на обучающем множестве: {rmse_train3}')"
      ],
      "metadata": {
        "colab": {
          "base_uri": "https://localhost:8080/"
        },
        "id": "_UnyB3i27Cv_",
        "outputId": "3b0f79eb-4433-447f-c281-f6a1ac50e017"
      },
      "execution_count": null,
      "outputs": [
        {
          "output_type": "stream",
          "name": "stdout",
          "text": [
            "R2 на тестовом множестве: 0.2988668599138865\n",
            "R2 на обучающем множестве: 0.3138821758933589\n",
            "RMSE на тестовом множестве: 0.9585255143766792\n",
            "RMSE на обучающем множестве: 0.9576989913256296\n"
          ]
        }
      ]
    },
    {
      "cell_type": "markdown",
      "source": [
        "Здесь представлены значения метрик при удалении признака со средним доходом. Они сильно ухудшились и поэтому можно сделать вывод о том, что удалять признак не нужно."
      ],
      "metadata": {
        "id": "jqJ8OX3r8hbY"
      }
    },
    {
      "cell_type": "markdown",
      "source": [
        "7. Исследуйте оставленные признаки на выбросы.\n",
        "\n",
        "a. Удалите выбросы в случае обнаружения.\n",
        "\n",
        "b. Повторите п. 3, п. 4 на измененных данных."
      ],
      "metadata": {
        "id": "sawPUld99eJP"
      }
    },
    {
      "cell_type": "markdown",
      "source": [
        "Для удобства напишем отдельную функцию для определения значений выбросов."
      ],
      "metadata": {
        "id": "ndcYnZsXAhk8"
      }
    },
    {
      "cell_type": "code",
      "source": [
        "def find_outliers(data, column_name):\n",
        "  q1 = data[column_name].quantile(0.25)\n",
        "  q3 = data[column_name].quantile(0.75)\n",
        "  iqr = q3 - q1\n",
        "  lower_bound = q1 - 1.5 * iqr\n",
        "  upper_bound = q3 + 1.5 * iqr\n",
        "  outliers = data[(data[column_name] < lower_bound) | (data[column_name] > upper_bound)]\n",
        "  outliers_value = data.loc[outliers.index, column_name].tolist() #запись в список значений выбросов\n",
        "  return outliers_value"
      ],
      "metadata": {
        "id": "ZUZoDrQV9k8I"
      },
      "execution_count": null,
      "outputs": []
    },
    {
      "cell_type": "code",
      "source": [
        "for column_name in housing_df.columns:\n",
        "  outliers_value = find_outliers(housing_df, column_name)\n",
        "  print(f'Выбросов в столбце {column_name} {len(outliers_value)} штук: {outliers_value}')"
      ],
      "metadata": {
        "colab": {
          "base_uri": "https://localhost:8080/"
        },
        "id": "xiptjbrrAmbt",
        "outputId": "fcdaa93d-9a1a-4d2a-cb96-07dc912fdd0a"
      },
      "execution_count": null,
      "outputs": [
        {
          "output_type": "stream",
          "name": "stdout",
          "text": [
            "Выбросов в столбце MedInc 681 штук: [8.3252, 8.3014, 11.6017, 8.2049, 8.401, 8.317, 8.1564, 8.8793, 8.8342, 10.0825, 9.3959, 11.8603, 13.499, 12.2138, 8.1872, 12.3804, 8.1194, 8.7477, 8.3996, 8.4045, 9.7194, 8.3337, 10.9506, 10.3203, 9.1531, 9.5862, 8.155, 8.3188, 9.7037, 10.3345, 12.5915, 15.0001, 9.8708, 8.2673, 8.4352, 10.7372, 13.4883, 9.5271, 12.2478, 8.0839, 9.0776, 8.039, 10.4549, 10.3224, 8.3678, 8.0448, 10.3713, 11.7064, 11.3421, 8.1586, 8.9571, 8.7589, 10.9405, 10.3416, 9.0064, 8.1489, 10.5815, 13.2949, 13.1499, 8.3209, 8.3956, 8.1163, 9.0243, 8.7059, 10.5144, 8.9669, 8.7716, 8.3608, 8.2737, 10.0263, 10.5941, 8.5325, 9.2873, 8.1248, 8.8467, 8.1125, 10.8805, 8.2159, 8.176, 10.9052, 8.203, 8.1356, 9.6047, 8.565, 8.1714, 8.7471, 8.8612, 8.6454, 8.3841, 11.2093, 8.4438, 9.6465, 8.3912, 10.9201, 8.4196, 10.5511, 8.7172, 13.4196, 10.3587, 10.6796, 11.2979, 12.8879, 9.2189, 10.2292, 10.4399, 10.0549, 8.2269, 10.3599, 8.8115, 8.153, 10.9237, 8.2954, 9.042, 8.0499, 8.5677, 10.5575, 12.7823, 12.8763, 12.9591, 8.4389, 8.2335, 10.3661, 11.615, 8.5136, 8.5842, 15.0001, 9.3092, 8.944, 10.2264, 8.8062, 15.0001, 15.0001, 15.0001, 11.2185, 15.0001, 8.3617, 10.586, 15.0001, 8.2816, 15.0001, 12.3767, 12.7296, 9.7449, 15.0001, 15.0001, 11.8442, 11.1978, 13.2935, 10.7937, 8.5153, 12.8665, 15.0001, 13.5728, 13.947, 15.0, 8.1888, 11.2866, 8.565, 8.8619, 8.2934, 11.4233, 10.8082, 13.6842, 9.1078, 15.0001, 10.1882, 9.4664, 9.5221, 15.0001, 15.0001, 10.3467, 8.9565, 14.2867, 9.2225, 10.8045, 9.272, 12.8483, 8.1484, 8.0239, 10.9805, 11.1768, 8.5938, 10.4519, 8.1631, 10.0, 12.0088, 8.7819, 8.1132, 8.1657, 12.1579, 8.1325, 9.5823, 8.0683, 8.2827, 8.105, 11.1077, 10.1248, 9.7066, 9.4667, 9.8098, 8.2004, 15.0001, 8.9728, 8.4889, 15.0001, 10.2289, 9.532, 8.7835, 9.8413, 8.3695, 8.72, 8.4802, 9.2463, 15.0001, 15.0001, 15.0001, 9.0702, 9.4987, 8.4546, 8.2435, 11.7894, 10.7397, 11.706, 10.6767, 11.5609, 15.0001, 10.2317, 9.1373, 8.1124, 12.4237, 9.7912, 11.6471, 15.0001, 8.058, 8.3474, 10.4835, 9.1541, 10.8034, 8.6677, 10.2233, 8.468, 9.0812, 8.1596, 8.2037, 8.1513, 9.3399, 8.5491, 10.5045, 8.1782, 8.3609, 8.2064, 10.1241, 8.0838, 11.9993, 10.898, 12.9758, 11.6648, 10.06, 10.5536, 8.0957, 10.1447, 9.821, 8.5421, 8.2831, 15.0001, 10.0973, 9.8091, 9.8214, 9.267, 11.6677, 10.1357, 15.0001, 15.0001, 15.0001, 15.0001, 15.0001, 15.0001, 15.0001, 15.0001, 15.0001, 8.2961, 9.337, 13.8556, 13.3036, 8.0257, 15.0001, 8.3839, 11.7045, 8.9616, 8.6718, 9.1232, 9.7646, 10.076, 9.1228, 8.0137, 8.0144, 8.4476, 8.8666, 8.4331, 8.7364, 10.0285, 8.1344, 8.3646, 8.5759, 12.0933, 9.1834, 10.6272, 9.5551, 10.129, 8.3935, 14.5833, 8.8386, 11.5706, 10.0791, 8.4888, 8.634, 8.9248, 12.2547, 8.0922, 10.1854, 14.4113, 9.5561, 9.3125, 9.0055, 13.1107, 9.9071, 9.7956, 9.2327, 8.0287, 8.1117, 8.9088, 10.1299, 10.5981, 8.3931, 9.8074, 8.7124, 10.1316, 8.2375, 9.1808, 8.847, 8.4112, 8.4471, 10.1531, 8.798, 8.1611, 9.6986, 8.0409, 10.0765, 11.0567, 10.9704, 10.49, 13.0502, 10.3983, 9.8321, 8.8636, 14.9009, 10.3953, 8.163, 13.1477, 10.1122, 8.3275, 10.4415, 8.583, 8.7591, 8.3634, 8.6088, 8.111, 10.4498, 8.7603, 8.2953, 8.1926, 8.735, 8.284, 8.7974, 8.1111, 8.7385, 10.9601, 10.0757, 8.6001, 10.1275, 9.0519, 10.1989, 10.3893, 15.0001, 8.4614, 10.6349, 8.1093, 8.8693, 11.1121, 9.8589, 11.0138, 12.3411, 8.8742, 11.075, 10.3682, 10.3048, 11.216, 8.5574, 13.1738, 10.2849, 10.8289, 15.0001, 9.802, 10.1454, 9.2175, 8.1001, 8.1839, 9.6062, 8.0784, 11.0546, 13.466, 9.3845, 8.5403, 11.4537, 10.1714, 8.2653, 11.0124, 8.7496, 10.157, 8.3818, 12.2092, 11.1228, 8.3637, 8.9257, 10.8111, 9.9055, 8.289, 10.1154, 11.5199, 9.5268, 8.7397, 8.8281, 9.8177, 9.8346, 15.0001, 10.5424, 8.4952, 8.7015, 8.5407, 8.6123, 8.5621, 9.0683, 10.2252, 8.4882, 10.9891, 8.2405, 8.5326, 12.5381, 9.4356, 10.2948, 8.338, 8.4016, 8.4699, 8.6572, 8.05, 8.0379, 10.2264, 8.4411, 8.5282, 8.6573, 8.8204, 8.4839, 10.8634, 8.603, 8.1548, 11.3074, 8.1844, 10.7751, 8.2374, 10.9529, 8.051, 9.5245, 10.7721, 8.496, 8.0639, 12.4429, 10.0707, 8.4355, 10.3354, 9.2858, 8.7604, 9.6023, 8.7991, 8.093, 10.6186, 8.4721, 8.4284, 11.0911, 13.6623, 10.156, 11.1118, 10.1768, 15.0001, 8.2531, 8.6803, 8.5957, 8.0755, 10.8783, 8.0755, 15.0001, 10.0914, 10.7097, 14.2959, 10.7569, 9.3603, 10.959, 8.1189, 10.7309, 10.6605, 9.1881, 10.7058, 15.0001, 10.2264, 10.0088, 12.5, 8.4704, 12.4291, 10.7339, 15.0001, 11.6833, 12.6417, 13.3913, 10.1675, 14.4219, 8.2598, 10.4286, 10.0743, 9.3694, 8.1221, 9.1415, 8.9083, 8.1039, 8.4693, 8.5184, 9.8892, 15.0001, 15.0001, 10.8758, 15.0001, 15.0001, 9.9025, 13.367, 15.0001, 9.459, 8.2436, 9.3198, 8.9955, 8.6963, 8.4375, 9.7796, 11.9666, 8.2782, 10.0481, 11.3176, 13.2986, 8.2883, 8.7382, 15.0001, 10.2811, 15.0001, 10.6514, 10.6868, 8.2364, 8.7394, 8.5608, 9.4522, 9.0267, 11.7794, 9.7821, 9.6885, 8.1871, 12.3292, 8.6675, 10.3798, 10.9722, 15.0001, 9.3834, 8.492, 10.0187, 9.0704, 8.2069, 15.0, 10.7582, 11.2463, 8.5425, 8.8178, 10.2666, 8.0331, 10.2311, 11.1557, 10.6834, 10.3653, 8.7939, 10.3979, 9.1569, 8.3605, 9.8937, 9.3464, 10.675, 10.5793, 12.2145, 10.7958, 8.248, 8.0727, 9.2298, 10.7326, 8.0158, 8.0837, 8.1078, 8.0599, 8.6155, 10.0346, 9.281, 8.2266, 8.758, 9.8144, 8.5888, 10.1007, 10.5142, 12.367, 10.3591, 8.3924, 8.1064, 10.3329, 8.9021, 8.9172, 8.4709, 10.3894, 9.1508, 10.3942, 10.9508, 8.7051, 8.2664, 12.5902, 11.0492, 10.476, 10.7237, 12.0372, 10.7355, 13.1867, 11.806, 10.4277, 9.3586, 8.5294, 10.0259, 12.1387, 12.9792, 13.8093, 8.6196, 11.3283, 8.4262, 8.3837, 8.0595, 9.1974, 9.08, 8.3792, 8.1988, 8.19, 8.3065, 15.0001, 15.0001, 9.5908, 10.0968, 10.2264, 8.7783, 9.0376, 12.632, 8.9063, 8.0428, 8.4443, 10.2614, 8.7657, 10.1597, 8.1064, 10.0595, 8.1397, 10.0472, 8.6499, 8.7288, 12.542, 8.2787]\n",
            "Выбросов в столбце HouseAge 0 штук: []\n",
            "Выбросов в столбце AveRooms 511 штук: [1.7142857142857142, 8.972868217054264, 8.928358208955224, 9.210227272727273, 9.122715404699738, 9.0, 8.518248175182482, 8.973684210526315, 10.51530612244898, 29.852941176470587, 8.62530413625304, 10.168591224018476, 31.77777777777778, 16.847533632286996, 28.75728155339806, 13.473039215686274, 11.490861618798956, 9.793028322440087, 28.112903225806452, 33.98969072164948, 47.515151515151516, 8.527293844367016, 9.263598326359833, 8.481045751633987, 8.606299212598426, 8.94675925925926, 8.74031007751938, 10.511627906976743, 22.22222222222222, 9.016112789526687, 9.361702127659575, 8.540925266903914, 9.104216388225934, 8.802531645569621, 8.853061224489796, 23.88888888888889, 9.77578475336323, 38.84090909090909, 13.104166666666666, 10.639455782312925, 8.886039886039885, 20.900783289817234, 11.183266932270916, 9.308383233532934, 11.679878048780488, 9.979166666666666, 9.418685121107266, 11.024561403508772, 10.375478927203066, 9.053571428571429, 16.883561643835616, 15.813953488372093, 56.26923076923077, 61.8125, 141.9090909090909, 37.0, 8.747474747474747, 34.84375, 132.53333333333333, 9.286821705426357, 8.642585551330798, 26.452173913043477, 50.83783783783784, 26.041095890410958, 29.074766355140188, 20.2, 11.0, 24.5, 10.4, 8.857142857142858, 10.0, 9.31496062992126, 8.714285714285714, 1.6296296296296295, 9.625, 11.865489130434783, 31.0625, 1.0, 21.63157894736842, 8.580645161290322, 8.758620689655173, 13.440677966101696, 11.209523809523809, 9.05511811023622, 10.053140096618357, 8.970967741935484, 8.551136363636363, 8.643705463182897, 8.495726495726496, 10.909090909090908, 19.96212121212121, 8.604754829123328, 8.986206896551725, 9.0, 1.9118264520643806, 1.875, 8.659574468085106, 1.64, 1.3784860557768925, 1.2608695652173914, 2.0207253886010363, 1.7482866043613707, 1.8680738786279683, 1.6544401544401544, 1.7680250783699059, 1.5981308411214954, 1.9268774703557312, 1.4112903225806452, 1.7845303867403315, 1.6785714285714286, 1.750814332247557, 1.708994708994709, 1.4657534246575343, 8.483018867924528, 9.20496894409938, 1.972644376899696, 1.8850574712643677, 1.8061224489795917, 2.005701254275941, 1.6807738814993953, 1.9865470852017937, 1.9853372434017595, 8.508982035928144, 8.78061224489796, 1.625514403292181, 2.0087336244541483, 9.368263473053892, 10.344827586206897, 9.229032258064516, 8.494816211121583, 9.29375, 8.5625, 9.203947368421053, 1.9729064039408868, 17.5, 0.8461538461538461, 8.75, 8.761061946902656, 8.586206896551724, 8.845161290322581, 8.954732510288066, 8.537931034482758, 8.97553516819572, 8.512968299711815, 10.419354838709678, 8.696682464454977, 8.592307692307692, 1.819277108433735, 0.8888888888888888, 8.735401459854014, 8.920833333333333, 8.783018867924529, 10.37065637065637, 8.907582938388625, 9.23728813559322, 9.333333333333334, 9.6, 9.72983870967742, 9.867036011080332, 8.710144927536232, 8.948148148148148, 9.169519152404238, 8.95766129032258, 9.769983686786297, 20.33668341708543, 9.282051282051283, 1.553030303030303, 8.82213438735178, 11.38, 15.015151515151516, 21.16296296296296, 10.787581699346406, 11.625874125874127, 14.113821138211382, 12.7421875, 11.402898550724638, 52.848214285714285, 8.629807692307692, 17.54609929078014, 16.67153284671533, 18.846938775510203, 34.57142857142857, 10.211764705882352, 11.634686346863468, 10.1731843575419, 16.8125, 9.275720164609053, 16.793296089385475, 19.86, 15.272727272727273, 24.9, 36.47826086956522, 22.22826086956522, 26.366197183098592, 26.88235294117647, 16.42138364779874, 8.973140495867769, 8.789823008849558, 8.916363636363636, 9.289879931389365, 9.09375, 8.618942731277533, 9.90632911392405, 11.110599078341014, 9.466666666666667, 9.636036036036035, 8.640701071080818, 10.55813953488372, 10.005873715124816, 8.587677725118484, 9.413793103448276, 9.860169491525424, 8.78297161936561, 8.78665496049166, 8.825539568345324, 8.776744186046512, 8.791044776119403, 9.1768115942029, 9.166666666666666, 8.852216748768473, 8.874233128834355, 8.89763779527559, 9.180451127819548, 8.836990595611285, 8.586705202312139, 8.938028169014084, 8.944444444444445, 9.830769230769231, 8.60234899328859, 9.691891891891892, 10.5, 20.097826086956523, 24.024193548387096, 52.69047619047619, 28.236842105263158, 18.71551724137931, 17.25, 10.447852760736197, 21.397435897435898, 20.939393939393938, 15.02116402116402, 36.075471698113205, 18.5, 9.78735632183908, 13.858024691358025, 20.033333333333335, 16.78846153846154, 24.532894736842106, 10.553648068669528, 11.12206572769953, 23.54736842105263, 13.985507246376812, 15.511278195488721, 41.333333333333336, 39.75590551181102, 23.39660056657224, 10.813218390804598, 16.024590163934427, 28.615384615384617, 10.385245901639344, 59.875, 15.115384615384615, 21.372093023255815, 13.258823529411766, 11.30232558139535, 18.348754448398576, 9.142857142857142, 8.493150684931507, 10.043859649122806, 8.801007556675064, 8.834824501032347, 8.579225352112676, 19.178571428571427, 8.821215733015494, 9.524554269627776, 8.756906077348066, 8.584269662921349, 10.5, 8.525423728813559, 19.119565217391305, 12.517605633802816, 13.568627450980392, 9.855371900826446, 8.836393989983305, 10.19237012987013, 10.03370786516854, 8.644951140065146, 8.647398843930636, 24.5, 14.304761904761905, 9.799209486166008, 12.774709302325581, 10.200217627856366, 11.901869158878505, 11.29896907216495, 9.425, 10.529500756429652, 8.591549295774648, 12.447368421052632, 9.252155172413794, 13.408082408874803, 14.70673076923077, 10.860423232778029, 9.65879120879121, 13.885901162790697, 8.79058327477161, 10.765466297322252, 10.953586497890296, 12.626865671641792, 9.747727272727273, 19.65625, 10.822651448639157, 12.910485933503836, 9.628428927680797, 24.625827814569536, 12.384615384615385, 62.422222222222224, 1.550408719346049, 8.734265734265735, 8.571428571428571, 8.531645569620252, 9.431884057971015, 10.296296296296296, 11.287383177570094, 8.856140350877194, 10.352941176470589, 9.0, 8.543028685790526, 9.232253086419753, 14.36, 8.930715935334874, 8.833333333333334, 8.706172839506173, 11.22844827586207, 8.48326359832636, 8.513126491646778, 9.316931982633864, 8.579212916246217, 9.161111111111111, 9.14420803782506, 8.571428571428571, 16.52267818574514, 11.889830508474576, 9.119158878504672, 10.386666666666667, 11.415929203539823, 9.753554502369669, 11.028571428571428, 10.046321525885558, 11.098130841121495, 13.603004291845494, 22.646341463414632, 14.777777777777779, 19.468, 28.432142857142857, 17.322916666666668, 20.52069716775599, 14.851851851851851, 19.163120567375888, 16.611764705882354, 10.821428571428571, 36.715384615384615, 10.321167883211679, 9.53211009174312, 9.791139240506329, 9.880898876404494, 14.802197802197803, 16.688741721854306, 10.359649122807017, 21.80565371024735, 11.230633802816902, 12.368852459016393, 18.977064220183486, 12.1, 16.55056179775281, 29.248648648648647, 36.06060606060606, 26.465968586387433, 16.05701754385965, 10.920529801324504, 9.62534435261708, 14.740437158469945, 26.511415525114156, 17.408560311284045, 22.133587786259543, 10.529255319148936, 11.632978723404255, 14.671328671328672, 9.012195121951219, 12.90188679245283, 14.0, 17.26923076923077, 2.0153452685421995, 1.9680511182108626, 9.02051282051282, 8.609958506224066, 8.893048128342246, 8.470108695652174, 8.593607305936073, 8.8300395256917, 8.572538860103627, 9.287153652392947, 11.293103448275861, 1.1304347826086956, 8.579281183932347, 9.505154639175258, 8.861438679245284, 8.506024096385541, 8.52037617554859, 8.908653846153847, 9.380090497737557, 14.189349112426035, 9.497607655502392, 9.37546468401487, 9.308474576271186, 9.68108108108108, 8.578947368421053, 1.9020866773675762, 1.8247191011235955, 8.564179104477612, 8.503184713375797, 8.758620689655173, 2.018867924528302, 2.0, 10.223744292237443, 8.75, 9.896678966789668, 11.90079365079365, 9.076923076923077, 9.666666666666666, 8.570048309178745, 9.166340508806263, 8.497635933806146, 9.10997442455243, 8.869047619047619, 8.834285714285715, 8.717171717171718, 9.425101214574898, 8.84504132231405, 8.50498338870432, 8.584541062801932, 9.80232558139535, 8.709480122324159, 2.018348623853211, 8.47872340425532, 8.569131832797428, 14.666666666666666, 10.581521739130435, 1.1304347826086956, 9.363636363636363, 11.384615384615385, 8.7, 8.496376811594203, 8.715, 8.863080684596577, 8.561622464898596, 9.163865546218487, 8.837606837606838, 8.75, 8.838842975206612, 8.508928571428571, 8.925619834710744, 10.095238095238095, 12.5, 10.105105105105105, 8.751201923076923, 28.6, 11.572519083969466, 9.426315789473684, 8.8, 10.583333333333334, 12.808510638297872, 10.27217125382263, 8.813167259786477, 9.080459770114942, 9.212209302325581, 16.541284403669724, 8.839142091152816, 8.725, 10.135135135135135, 9.136363636363637, 20.125, 8.933209647495362, 22.823529411764707, 9.179775280898877, 10.512820512820513, 11.596491228070175, 12.25, 12.32, 8.471698113207546, 9.789473684210526, 23.994152046783626, 21.095238095238095, 18.793522267206477, 9.155963302752294, 9.39864864864865, 10.845814977973568, 11.428005284015851, 24.669117647058822, 37.06349206349206, 11.458507963118189, 11.536585365853659, 17.3, 8.944642857142858, 8.692307692307692, 8.474242424242425, 8.730038022813687, 9.890756302521009, 8.715841584158415, 9.873315363881401, 8.652173913043478]\n",
            "Выбросов в столбце AveBedrms 1424 штук: [1.248995983935743, 1.3729508196721312, 0.7543859649122807, 1.2608695652173914, 1.5573770491803278, 1.490566037735849, 1.368421052631579, 1.6598639455782314, 1.329268292682927, 1.3421052631578947, 0.5714285714285714, 1.2434782608695651, 1.3340471092077089, 0.7307692307692307, 1.3036303630363035, 0.7818181818181819, 0.8444444444444444, 1.2627737226277371, 0.6595744680851063, 1.5031847133757963, 1.3018867924528301, 1.3333333333333333, 1.2520325203252032, 1.7533333333333334, 1.2891566265060241, 1.2946058091286308, 0.8578199052132701, 1.3433734939759037, 0.8064516129032258, 2.7007299270072993, 1.3246753246753247, 0.8523489932885906, 0.83125, 1.9798657718120805, 1.2693877551020407, 1.2763157894736843, 1.2758620689655173, 1.3968253968253967, 1.2823529411764707, 1.855263157894737, 2.372448979591837, 5.323529411764706, 1.7080291970802919, 1.3756906077348066, 1.3314606741573034, 1.288808664259928, 2.0577367205542725, 1.358288770053476, 1.2420382165605095, 1.286259541984733, 1.2875, 1.4721311475409835, 0.8163265306122449, 1.244988864142539, 9.703703703703704, 1.5601023017902813, 1.4509803921568627, 1.3459715639810426, 1.2894736842105263, 1.35, 1.586021505376344, 1.2472527472527473, 1.288, 1.2953586497890295, 1.6131386861313868, 1.4955752212389382, 1.3565217391304347, 1.432, 1.38752052545156, 3.2376681614349776, 5.300970873786408, 2.588235294117647, 2.164490861618799, 1.8649237472766884, 5.604838709677419, 6.824742268041237, 11.181818181818182, 0.8444444444444444, 1.2653061224489797, 1.3142857142857143, 1.8037383177570094, 1.4606741573033708, 1.4398340248962656, 1.2607361963190185, 1.3077816492450638, 1.296875, 1.3171521035598706, 1.3198294243070363, 1.277992277992278, 1.295010845986985, 1.3246753246753247, 1.248868778280543, 0.5263157894736842, 1.3087400681044268, 0.7142857142857143, 2.2222222222222223, 1.2662721893491125, 1.5714285714285714, 0.8647214854111406, 0.5454545454545454, 1.2592592592592593, 1.3235294117647058, 1.3544776119402986, 0.6, 1.345679012345679, 0.8380681818181818, 1.2662337662337662, 0.847457627118644, 0.8458781362007168, 1.2860125260960333, 1.3837209302325582, 1.2745490981963927, 1.5137254901960784, 5.944444444444445, 1.308550185873606, 1.6430594900849858, 1.3535353535353536, 2.318385650224215, 9.272727272727273, 1.8555555555555556, 1.712962962962963, 1.2982456140350878, 1.553191489361702, 1.547244094488189, 1.308488612836439, 2.25, 1.4977168949771689, 2.0272108843537415, 1.5621621621621622, 1.8233618233618234, 1.4945848375451263, 1.3399014778325122, 1.2964601769911503, 1.518796992481203, 1.411764705882353, 3.608355091383812, 1.4352941176470588, 1.3975903614457832, 1.2424242424242424, 1.2841726618705036, 1.493939393939394, 1.6291390728476822, 1.3356643356643356, 1.501779359430605, 1.3603896103896105, 2.1075697211155378, 1.7125748502994012, 1.9054878048780488, 1.8611111111111112, 1.7716262975778547, 2.168421052631579, 1.842911877394636, 1.75, 1.53, 3.691780821917808, 3.116279069767442, 10.153846153846153, 11.0, 25.636363636363637, 1.8526315789473684, 1.4829721362229102, 2.5625, 8.20754716981132, 1.2727272727272727, 1.248502994011976, 1.248642779587405, 1.291866028708134, 1.4302059496567505, 1.2600422832980973, 1.8451178451178452, 7.96875, 34.06666666666667, 1.2760736196319018, 0.7, 0.7692307692307693, 0.8636363636363636, 0.8367952522255193, 1.255045871559633, 1.271186440677966, 1.2783751493428912, 1.3979591836734695, 6.060869565217391, 1.4131736526946108, 1.65625, 10.27027027027027, 5.397260273972603, 6.08411214953271, 4.05, 0.855, 1.2469635627530364, 1.2955974842767295, 1.262672811059908, 1.3397435897435896, 2.2, 3.5, 1.9210526315789473, 1.2950819672131149, 1.3647342995169083, 1.515923566878981, 1.4090909090909092, 1.554054054054054, 1.3823529411764706, 2.087649402390438, 1.3481012658227849, 2.2406417112299466, 1.638036809815951, 1.6411042944785277, 1.3812785388127853, 1.2590529247910864, 1.3995584988962473, 1.4293948126801153, 1.2516778523489933, 1.275609756097561, 1.3169014084507042, 1.6885245901639345, 1.5617977528089888, 1.4210526315789473, 1.8333333333333333, 1.2545454545454546, 0.8432835820895522, 1.6491228070175439, 1.7272727272727273, 2.45, 1.7721518987341771, 1.5925925925925926, 1.7457627118644068, 1.9633699633699633, 2.0476190476190474, 1.9166666666666667, 1.3013698630136987, 1.6, 1.4210526315789473, 1.4705882352941178, 1.7482014388489209, 2.858267716535433, 1.4082840236686391, 2.4615384615384617, 1.3486842105263157, 1.26, 1.2982456140350878, 1.4285714285714286, 1.2682291666666667, 1.5034246575342465, 1.4573170731707317, 1.812206572769953, 1.75, 0.7425742574257426, 1.2459770114942528, 1.2790697674418605, 0.8536585365853658, 1.4603174603174602, 1.3249097472924187, 1.4361702127659575, 1.375, 0.8439306358381503, 0.7619047619047619, 0.8309859154929577, 1.3854545454545455, 1.4660194174757282, 2.1739130434782608, 1.3592400690846287, 1.3214285714285714, 1.4477611940298507, 1.9164179104477612, 1.2554517133956387, 1.4198782961460445, 1.5579710144927537, 1.5593869731800767, 8.5, 1.4573991031390134, 1.3526315789473684, 1.4387096774193548, 1.2557442557442557, 1.3512820512820514, 1.2529274004683841, 1.2722298221614228, 1.4646840148698885, 2.177536231884058, 1.375, 1.308584686774942, 0.8576512455516014, 1.2753872633390706, 1.3099730458221024, 0.5, 1.3112033195020747, 1.3565022421524664, 1.3402489626556016, 1.3581560283687943, 0.8155339805825242, 0.86328125, 1.304812834224599, 1.305, 1.2764044943820225, 1.2946708463949843, 1.6727272727272726, 1.394736842105263, 6.0, 1.3407821229050279, 0.6666666666666666, 1.3310344827586207, 1.311023622047244, 1.431578947368421, 1.2703412073490814, 1.9259259259259258, 1.3044496487119437, 1.7903225806451613, 1.3302180685358256, 1.5044642857142858, 1.3342318059299192, 1.3654970760233918, 1.5625, 1.5310734463276836, 1.7241379310344827, 1.6188524590163935, 1.6677215189873418, 1.2901960784313726, 1.588235294117647, 2.5084745762711864, 2.1333333333333333, 1.427927927927928, 1.4129032258064516, 2.0, 1.6164383561643836, 1.4711538461538463, 1.498607242339833, 1.4184397163120568, 1.2956810631229236, 1.3433734939759037, 1.262582056892779, 1.5803814713896458, 1.375, 1.3805970149253732, 1.4767441860465116, 1.5483870967741935, 1.4333333333333333, 1.6927899686520376, 2.3357487922705316, 2.4166666666666665, 1.2513368983957218, 1.8, 1.2924901185770752, 1.2619047619047619, 1.4, 1.488888888888889, 1.9903225806451612, 1.7215909090909092, 1.3658536585365855, 2.923076923076923, 1.2991202346041055, 1.2887700534759359, 1.513064133016627, 1.9316239316239316, 1.3125, 1.3076923076923077, 1.608695652173913, 2.227272727272727, 5.053030303030303, 1.2522522522522523, 1.3846153846153846, 1.3524804177545693, 1.290909090909091, 0.7228915662650602, 1.4482758620689655, 1.4545454545454546, 1.3, 0.8125, 0.8296296296296296, 1.2668079951544517, 1.2612612612612613, 1.5, 0.8098159509202454, 1.3120805369127517, 1.2484472049689441, 1.2671755725190839, 1.2666666666666666, 0.7428571428571429, 0.8588516746411483, 1.4301507537688443, 1.4175257731958764, 1.3478260869565217, 1.4173228346456692, 1.2675276752767528, 1.2454308093994777, 1.425531914893617, 1.2644230769230769, 0.8333333333333334, 0.68, 0.6, 1.259779338014042, 1.3216911764705883, 1.9259259259259258, 1.2824858757062148, 1.2458410351201479, 0.8333333333333334, 0.794392523364486, 0.7647058823529411, 0.7931034482758621, 0.8532934131736527, 1.3125, 1.3853658536585365, 1.4143356643356644, 1.3235294117647058, 1.3157894736842106, 1.2647058823529411, 1.411764705882353, 1.4377510040160641, 0.7012987012987013, 0.8596491228070176, 1.2419825072886297, 1.2592592592592593, 1.2415730337078652, 0.7333333333333333, 1.2755102040816326, 1.25, 1.3708920187793427, 1.3844492440604752, 1.3866171003717471, 1.5, 0.7666666666666667, 0.8397435897435898, 1.2628062360801782, 1.2649253731343284, 1.2808219178082192, 1.3251533742331287, 1.75, 1.6683937823834196, 1.3167305236270754, 0.8209876543209876, 1.5714285714285714, 0.8173076923076923, 0.8461538461538461, 1.255813953488372, 1.295929592959296, 0.8134920634920635, 1.263157894736842, 0.8375, 1.3592233009708738, 0.7960199004975125, 1.4939759036144578, 0.8571428571428571, 0.5625, 1.3712737127371273, 0.8571428571428571, 1.246458923512748, 1.2914572864321607, 0.7866666666666666, 0.8461538461538461, 0.7806122448979592, 0.7777777777777778, 0.8567567567567568, 1.3454545454545455, 1.2818181818181817, 1.8709677419354838, 1.2435897435897436, 0.8529411764705882, 0.8333333333333334, 1.2465753424657535, 1.2678571428571428, 0.8352272727272727, 0.6956521739130435, 1.3803827751196172, 1.2511415525114156, 0.7368421052631579, 0.7985611510791367, 0.8502994011976048, 1.2586206896551724, 1.294392523364486, 0.8505747126436781, 0.7678571428571429, 0.8, 1.245791245791246, 1.271186440677966, 0.8638743455497382, 0.8543307086614174, 1.3017241379310345, 0.8454935622317596, 0.7891156462585034, 0.8564102564102564, 0.8372093023255814, 1.5, 0.8552188552188552, 1.375, 1.2672811059907834, 0.5, 0.82, 1.4416403785488958, 1.240506329113924, 1.6042780748663101, 1.2461139896373057, 1.2418032786885247, 1.5740181268882176, 1.37122969837587, 1.7777777777777777, 1.65, 1.2714681440443214, 1.2439024390243902, 0.7321428571428571, 0.8571428571428571, 0.8656126482213439, 1.2468354430379747, 1.329059829059829, 1.3636363636363635, 0.8, 1.4482758620689655, 0.8461538461538461, 0.849624060150376, 0.8095238095238095, 1.2991035044824777, 1.2681388012618298, 1.4186046511627908, 1.4325153374233128, 1.2666666666666666, 1.2464788732394365, 1.4280639431616342, 1.4285714285714286, 1.8571428571428572, 1.2648305084745763, 0.7058823529411765, 1.5976331360946745, 1.436762225969646, 1.4404567699836868, 1.3018867924528301, 1.4558823529411764, 3.527638190954774, 2.0, 1.4642857142857142, 1.2702702702702702, 1.3101265822784811, 0.8260869565217391, 0.8, 0.8656716417910447, 0.8533333333333334, 0.8529411764705882, 2.208, 1.3670212765957446, 1.4839650145772594, 2.712121212121212, 1.3149171270718232, 1.3322884012539185, 1.314487632508834, 1.444767441860465, 1.5272727272727273, 1.4634146341463414, 1.4, 1.4107883817427387, 1.3073286052009456, 1.2946859903381642, 4.896296296296296, 1.3240740740740742, 1.5751445086705202, 1.2640264026402641, 1.497797356828194, 1.4728915662650603, 0.8642857142857143, 1.3486842105263157, 1.2574257425742574, 1.3356481481481481, 1.3123425692695214, 1.6824644549763033, 1.2914072229140723, 1.3821138211382114, 1.2456140350877194, 1.3210227272727273, 1.9156626506024097, 2.215686274509804, 1.4157303370786516, 1.3311546840958606, 1.309090909090909, 1.3801916932907348, 1.461139896373057, 1.569060773480663, 1.4719101123595506, 1.2779156327543424, 1.5897435897435896, 2.3076923076923075, 1.6294117647058823, 2.861788617886179, 2.6171875, 1.3054755043227666, 1.7388392857142858, 2.020289855072464, 11.410714285714286, 2.0, 4.432624113475177, 2.0044150110375276, 2.324786324786325, 4.54014598540146, 4.479591836734694, 7.022321428571429, 1.5125, 1.317948717948718, 1.3798076923076923, 1.2902439024390244, 1.6254295532646048, 1.9153846153846155, 1.3728813559322033, 1.5263157894736843, 1.2962962962962963, 1.280373831775701, 1.316715542521994, 1.5208333333333333, 1.2840095465393795, 1.3966666666666667, 1.5301204819277108, 1.5431309904153354, 1.4705882352941178, 1.5092250922509225, 1.3490990990990992, 1.2506666666666666, 1.2594086021505377, 0.8, 1.4, 0.8181818181818182, 1.2589413447782547, 0.72, 1.2877358490566038, 1.9217877094972067, 1.251082251082251, 1.4109589041095891, 1.3300970873786409, 1.3863636363636365, 1.2687747035573123, 1.2935153583617747, 1.3305785123966942, 1.2524752475247525, 1.2804878048780488, 1.5194805194805194, 4.421875, 1.4326923076923077, 1.38135593220339, 1.4842105263157894, 1.646090534979424, 3.4273743016759775, 4.74, 2.43030303030303, 5.045454545454546, 6.304347826086956, 3.891304347826087, 3.9577464788732395, 4.676470588235294, 2.4842767295597485, 1.3, 0.8571428571428571, 1.2436708860759493, 1.453551912568306, 1.239864864864865, 1.445, 1.3080568720379147, 1.2474576271186442, 1.2608695652173914, 1.4065180102915953, 1.631336405529954, 1.3777777777777778, 1.2677702044790653, 2.372093023255814, 1.244391971664699, 1.329268292682927, 1.32475884244373, 1.3011494252873563, 1.3296500920810312, 1.2658536585365854, 1.2729970326409497, 0.8490566037735849, 1.2720125786163523, 1.3849056603773584, 1.2436708860759493, 1.2474489795918366, 1.303448275862069, 1.4593495934959348, 1.2939958592132506, 1.2737896494156928, 1.2756804214223003, 1.3574468085106384, 1.4557522123893805, 1.3337765957446808, 1.3628318584070795, 1.2802653399668324, 1.241911398705824, 0.8304347826086956, 1.5155555555555555, 1.2623762376237624, 0.8181818181818182, 1.2523584905660377, 1.3076923076923077, 1.3442622950819672, 1.36, 1.2465753424657535, 1.2501365374112507, 1.3215130023640662, 1.2711267605633803, 1.2740963855421688, 1.2661870503597121, 1.2774390243902438, 1.5619242579324462, 1.263779527559055, 1.2708933717579252, 1.6896551724137931, 1.4756944444444444, 1.2644376899696048, 1.3116279069767443, 1.2988826815642458, 0.8624338624338624, 1.2831858407079646, 0.8446601941747572, 1.3547169811320754, 1.2582781456953642, 1.5397350993377483, 1.2709284627092847, 1.423290203327172, 0.8222222222222222, 0.8, 0.5714285714285714, 1.3636363636363635, 1.619047619047619, 1.2415254237288136, 1.7023060796645701, 1.3756345177664975, 1.75, 1.2886002886002885, 4.173913043478261, 4.701612903225806, 8.857142857142858, 4.75, 3.3275862068965516, 3.1944444444444446, 2.208588957055215, 1.7177033492822966, 4.461538461538462, 3.6666666666666665, 2.7777777777777777, 5.273584905660377, 3.0125, 1.6896551724137931, 2.419753086419753, 3.8266666666666667, 2.9423076923076925, 4.0394736842105265, 2.2532188841201717, 2.2018779342723005, 5.168421052631579, 1.6575875486381324, 1.6695906432748537, 1.4653465346534653, 2.8333333333333335, 1.2945205479452055, 1.423913043478261, 1.294890510948905, 1.256723716381418, 0.821917808219178, 0.8518518518518519, 1.6032171581769437, 1.3745583038869258, 3.3947368421052633, 8.476190476190476, 6.082677165354331, 3.991501416430595, 1.2777777777777777, 1.4342105263157894, 2.2528735632183907, 3.262295081967213, 5.487179487179487, 2.2827868852459017, 1.3233830845771144, 1.6521739130434783, 1.6363636363636365, 15.3125, 2.230769230769231, 4.627906976744186, 2.6470588235294117, 1.6310679611650485, 2.2906976744186047, 3.131672597864769, 1.335135135135135, 1.8333333333333333, 0.8423645320197044, 0.7692307692307693, 1.269487750556793, 0.8295454545454546, 1.3061307348761673, 1.3991228070175439, 1.3738035264483628, 1.2677219545767378, 1.3144654088050314, 2.8452380952380953, 0.5, 0.8, 1.329479768786127, 1.3072916666666667, 1.2597054886211512, 1.2621359223300972, 1.4147794994040523, 1.262002743484225, 1.2421052631578948, 1.3184676958261865, 1.3562231759656653, 1.57428839537066, 1.3646408839779005, 1.2469249692496924, 1.5185185185185186, 1.25, 1.4456521739130435, 1.5360824742268042, 1.370257966616085, 1.3812104787714543, 1.2848101265822784, 1.3485714285714285, 1.263265306122449, 1.5945945945945945, 1.2543859649122806, 3.8768115942028984, 1.6153846153846154, 2.5363849765258215, 2.788235294117647, 2.731404958677686, 1.3942307692307692, 1.2958579881656804, 1.358974358974359, 1.4357894736842105, 1.3668341708542713, 1.2407407407407407, 1.3969594594594594, 1.4245810055865922, 1.3653962492437992, 1.3133047210300428, 1.5514018691588785, 1.34, 2.1135225375626043, 2.5146103896103895, 1.3356164383561644, 1.8786008230452675, 1.5308641975308641, 1.3582089552238805, 1.9303370786516854, 1.7814113597246128, 1.793702497285559, 1.6350037397157815, 1.6242774566473988, 1.3723880597014926, 1.306787330316742, 6.071428571428571, 1.3350634371395618, 1.9238461538461538, 1.5113636363636365, 2.9285714285714284, 2.017391304347826, 1.278150633855332, 1.460984393757503, 2.7252906976744184, 1.5584269662921348, 1.5947521865889214, 1.4513513513513514, 1.9368879216539716, 2.163551401869159, 2.8268041237113404, 2.02, 2.249621785173979, 1.7195902688860436, 2.210526315789474, 1.5344827586206897, 1.5524256651017214, 2.2480190174326466, 2.4038461538461537, 2.0360198108959926, 1.9115384615384616, 2.8510174418604652, 1.424190800681431, 1.725, 1.2970588235294118, 1.5318471337579618, 1.3904263275991025, 1.5051162790697674, 1.7287420941672522, 1.853185595567867, 1.299137104506232, 1.6920731707317074, 1.8481012658227849, 3.716417910447761, 2.0295454545454548, 1.4782608695652173, 3.4419642857142856, 1.7559262510974538, 2.153452685421995, 1.582236842105263, 1.4240062353858145, 2.117206982543641, 2.1636363636363636, 1.326583592938733, 1.6170212765957446, 0.7714285714285715, 1.6016949152542372, 4.046357615894039, 1.516, 1.326797385620915, 1.4028268551236749, 1.6, 1.5161290322580645, 2.480769230769231, 14.11111111111111, 1.2578125, 1.4871794871794872, 1.491150442477876, 1.2442748091603053, 1.296, 1.27, 1.3203125, 0.4444444444444444, 1.2433962264150944, 0.8571428571428571, 0.6909090909090909, 0.8135593220338984, 1.2420091324200913, 1.38125, 1.2465986394557824, 0.8367346938775511, 0.53125, 1.288515406162465, 1.6415094339622642, 1.3307692307692307, 1.5172413793103448, 1.3478260869565217, 1.2410714285714286, 1.3461538461538463, 1.2594142259414225, 1.6179906542056075, 1.2857142857142858, 1.5144855144855145, 1.4803202134756503, 1.3904320987654322, 1.96, 1.3151927437641724, 1.4420731707317074, 1.2835051546391754, 1.3160886867538375, 0.5921052631578947, 1.272079772079772, 1.4027093596059113, 1.2673521850899743, 0.8162393162393162, 0.5625, 1.2666666666666666, 1.2473118279569892, 0.794392523364486, 0.8367346938775511, 1.3082191780821917, 1.2633928571428572, 1.3045685279187818, 1.281021897810219, 0.8461538461538461, 0.8130841121495327, 0.375, 1.3397683397683398, 1.391304347826087, 1.2418032786885247, 0.7813333333333333, 1.6577540106951871, 1.2681564245810055, 1.2729779411764706, 1.3233256351039262, 0.8551724137931035, 1.5, 0.7857142857142857, 1.2646176911544227, 1.5765306122448979, 1.2660377358490567, 1.6123456790123456, 1.9655172413793103, 1.3203125, 1.2445652173913044, 1.4730158730158731, 1.295942720763723, 1.4830508474576272, 1.3928571428571428, 1.9509803921568627, 1.4670781893004115, 1.2551020408163265, 1.847457627118644, 1.284375, 1.3899280575539568, 2.487698986975398, 1.9811320754716981, 2.6579212916246218, 1.4223255813953488, 1.2976939203354299, 3.0993377483443707, 3.411111111111111, 1.858974358974359, 1.289983397897067, 1.3475033738191633, 1.376953125, 2.971631205673759, 2.1587301587301586, 1.3088235294117647, 1.6379310344827587, 4.105831533477322, 2.718220338983051, 1.4638403990024937, 1.6705607476635513, 1.8373333333333333, 1.7618243243243243, 2.327433628318584, 2.248815165876777, 2.0095238095238095, 2.0599455040871937, 1.97196261682243, 2.6695278969957084, 3.953658536585366, 3.2222222222222223, 2.872, 4.0964285714285715, 2.9635416666666665, 3.1699346405228757, 2.651851851851852, 3.9361702127659575, 2.9529411764705884, 2.0892857142857144, 8.053846153846154, 1.8467153284671534, 1.5963302752293578, 2.0970464135021096, 2.0921348314606742, 3.5934065934065935, 3.8543046357615895, 2.3771929824561404, 4.646643109540636, 2.880281690140845, 2.1434426229508197, 3.6513761467889907, 2.2, 3.0786516853932584, 5.632432432432433, 7.106060606060606, 5.424083769633508, 3.3771929824561404, 2.172185430463576, 2.2520661157024793, 3.3333333333333335, 4.703196347031963, 3.8618677042801557, 5.82824427480916, 2.257978723404255, 2.63031914893617, 3.13986013986014, 1.524390243902439, 2.9320754716981132, 3.3333333333333335, 4.980769230769231, 1.5547945205479452, 1.456140350877193, 1.3026315789473684, 1.2565217391304349, 2.04, 1.441988950276243, 1.4310051107325383, 1.4295918367346938, 1.4792792792792793, 1.2534722222222223, 1.4475806451612903, 0.8058823529411765, 1.3636363636363635, 1.4333333333333333, 1.6017699115044248, 0.8181818181818182, 1.2485875706214689, 1.3685897435897436, 1.2604166666666667, 1.36, 2.159375, 2.127208480565371, 1.6615384615384616, 1.2537313432835822, 1.2572463768115942, 1.361413043478261, 1.4386503067484662, 1.2901960784313726, 1.2907608695652173, 1.2625, 1.2672209026128265, 1.2672413793103448, 1.4571788413098237, 2.7279693486590038, 1.3433835845896147, 0.6086956521739131, 1.2982456140350878, 1.3333333333333333, 0.5555555555555556, 1.3229461756373937, 0.8586956521739131, 0.8561151079136691, 1.2658959537572254, 1.423982869379015, 1.4782608695652173, 1.34375, 1.5975103734439835, 1.3576158940397351, 1.8782608695652174, 1.8846153846153846, 1.2853598014888337, 1.5803108808290156, 1.2918781725888324, 1.3356643356643356, 1.9727011494252873, 1.2793296089385475, 1.363849765258216, 1.416289592760181, 1.658, 0.8503937007874016, 1.3827751196172249, 0.8394160583941606, 1.2678571428571428, 2.408284023668639, 1.2620232172470978, 1.7014925373134329, 1.3276836158192091, 1.4056463595839523, 1.4147286821705427, 1.7777777777777777, 1.7272727272727273, 2.0, 1.446808510638298, 1.7209302325581395, 1.298780487804878, 1.7423728813559323, 1.9837837837837837, 1.5434782608695652, 1.855072463768116, 2.0210526315789474, 1.246124031007752, 1.651226158038147, 1.610236220472441, 1.268, 1.2834821428571428, 1.2621809744779582, 1.260906757912746, 1.29153605015674, 1.75, 1.773134328358209, 1.2892561983471074, 1.2463343108504399, 1.242671009771987, 2.4827586206896552, 1.3818181818181818, 1.2571428571428571, 1.2432432432432432, 1.2829162132752991, 1.3137755102040816, 1.364864864864865, 1.2666666666666666, 1.3333333333333333, 0.8273809523809523, 1.2551928783382789, 1.4210526315789473, 1.3076923076923077, 1.2634920634920634, 0.85, 0.8606965174129353, 0.8243727598566308, 1.255813953488372, 1.4, 1.2538860103626943, 1.490566037735849, 1.5925925925925926, 0.7142857142857143, 1.303448275862069, 1.326145552560647, 1.2784810126582278, 0.8633093525179856, 1.303030303030303, 1.2457142857142858, 0.8, 1.280701754385965, 0.8556701030927835, 1.3012048192771084, 1.5918367346938775, 1.2411764705882353, 1.2542372881355932, 1.6666666666666667, 1.3447098976109215, 1.2476547842401502, 1.4657534246575343, 1.2564102564102564, 1.4501845018450183, 2.246031746031746, 1.257201646090535, 1.3442211055276383, 1.2747603833865815, 1.2733812949640289, 1.364864864864865, 1.2724014336917562, 1.2794411177644711, 1.5143487858719646, 1.5896279594137541, 1.2567375886524823, 1.3339587242026267, 1.4341463414634146, 1.353846153846154, 0.8122605363984674, 1.2585227272727273, 1.3076923076923077, 1.268987341772152, 1.4812623274161736, 1.4572490706319703, 1.2526315789473683, 1.3123287671232877, 1.2954545454545454, 1.2474226804123711, 0.8531468531468531, 0.8642857142857143, 0.8355555555555556, 0.7777777777777778, 1.5128205128205128, 0.8343949044585988, 1.2425149700598803, 0.8, 1.4396551724137931, 0.7924528301886793, 1.3282051282051281, 1.2981366459627328, 1.4318181818181819, 1.6045454545454545, 1.2523809523809524, 0.851063829787234, 1.2679558011049723, 1.3278955954323002, 1.257234726688103, 1.5209205020920502, 1.249266862170088, 1.8095238095238095, 1.2950819672131149, 0.863013698630137, 1.2961038961038962, 1.6891891891891893, 1.3096774193548386, 0.8559782608695652, 1.2556053811659194, 0.8556701030927835, 1.4761904761904763, 1.358695652173913, 1.4202334630350195, 0.75, 1.2727272727272727, 2.1856866537717603, 2.1538461538461537, 0.8614718614718615, 1.279887482419128, 1.261437908496732, 0.8513513513513513, 1.3103448275862069, 0.8627450980392157, 1.244, 0.7555555555555555, 1.2509907529722588, 1.330188679245283, 1.8095238095238095, 1.25, 0.8, 0.7651515151515151, 1.371308016877637, 1.7, 1.9339339339339339, 1.2516129032258065, 1.2969924812030076, 1.3715846994535519, 1.4488188976377954, 1.3156822810590632, 1.36, 1.2802547770700636, 1.2771362586605082, 1.241563055062167, 1.4819711538461537, 1.3937677053824362, 2.1517241379310343, 4.945454545454545, 1.345, 1.2773722627737227, 1.4537444933920705, 1.4681528662420382, 1.8241758241758241, 1.5046728971962617, 1.600558659217877, 1.3397435897435896, 1.3398058252427185, 1.5738916256157636, 1.317829457364341, 1.5589225589225588, 1.5927051671732524, 1.3647798742138364, 1.425414364640884, 2.2061068702290076, 1.8736842105263158, 2.013793103448276, 2.0555555555555554, 1.3503184713375795, 1.2547169811320755, 1.3516483516483517, 1.2794830371567043, 1.6014150943396226, 1.6, 3.25531914893617, 1.2463768115942029, 1.311926605504587, 1.7380952380952381, 1.2798507462686568, 1.3078291814946619, 0.8333333333333334, 1.5517241379310345, 1.401098901098901, 0.8611111111111112, 1.597938144329897, 1.9266409266409266, 1.5915254237288134, 1.6022727272727273, 1.5124223602484472, 1.2540192926045015, 1.5872340425531914, 1.5061295971978985, 1.298913043478261, 1.3442622950819672, 2.0901162790697674, 1.3763736263736264, 1.2666666666666666, 1.2678571428571428, 1.2972972972972974, 3.1162079510703364, 1.7670454545454546, 1.4749034749034748, 1.8123324396782843, 1.451523545706371, 1.5611510791366907, 1.5239234449760766, 0.8, 1.475, 0.696969696969697, 1.5675675675675675, 2.111111111111111, 0.8085106382978723, 1.5909090909090908, 0.8548387096774194, 1.3571428571428572, 2.9285714285714284, 0.8571428571428571, 1.411764705882353, 1.5344827586206897, 1.2424242424242424, 1.346938775510204, 2.0, 1.5, 1.277258566978193, 1.239795918367347, 1.3255813953488371, 1.59765625, 1.2452830188679245, 1.4864864864864864, 1.6883116883116882, 6.352941176470588, 1.291866028708134, 2.3146067415730336, 2.4153846153846152, 1.4555555555555555, 1.4607142857142856, 1.744186046511628, 1.3677685950413223, 2.5652173913043477, 1.736231884057971, 1.5384615384615385, 1.7024793388429753, 1.3368794326241136, 1.626984126984127, 1.4852941176470589, 1.3770491803278688, 2.56140350877193, 2.0816326530612246, 3.5, 2.993333333333333, 1.35, 2.849056603773585, 3.18796992481203, 1.469945355191257, 1.8488888888888888, 0.7964601769911505, 1.7058823529411764, 1.2424242424242424, 5.157894736842105, 5.285714285714286, 5.2631578947368425, 1.2428571428571429, 1.6451612903225807, 2.0, 1.8807339449541285, 1.2916666666666667, 1.355263157894737, 1.53125, 1.343984962406015, 1.7184684684684686, 2.1277533039647576, 1.4444444444444444, 1.4615384615384615, 2.085865257595773, 4.897058823529412, 7.185185185185185, 0.8181818181818182, 2.0561609388097235, 1.5454545454545454, 2.8048780487804876, 6.5, 1.2857142857142858, 1.5797101449275361, 1.5714285714285714, 1.3376623376623376, 0.8444444444444444, 1.419864559819413, 1.372093023255814, 1.2733333333333334, 0.3333333333333333, 1.3444794952681387, 1.5500603136308806, 1.2650602409638554, 0.7586206896551724, 0.625, 1.4666666666666666, 1.5051546391752577, 1.273170731707317, 0.8541666666666666, 1.5732484076433122, 1.3157894736842106]\n",
            "Выбросов в столбце Population 1196 штук: [3469.0, 4367.0, 4985.0, 3337.0, 3276.0, 3668.0, 3741.0, 7427.0, 5781.0, 3827.0, 3827.0, 5613.0, 4065.0, 5436.0, 3388.0, 3174.0, 3163.0, 8117.0, 8012.0, 3436.0, 5019.0, 4576.0, 6075.0, 7205.0, 4446.0, 3288.0, 4518.0, 3386.0, 4649.0, 4552.0, 3215.0, 12203.0, 3571.0, 4319.0, 3526.0, 3223.0, 3386.0, 3329.0, 3926.0, 4847.0, 4389.0, 5826.0, 3200.0, 8768.0, 3489.0, 6693.0, 4930.0, 4644.0, 3628.0, 4030.0, 4591.0, 7517.0, 3316.0, 3264.0, 5022.0, 3175.0, 3266.0, 3578.0, 4460.0, 3523.0, 4276.0, 3838.0, 3207.0, 3266.0, 3221.0, 4377.0, 3748.0, 3621.0, 4741.0, 3645.0, 3264.0, 3486.0, 4089.0, 5613.0, 3221.0, 3283.0, 3280.0, 4083.0, 3371.0, 3325.0, 7653.0, 3898.0, 3596.0, 3326.0, 7266.0, 3637.0, 3259.0, 3408.0, 3546.0, 5001.0, 3952.0, 3530.0, 5034.0, 4179.0, 3786.0, 4749.0, 3573.0, 5561.0, 4476.0, 3406.0, 3407.0, 3415.0, 5466.0, 4638.0, 5226.0, 4432.0, 3535.0, 3565.0, 3242.0, 4781.0, 4584.0, 7009.0, 4250.0, 5696.0, 4870.0, 3278.0, 3525.0, 6241.0, 4611.0, 4101.0, 4893.0, 3269.0, 4163.0, 3415.0, 3260.0, 3500.0, 3571.0, 3617.0, 4631.0, 5666.0, 3450.0, 7679.0, 4198.0, 3565.0, 3540.0, 3963.0, 3566.0, 3152.0, 6161.0, 3134.0, 3444.0, 3663.0, 3568.0, 4205.0, 3473.0, 3163.0, 3151.0, 3401.0, 3189.0, 3988.0, 3468.0, 3517.0, 4717.0, 3561.0, 4483.0, 3562.0, 4178.0, 3903.0, 5005.0, 4459.0, 4992.0, 4579.0, 9135.0, 5349.0, 4718.0, 7096.0, 4620.0, 4625.0, 3781.0, 7307.0, 3911.0, 3950.0, 3483.0, 3351.0, 3403.0, 3847.0, 3298.0, 4031.0, 3618.0, 3809.0, 4826.0, 3350.0, 4876.0, 4126.0, 3161.0, 3739.0, 7282.0, 4642.0, 5105.0, 3221.0, 4404.0, 4100.0, 3687.0, 7450.0, 4076.0, 3599.0, 3585.0, 3303.0, 4153.0, 4336.0, 3348.0, 3220.0, 3320.0, 3895.0, 3596.0, 4123.0, 4828.0, 5899.0, 4865.0, 3432.0, 3953.0, 3155.0, 3441.0, 3548.0, 3906.0, 3678.0, 3326.0, 3646.0, 4332.0, 3163.0, 3212.0, 3199.0, 3260.0, 3325.0, 3974.0, 7221.0, 3915.0, 3723.0, 3707.0, 3795.0, 3920.0, 7443.0, 4533.0, 3296.0, 3727.0, 5840.0, 6846.0, 4137.0, 3906.0, 3468.0, 3720.0, 4225.0, 3480.0, 5229.0, 4126.0, 3359.0, 3323.0, 3298.0, 3612.0, 3538.0, 3707.0, 3511.0, 3731.0, 3646.0, 3806.0, 3751.0, 3136.0, 3870.0, 3390.0, 3397.0, 3335.0, 3586.0, 3408.0, 3738.0, 3212.0, 3732.0, 6270.0, 3591.0, 4426.0, 4336.0, 3141.0, 5459.0, 3401.0, 3164.0, 3309.0, 4116.0, 3171.0, 4486.0, 4094.0, 3749.0, 5217.0, 3199.0, 4757.0, 4293.0, 7665.0, 3710.0, 7249.0, 3699.0, 3460.0, 4723.0, 4944.0, 7775.0, 5407.0, 3575.0, 3205.0, 4369.0, 4952.0, 4711.0, 3502.0, 3367.0, 3712.0, 8686.0, 15507.0, 4911.0, 4332.0, 9427.0, 8380.0, 9671.0, 15037.0, 3671.0, 4904.0, 3359.0, 4419.0, 4797.0, 3537.0, 5389.0, 3339.0, 3878.0, 3563.0, 3147.0, 3426.0, 3883.0, 3899.0, 4580.0, 6652.0, 5278.0, 4429.0, 3394.0, 3881.0, 4349.0, 8997.0, 5587.0, 3738.0, 5325.0, 4027.0, 3538.0, 3912.0, 3727.0, 3527.0, 8907.0, 7732.0, 10988.0, 7228.0, 4014.0, 3538.0, 5359.0, 4131.0, 3689.0, 4983.0, 4119.0, 6666.0, 6626.0, 3528.0, 3537.0, 3481.0, 3160.0, 3775.0, 3818.0, 3792.0, 5041.0, 4353.0, 4210.0, 3518.0, 3620.0, 3985.0, 4945.0, 3496.0, 3816.0, 3817.0, 3485.0, 3273.0, 3842.0, 3232.0, 3836.0, 5279.0, 3176.0, 3299.0, 3228.0, 3264.0, 3909.0, 4582.0, 3259.0, 3558.0, 3208.0, 5027.0, 3803.0, 3740.0, 8551.0, 3559.0, 3731.0, 3913.0, 4496.0, 3649.0, 3423.0, 4551.0, 3244.0, 3702.0, 4145.0, 3944.0, 5237.0, 4721.0, 3704.0, 4558.0, 3887.0, 3680.0, 3993.0, 4185.0, 3287.0, 3728.0, 4753.0, 3211.0, 3792.0, 4673.0, 3317.0, 4516.0, 3215.0, 3637.0, 4149.0, 4196.0, 5162.0, 4396.0, 3844.0, 4276.0, 5026.0, 4367.0, 3841.0, 3412.0, 3868.0, 4066.0, 3625.0, 3916.0, 3543.0, 3744.0, 3580.0, 3940.0, 4812.0, 3184.0, 3891.0, 3333.0, 3288.0, 3201.0, 4015.0, 3193.0, 3333.0, 3425.0, 3456.0, 4033.0, 3533.0, 4512.0, 3340.0, 7429.0, 7211.0, 3590.0, 3186.0, 5546.0, 7180.0, 6664.0, 5272.0, 3420.0, 4458.0, 3152.0, 3240.0, 4168.0, 4649.0, 4713.0, 4474.0, 6897.0, 3392.0, 3176.0, 3148.0, 3922.0, 7431.0, 5127.0, 5452.0, 6214.0, 9873.0, 12873.0, 4054.0, 5175.0, 4614.0, 6163.0, 10493.0, 3489.0, 4562.0, 6291.0, 7694.0, 5731.0, 3723.0, 3569.0, 4098.0, 5839.0, 4892.0, 3427.0, 11973.0, 4970.0, 5871.0, 4546.0, 5391.0, 8152.0, 8721.0, 10475.0, 4956.0, 7270.0, 3733.0, 7030.0, 4453.0, 9842.0, 7087.0, 7158.0, 8733.0, 3384.0, 4768.0, 3331.0, 9936.0, 6902.0, 3789.0, 3840.0, 3445.0, 3594.0, 5600.0, 4406.0, 4684.0, 6109.0, 5162.0, 3798.0, 5917.0, 3450.0, 3895.0, 3148.0, 3595.0, 3589.0, 5303.0, 3967.0, 4205.0, 3200.0, 4276.0, 3251.0, 4907.0, 6012.0, 3243.0, 3456.0, 11272.0, 4259.0, 3523.0, 7249.0, 12153.0, 3918.0, 5982.0, 4601.0, 3438.0, 3612.0, 28566.0, 6071.0, 3794.0, 3562.0, 3864.0, 3853.0, 3946.0, 3521.0, 3822.0, 16122.0, 4160.0, 4005.0, 4409.0, 4528.0, 4732.0, 4597.0, 3256.0, 3191.0, 3214.0, 3550.0, 6223.0, 3985.0, 4656.0, 4762.0, 4783.0, 4660.0, 3318.0, 3785.0, 3173.0, 4327.0, 6083.0, 3445.0, 3162.0, 3148.0, 4738.0, 5014.0, 3903.0, 4071.0, 3150.0, 3872.0, 3328.0, 4715.0, 3157.0, 5756.0, 3249.0, 3289.0, 3242.0, 5116.0, 3232.0, 5516.0, 3171.0, 3545.0, 3416.0, 3800.0, 6799.0, 3356.0, 5477.0, 3262.0, 3570.0, 4088.0, 4853.0, 3744.0, 3754.0, 3657.0, 5085.0, 7111.0, 4926.0, 3892.0, 3257.0, 3554.0, 3282.0, 3596.0, 3196.0, 4480.0, 3308.0, 3381.0, 4545.0, 5254.0, 4818.0, 3842.0, 3385.0, 4011.0, 3441.0, 3171.0, 3285.0, 4404.0, 3418.0, 3613.0, 3281.0, 3193.0, 4188.0, 3264.0, 3868.0, 3667.0, 3526.0, 3507.0, 8361.0, 4445.0, 4819.0, 3369.0, 3928.0, 3565.0, 3570.0, 3185.0, 7540.0, 5913.0, 5008.0, 5810.0, 3996.0, 3266.0, 7600.0, 5205.0, 7305.0, 3754.0, 4285.0, 3795.0, 4861.0, 4936.0, 6295.0, 5271.0, 3887.0, 8222.0, 3240.0, 4976.0, 3920.0, 3716.0, 3823.0, 5964.0, 3258.0, 4636.0, 3450.0, 5650.0, 3382.0, 4218.0, 9851.0, 8805.0, 3710.0, 6763.0, 6780.0, 4573.0, 3962.0, 8437.0, 4885.0, 4520.0, 5804.0, 5595.0, 7596.0, 6686.0, 3513.0, 9509.0, 5439.0, 5155.0, 9623.0, 5145.0, 3295.0, 9360.0, 3665.0, 3464.0, 7235.0, 4776.0, 3405.0, 7139.0, 9419.0, 7132.0, 8824.0, 13251.0, 3886.0, 5860.0, 6159.0, 3136.0, 4002.0, 3141.0, 3559.0, 5060.0, 4266.0, 3297.0, 4122.0, 4274.0, 3470.0, 3189.0, 3623.0, 3838.0, 6274.0, 4176.0, 3581.0, 4086.0, 3811.0, 3497.0, 3208.0, 4571.0, 5525.0, 3157.0, 3779.0, 5032.0, 4042.0, 3873.0, 5682.0, 3424.0, 3134.0, 3362.0, 11935.0, 3759.0, 4224.0, 4828.0, 4769.0, 4333.0, 5656.0, 7235.0, 4749.0, 3960.0, 4224.0, 3517.0, 5692.0, 5634.0, 7919.0, 7463.0, 4147.0, 3455.0, 3789.0, 8652.0, 4251.0, 7608.0, 3237.0, 3576.0, 3153.0, 6068.0, 3339.0, 3358.0, 6000.0, 3166.0, 3275.0, 6675.0, 4583.0, 4438.0, 3857.0, 4885.0, 4674.0, 6544.0, 4951.0, 8656.0, 10329.0, 6578.0, 6002.0, 3422.0, 3139.0, 16305.0, 10450.0, 4662.0, 6931.0, 6474.0, 3941.0, 7343.0, 4861.0, 3690.0, 5718.0, 3841.0, 5110.0, 4249.0, 7766.0, 4436.0, 3819.0, 5499.0, 5669.0, 7363.0, 4308.0, 3954.0, 9716.0, 6443.0, 3360.0, 3455.0, 10323.0, 3359.0, 3182.0, 3845.0, 4028.0, 5804.0, 3567.0, 3388.0, 5690.0, 3310.0, 3527.0, 5820.0, 5221.0, 5020.0, 4052.0, 3156.0, 4048.0, 3208.0, 3204.0, 4862.0, 4115.0, 3253.0, 4775.0, 3615.0, 3528.0, 3157.0, 3533.0, 6640.0, 3255.0, 4916.0, 4523.0, 3688.0, 3502.0, 4092.0, 3630.0, 3780.0, 3264.0, 3204.0, 6080.0, 3431.0, 6852.0, 3767.0, 3220.0, 5146.0, 6133.0, 3489.0, 7588.0, 3804.0, 3660.0, 3527.0, 3883.0, 6716.0, 3515.0, 3166.0, 3213.0, 6835.0, 11139.0, 4507.0, 4166.0, 3562.0, 3555.0, 3868.0, 3280.0, 3727.0, 7302.0, 6303.0, 7604.0, 5006.0, 7560.0, 8980.0, 7301.0, 3784.0, 3185.0, 3174.0, 4446.0, 3146.0, 5176.0, 3148.0, 3284.0, 3293.0, 4451.0, 4797.0, 3662.0, 3675.0, 3261.0, 3222.0, 3795.0, 5094.0, 4771.0, 4495.0, 7985.0, 3159.0, 3269.0, 3597.0, 6945.0, 4372.0, 3424.0, 3280.0, 3898.0, 3769.0, 3331.0, 3941.0, 6990.0, 4868.0, 7178.0, 3308.0, 4439.0, 3183.0, 3687.0, 3321.0, 7302.0, 5247.0, 4048.0, 4383.0, 6296.0, 6389.0, 4413.0, 4763.0, 3683.0, 5613.0, 6600.0, 3775.0, 7417.0, 4438.0, 7644.0, 4194.0, 4496.0, 4773.0, 5495.0, 4163.0, 4729.0, 6666.0, 8738.0, 4127.0, 4049.0, 4399.0, 35682.0, 9690.0, 3161.0, 3760.0, 10877.0, 3925.0, 3943.0, 5410.0, 3335.0, 3773.0, 4526.0, 5370.0, 6583.0, 4854.0, 7014.0, 4917.0, 4074.0, 5640.0, 3516.0, 3555.0, 5102.0, 4197.0, 5030.0, 3260.0, 3436.0, 4518.0, 4531.0, 3269.0, 3134.0, 4737.0, 3900.0, 4715.0, 3549.0, 3201.0, 3771.0, 3440.0, 3785.0, 3343.0, 3327.0, 3378.0, 5935.0, 4189.0, 3670.0, 3907.0, 4402.0, 6085.0, 3574.0, 6532.0, 4660.0, 4487.0, 3139.0, 4375.0, 3477.0, 3320.0, 3752.0, 3226.0, 3861.0, 3288.0, 4101.0, 3444.0, 5130.0, 5023.0, 4674.0, 6160.0, 3783.0, 4790.0, 3399.0, 3484.0, 3437.0, 3169.0, 6266.0, 5380.0, 4124.0, 3571.0, 4165.0, 3502.0, 5467.0, 12427.0, 5723.0, 3561.0, 6234.0, 3979.0, 4241.0, 4203.0, 4312.0, 7817.0, 3838.0, 3651.0, 5124.0, 6034.0, 3257.0, 6047.0, 3572.0, 4610.0, 8793.0, 3556.0, 8190.0, 3278.0, 3508.0, 3547.0, 4784.0, 3258.0, 4240.0, 6810.0, 3188.0, 3795.0, 3150.0, 3604.0, 3636.0, 4748.0, 3637.0, 3580.0, 3786.0, 3759.0, 3319.0, 3728.0, 3539.0, 3250.0, 3959.0, 7273.0, 7604.0, 7174.0, 3840.0, 3970.0, 3637.0, 3275.0, 4017.0, 3934.0, 5674.0, 4108.0, 3439.0, 4168.0, 3575.0, 3704.0, 3866.0, 4731.0, 3198.0, 3416.0, 3706.0, 3176.0, 6511.0, 6456.0, 4361.0, 3205.0, 7025.0, 3928.0, 5008.0, 4163.0, 8276.0, 4620.0, 3193.0, 3196.0, 3237.0, 3238.0, 4010.0, 4390.0, 3927.0, 4508.0, 4758.0, 3570.0, 6657.0, 9879.0, 3481.0, 3664.0, 7460.0, 3182.0, 4095.0, 3419.0, 3551.0, 3833.0, 4323.0, 3741.0, 3468.0, 4356.0, 3559.0, 4827.0, 4449.0, 4656.0, 3622.0, 3265.0, 6420.0, 3227.0, 4722.0, 3221.0, 5807.0, 5372.0, 3909.0, 3294.0, 5087.0, 3793.0, 4514.0, 3982.0, 4647.0, 7132.0, 3504.0, 3171.0, 3327.0, 6370.0, 4818.0, 3295.0, 3490.0, 3310.0, 5534.0, 4066.0, 6242.0, 6437.0, 5558.0, 3700.0, 3409.0, 4169.0, 4830.0, 4253.0, 6301.0, 4199.0, 3419.0, 3232.0, 3188.0, 6187.0, 5495.0, 3385.0, 3950.0, 6700.0, 3188.0, 3196.0, 3246.0, 11956.0, 3199.0, 3188.0, 3814.0, 3196.0, 4479.0, 5633.0, 7984.0, 4071.0, 3717.0, 6330.0, 6837.0, 3265.0, 6912.0]\n",
            "Выбросов в столбце AveOccup 711 штук: [4.658823529411765, 10.272727272727273, 5.617647058823529, 4.666666666666667, 12.23404255319149, 5.467153284671533, 5.1753554502369665, 5.396, 9.534285714285714, 5.738028169014084, 17.177700348432055, 11.295918367346939, 4.8370044052863435, 12.212765957446809, 6.076923076923077, 6.061538461538461, 4.825, 4.942084942084942, 4.773809523809524, 4.608695652173913, 4.743473325766175, 5.520833333333333, 4.663865546218488, 5.206422018348624, 4.693009118541034, 4.809523809523809, 5.072664359861592, 5.769230769230769, 5.702247191011236, 4.897260273972603, 4.653950953678474, 5.2504672897196265, 4.866666666666666, 5.03030303030303, 5.286307053941909, 5.2, 14.0, 6.0, 12.84375, 4.907801418439717, 5.052132701421801, 4.75, 4.725589225589226, 4.993265993265993, 4.67816091954023, 6.076923076923077, 11.634146341463415, 5.2635983263598325, 6.497584541062802, 4.728110599078341, 4.860126582278481, 5.2622377622377625, 4.621621621621622, 9.4, 599.7142857142857, 4.589446589446589, 5.404651162790698, 5.9411764705882355, 5.030075187969925, 5.5275423728813555, 5.896551724137931, 5.446469248291572, 5.735849056603773, 4.670520231213873, 6.823920265780731, 5.698884758364312, 5.269076305220883, 5.7364016736401675, 5.392953929539296, 5.477611940298507, 5.494623655913978, 5.373563218390805, 5.423295454545454, 5.326797385620915, 5.3347107438016526, 4.797297297297297, 4.981651376146789, 5.545012165450122, 6.127450980392157, 5.072164948453608, 5.551724137931035, 5.331521739130435, 4.814102564102564, 5.4677804295942725, 5.011278195488722, 4.686335403726708, 4.699658703071672, 5.216867469879518, 4.620253164556962, 4.704491725768322, 4.764705882352941, 4.698457223001403, 5.910958904109589, 4.8, 4.599455040871935, 18.5, 4.588957055214724, 5.084175084175084, 4.704918032786885, 4.662790697674419, 7.731543624161074, 4.764912280701754, 4.5888, 4.636363636363637, 4.808163265306122, 4.99581589958159, 4.704626334519573, 4.687707641196013, 4.710875331564987, 4.638297872340425, 4.605042016806722, 7.857142857142857, 1.0892678034102308, 4.666666666666667, 4.8133333333333335, 4.579804560260587, 1.0661764705882353, 4.753180661577608, 4.863636363636363, 12.396313364055299, 4.911433172302737, 4.895833333333333, 4.931818181818182, 4.684210526315789, 5.252941176470588, 4.584097859327217, 4.584388185654008, 4.6475, 4.854984894259819, 4.562300319488818, 4.587719298245614, 4.856832971800434, 4.978640776699029, 4.65625, 5.008771929824562, 4.8452655889145495, 5.177718832891247, 5.529411764705882, 4.866920152091255, 5.009230769230769, 4.722408026755853, 4.570135746606335, 5.231671554252199, 4.690860215053763, 4.85589519650655, 5.350157728706624, 5.25, 5.1076487252124645, 4.7362428842504745, 5.428927680798005, 4.668, 4.730337078651686, 4.631768953068592, 4.673611111111111, 4.569811320754717, 5.611111111111111, 5.091254752851711, 4.69205298013245, 5.25, 0.75, 7.8734177215189876, 4.8621621621621625, 5.510489510489511, 4.839506172839506, 4.571428571428571, 5.753846153846154, 4.625, 4.655430711610487, 4.7106382978723405, 4.70242214532872, 4.656015037593985, 12.130081300813009, 21.333333333333332, 4.867704280155642, 5.6112956810631225, 4.754098360655738, 5.257936507936508, 4.788461538461538, 5.001061571125265, 4.854304635761589, 4.633484162895928, 4.923076923076923, 4.7682926829268295, 4.590604026845638, 4.567164179104478, 4.950138504155125, 4.653846153846154, 4.666666666666667, 4.994764397905759, 4.574702886247878, 4.659722222222222, 4.583924349881797, 4.733727810650888, 4.655797101449275, 6.45, 4.58273381294964, 4.942211055276382, 5.230769230769231, 4.709150326797386, 4.654986522911051, 4.686900958466453, 4.685897435897436, 5.043887147335423, 4.790243902439024, 4.622619047619048, 4.685333333333333, 4.608, 5.940340909090909, 6.078048780487805, 5.036231884057971, 5.542168674698795, 5.514285714285714, 4.699421965317919, 4.835051546391752, 4.883495145631068, 6.571428571428571, 9.241379310344827, 4.622857142857143, 4.6419753086419755, 4.693200663349917, 4.5782967032967035, 4.794765840220386, 5.12603305785124, 4.566412213740458, 5.286195286195286, 5.096774193548387, 5.083650190114068, 4.623115577889447, 5.362359550561798, 4.6413708690330475, 4.889967637540453, 4.665760869565218, 5.161971830985915, 5.337328767123288, 4.580645161290323, 4.7, 4.5966386554621845, 5.026200873362446, 4.803571428571429, 5.065217391304348, 4.647368421052631, 5.058690744920993, 4.656652360515022, 5.5, 5.033333333333333, 4.752321981424148, 15.812154696132596, 9.900662251655628, 4.75, 4.663636363636364, 4.651041666666667, 4.623493975903615, 5.155797101449275, 4.588461538461538, 4.642045454545454, 5.016064257028113, 5.237012987012987, 4.644970414201183, 4.978102189781022, 5.149253731343284, 4.968531468531468, 4.6375, 4.604850213980028, 5.034965034965035, 4.985632183908046, 4.891472868217054, 4.792079207920792, 4.563218390804598, 4.962848297213622, 4.8545454545454545, 4.576923076923077, 5.733067729083666, 5.724137931034483, 4.597402597402597, 5.236111111111111, 4.648387096774194, 4.943620178041543, 5.196796338672769, 4.703241895261845, 4.960244648318043, 4.934865900383142, 4.562146892655368, 4.872093023255814, 5.102689486552567, 4.578313253012048, 4.765714285714286, 4.782608695652174, 4.869806094182826, 4.878787878787879, 4.696969696969697, 5.037142857142857, 5.211538461538462, 4.713692946058091, 5.155925155925156, 4.8290105667627286, 5.139189189189189, 4.729535398230088, 4.647268408551069, 4.643939393939394, 4.589164785553048, 5.006042296072508, 4.7514450867052025, 4.636986301369863, 4.595652173913043, 4.91044776119403, 5.028673835125448, 4.774869109947644, 4.606694560669456, 5.2785714285714285, 4.724550898203593, 4.618069815195072, 5.552884615384615, 4.694915254237288, 4.604904632152588, 4.571045576407506, 4.754166666666666, 4.8966666666666665, 4.57286432160804, 4.866952789699571, 4.619433198380567, 4.863829787234042, 4.930327868852459, 4.841269841269841, 5.804761904761905, 4.777777777777778, 4.893548387096774, 4.7748091603053435, 5.923076923076923, 6.954022988505747, 4.938931297709924, 4.778688524590164, 5.0625, 5.188811188811189, 5.655172413793103, 5.450261780104712, 5.067024128686327, 5.170520231213873, 5.322784810126582, 4.86, 4.61218836565097, 4.657216494845361, 4.784355179704017, 4.603092783505154, 4.6722689075630255, 4.788, 4.767080745341615, 4.575396825396825, 5.0134228187919465, 4.809027777777778, 4.672064777327935, 5.067796610169491, 5.0046082949308754, 4.899159663865547, 4.649402390438247, 5.1833910034602075, 4.844059405940594, 5.19533527696793, 4.666666666666667, 5.015197568389058, 5.049295774647887, 4.601161665053243, 9.19620253164557, 5.136, 6.230188679245283, 5.743494423791821, 5.153284671532846, 5.158469945355192, 5.798816568047338, 5.875, 4.663888888888889, 4.800469483568075, 4.970588235294118, 5.413306451612903, 5.194285714285714, 5.257318952234207, 4.632716049382716, 4.793478260869565, 5.218390804597701, 6.183098591549296, 5.1, 4.693396226415095, 4.637305699481865, 4.738095238095238, 5.0, 4.751173708920188, 5.236, 4.721925133689839, 4.819383259911894, 5.245210727969349, 4.708446866485014, 1.0892857142857142, 41.214285714285715, 7.5, 4.763698630136986, 5.6395348837209305, 6.020344287949921, 4.663461538461538, 4.9245283018867925, 6.3023255813953485, 83.17142857142858, 4.686695278969957, 4.698863636363637, 4.596858638743456, 5.700892857142857, 4.819277108433735, 4.579088471849866, 5.0120481927710845, 4.829411764705882, 4.619658119658119, 4.881944444444445, 4.739837398373984, 5.4135746606334845, 5.147651006711409, 4.663120567375887, 4.6020408163265305, 4.903780068728523, 7.149253731343284, 4.696810259782966, 6.030555555555556, 6.284023668639053, 4.675675675675675, 5.685714285714286, 5.219409282700422, 5.588957055214724, 5.2, 4.953488372093023, 6.516666666666667, 4.76482617586912, 7.416666666666667, 5.615, 5.621621621621622, 5.892733564013841, 5.186991869918699, 5.017391304347826, 5.501937984496124, 5.801104972375691, 5.614617940199335, 4.96613545816733, 5.379518072289157, 4.699619771863118, 4.8419452887537995, 5.285714285714286, 5.235294117647059, 4.83201581027668, 5.235588972431078, 5.517341040462428, 5.593277310924369, 5.019077901430842, 5.2204724409448815, 4.821018062397373, 7.618181818181818, 6.256756756756757, 5.855544252288912, 6.739583333333333, 5.885869565217392, 5.995680345572354, 5.212361331220285, 5.412353923205342, 4.863095238095238, 4.7744, 6.268011527377522, 5.990632318501171, 6.429447852760736, 5.487266553480476, 5.461052631578947, 4.903654485049834, 6.181556195965418, 6.3121212121212125, 5.66546762589928, 5.632612966601179, 5.80064308681672, 6.054884742041712, 5.64021164021164, 6.291666666666667, 8.486725663716815, 8.335616438356164, 6.2, 5.773480662983426, 5.2811791383219955, 6.41044776119403, 5.11968085106383, 5.582677165354331, 6.349442379182156, 5.378640776699029, 5.092564491654021, 4.71578947368421, 8.5578125, 4.762043795620438, 5.269953051643192, 4.939778129952456, 5.927066450567261, 5.007575757575758, 4.978260869565218, 5.81625441696113, 4.747706422018348, 4.7, 5.095238095238095, 4.686619718309859, 5.418994413407821, 4.969387755102041, 4.714285714285714, 5.004405286343612, 4.965014577259475, 4.633053221288516, 4.842105263157895, 5.319444444444445, 5.9502487562189055, 5.700296735905044, 5.486899563318778, 5.713114754098361, 5.253032928942807, 5.372282608695652, 6.303571428571429, 0.6923076923076923, 8.011857707509881, 5.416666666666667, 4.761682242990654, 5.2265625, 4.666666666666667, 4.7280334728033475, 63.75, 4.966101694915254, 5.264516129032258, 4.62962962962963, 4.960747663551402, 4.728571428571429, 4.582978723404255, 5.130769230769231, 4.91497461928934, 12.098939929328623, 4.607438016528926, 6.884745762711864, 8.222222222222221, 5.286919831223629, 6.2631578947368425, 7.756756756756757, 230.17241379310346, 7.864, 4.728070175438597, 4.653333333333333, 5.141791044776119, 4.811428571428571, 5.2809917355371905, 4.795238095238095, 33.95294117647059, 4.602941176470588, 7.083665338645418, 4.585798816568047, 5.3138297872340425, 5.846153846153846, 6.125, 5.230769230769231, 4.847087378640777, 4.749826268241835, 6.630357142857143, 7.508771929824562, 6.485106382978723, 4.599286563614744, 4.805194805194805, 4.716981132075472, 4.632258064516129, 4.701183431952662, 4.574358974358974, 4.74113475177305, 7.728915662650603, 5.709677419354839, 4.863961813842482, 4.579908675799087, 4.680327868852459, 4.84779299847793, 4.905718701700154, 4.738683127572016, 4.690756302521009, 5.399328859060403, 4.695760598503741, 4.862903225806452, 4.865753424657535, 4.979094076655052, 18.82181818181818, 4.7, 10.98, 4.583333333333333, 4.986486486486487, 4.6568627450980395, 4.6477272727272725, 7.48207171314741, 6.0394736842105265, 5.258373205741627, 5.275862068965517, 4.70997920997921, 15.602941176470589, 5.9335548172757475, 13.0, 5.451612903225806, 5.037037037037037, 4.6, 4.571428571428571, 4.831730769230769, 4.8354430379746836, 4.992932862190813, 5.023166023166024, 4.66919191919192, 5.199066874027994, 5.773462783171521, 51.4, 6.30716723549488, 4.883928571428571, 12.895397489539748, 12.296089385474861, 13.693486590038313, 502.46153846153845, 16.9375, 9.649484536082474, 4.6052009456264775, 5.286567164179105, 6.19375, 4.6571428571428575, 4.794561933534744, 5.961077844311378, 4.669856459330144, 5.176943699731903, 6.886363636363637, 5.2088772845953, 5.228013029315961, 4.775377969762419, 5.192825112107624, 4.566433566433567, 9.30569105691057, 6.015625, 5.6344936708860756, 5.568281938325991, 4.766990291262136, 5.163339382940109, 5.042806183115339, 4.7, 4.622549019607843, 4.776243093922652, 4.948148148148148, 4.875, 5.228515625, 4.741558441558442, 4.772030651340996, 4.85014409221902, 4.598971722365039, 6.110410094637224, 4.949519230769231, 4.614197530864198, 5.766159695817491, 5.392384105960265, 4.896356275303644, 5.969418960244648, 4.603092783505154, 5.3604651162790695, 4.621301775147929, 5.499224806201551, 7.428571428571429, 9.954545454545455, 10.153846153846153, 4.9375, 7.589041095890411, 7.551578947368421, 4.612565445026178, 7.2, 13.594827586206897, 4.776859504132231, 4.596375617792422, 4.590613382899628, 1243.3333333333333, 1.0606060606060606, 18.444444444444443, 4.767527675276753, 4.9162303664921465, 0.9705882352941176, 16.048780487804876, 5.195652173913044, 4.803858520900322, 4.614864864864865, 4.856655290102389, 5.160714285714286, 5.455357142857143, 9.897727272727273, 4.95, 4.930288461538462, 4.691326530612245, 4.8483754512635375, 13.212987012987012, 6.228571428571429, 4.665499124343257, 5.133192389006343, 4.9324324324324325, 5.264705882352941, 5.624398073836276, 5.546370967741935, 5.28080229226361, 4.613207547169812, 5.020257826887661, 4.811688311688312, 4.653954802259887, 6.634980988593156, 4.621861152141802, 4.658208955223881, 6.289156626506024, 4.908466819221968, 6.217002237136465, 8.547619047619047, 19.3125, 4.6, 5.240208877284595, 5.077922077922078, 8.886904761904763, 4.693181818181818]\n",
            "Выбросов в столбце Latitude 0 штук: []\n",
            "Выбросов в столбце Longitude 0 штук: []\n",
            "Выбросов в столбце MedHouseVal 1071 штук: [5.00001, 4.833, 5.00001, 4.896, 5.00001, 5.00001, 5.00001, 5.00001, 5.00001, 5.00001, 5.00001, 5.00001, 5.00001, 5.00001, 5.00001, 4.94, 5.00001, 5.00001, 5.00001, 5.00001, 5.00001, 5.00001, 5.00001, 5.00001, 5.00001, 5.00001, 5.00001, 4.99, 5.00001, 5.00001, 5.00001, 4.854, 5.00001, 5.00001, 5.00001, 5.00001, 5.00001, 5.00001, 5.00001, 4.835, 5.00001, 5.00001, 5.00001, 5.00001, 5.00001, 5.00001, 4.831, 5.00001, 5.00001, 5.00001, 5.00001, 5.00001, 5.00001, 5.00001, 5.00001, 5.00001, 5.00001, 5.00001, 5.00001, 5.00001, 5.00001, 5.00001, 4.955, 5.00001, 5.00001, 5.00001, 5.00001, 5.00001, 5.00001, 5.00001, 4.908, 5.00001, 5.00001, 4.956, 5.00001, 5.00001, 4.838, 5.00001, 4.976, 5.00001, 5.00001, 4.956, 5.00001, 5.00001, 5.00001, 5.00001, 5.00001, 5.00001, 4.987, 5.00001, 5.00001, 5.00001, 5.00001, 5.00001, 5.00001, 5.00001, 5.00001, 5.00001, 5.00001, 5.00001, 5.00001, 5.00001, 5.00001, 5.00001, 5.00001, 5.00001, 5.00001, 5.00001, 5.00001, 5.00001, 5.00001, 5.00001, 5.00001, 5.00001, 5.00001, 5.00001, 5.00001, 5.00001, 5.00001, 5.00001, 5.00001, 5.00001, 5.00001, 5.00001, 5.00001, 5.00001, 5.00001, 5.00001, 4.869, 4.864, 4.85, 5.00001, 5.00001, 5.00001, 5.00001, 5.00001, 5.0, 5.00001, 5.00001, 5.0, 5.00001, 5.00001, 5.00001, 5.00001, 5.00001, 5.00001, 5.00001, 5.00001, 5.00001, 5.00001, 5.00001, 5.00001, 5.00001, 5.00001, 5.00001, 5.00001, 5.00001, 5.00001, 5.00001, 5.00001, 5.00001, 5.00001, 5.00001, 5.00001, 5.00001, 5.00001, 5.00001, 5.00001, 5.00001, 5.00001, 5.00001, 5.00001, 5.00001, 5.00001, 5.00001, 5.00001, 5.00001, 5.00001, 5.00001, 5.00001, 5.00001, 5.00001, 5.00001, 5.00001, 5.00001, 5.00001, 5.00001, 5.00001, 5.00001, 5.00001, 5.00001, 5.00001, 5.00001, 5.00001, 5.00001, 5.00001, 5.0, 5.00001, 5.00001, 5.00001, 5.00001, 5.00001, 5.00001, 5.0, 5.00001, 5.00001, 5.00001, 5.00001, 5.00001, 5.00001, 5.00001, 5.00001, 5.00001, 5.00001, 5.00001, 5.00001, 5.00001, 4.947, 4.851, 5.00001, 5.00001, 5.00001, 5.00001, 5.00001, 5.00001, 5.00001, 5.00001, 5.00001, 5.00001, 5.00001, 5.00001, 5.00001, 5.00001, 5.00001, 5.00001, 5.00001, 5.00001, 5.00001, 5.00001, 5.00001, 4.898, 5.00001, 5.00001, 5.00001, 5.00001, 5.00001, 5.00001, 5.00001, 5.00001, 5.00001, 5.00001, 5.00001, 5.00001, 5.00001, 5.00001, 5.00001, 5.00001, 5.00001, 5.00001, 5.00001, 5.00001, 5.00001, 5.00001, 5.00001, 5.00001, 4.984, 4.974, 5.00001, 4.912, 5.00001, 5.00001, 5.00001, 4.868, 4.847, 5.00001, 5.00001, 5.00001, 5.00001, 5.00001, 5.00001, 5.00001, 5.00001, 5.00001, 5.00001, 4.833, 5.00001, 5.00001, 4.837, 5.00001, 5.00001, 5.00001, 5.00001, 5.00001, 5.00001, 5.00001, 5.00001, 5.00001, 5.00001, 5.00001, 5.00001, 5.00001, 5.00001, 5.00001, 5.00001, 5.00001, 5.00001, 4.904, 4.932, 5.00001, 5.00001, 5.00001, 5.00001, 5.00001, 5.00001, 5.00001, 5.00001, 5.00001, 5.00001, 5.00001, 5.00001, 5.00001, 5.00001, 5.00001, 5.00001, 5.00001, 5.00001, 5.00001, 5.00001, 5.0, 5.00001, 5.00001, 4.986, 5.00001, 4.903, 5.00001, 5.00001, 5.00001, 5.00001, 5.0, 5.00001, 5.0, 5.00001, 5.00001, 5.00001, 5.00001, 5.00001, 5.00001, 5.00001, 4.922, 5.00001, 5.00001, 5.00001, 5.00001, 5.00001, 5.00001, 5.00001, 5.00001, 5.00001, 5.00001, 5.00001, 5.00001, 5.00001, 4.955, 5.00001, 5.00001, 5.00001, 5.00001, 5.00001, 5.00001, 5.00001, 5.00001, 5.00001, 5.00001, 5.00001, 5.00001, 5.00001, 5.00001, 5.00001, 5.00001, 5.00001, 5.00001, 4.836, 5.00001, 5.00001, 5.00001, 4.885, 5.00001, 4.875, 5.00001, 5.00001, 5.00001, 5.00001, 5.00001, 5.00001, 5.00001, 5.00001, 5.00001, 5.00001, 5.00001, 5.00001, 5.00001, 5.00001, 5.00001, 5.00001, 5.00001, 5.00001, 5.00001, 5.00001, 5.00001, 5.00001, 5.00001, 5.00001, 5.00001, 5.00001, 5.00001, 5.00001, 5.00001, 5.00001, 5.00001, 5.00001, 5.00001, 5.00001, 5.00001, 5.00001, 5.00001, 5.00001, 5.00001, 5.00001, 5.00001, 5.00001, 5.00001, 5.00001, 5.00001, 5.00001, 5.00001, 5.00001, 5.00001, 5.00001, 5.00001, 5.00001, 5.00001, 5.00001, 5.00001, 5.00001, 5.00001, 5.00001, 5.00001, 5.00001, 5.00001, 5.00001, 5.00001, 5.00001, 5.00001, 5.00001, 5.00001, 5.00001, 5.00001, 5.00001, 5.00001, 5.00001, 4.833, 5.00001, 5.00001, 5.00001, 5.00001, 5.00001, 5.00001, 5.00001, 5.00001, 5.0, 5.00001, 5.00001, 5.00001, 5.00001, 4.934, 4.857, 5.00001, 5.00001, 5.00001, 4.925, 5.00001, 5.00001, 5.00001, 5.00001, 5.00001, 5.00001, 5.00001, 5.00001, 5.00001, 5.00001, 5.00001, 5.00001, 5.00001, 5.00001, 5.00001, 5.00001, 5.00001, 5.00001, 5.00001, 5.00001, 5.00001, 4.878, 5.00001, 5.00001, 5.00001, 5.00001, 5.00001, 5.00001, 5.00001, 5.00001, 5.00001, 5.00001, 5.00001, 5.00001, 5.00001, 5.00001, 5.00001, 5.00001, 5.00001, 5.00001, 4.89, 5.00001, 5.00001, 5.00001, 5.00001, 5.00001, 5.00001, 5.00001, 4.938, 4.958, 5.00001, 4.871, 5.00001, 5.0, 5.00001, 5.0, 5.00001, 5.00001, 5.00001, 5.00001, 5.00001, 5.00001, 4.841, 4.954, 4.833, 5.00001, 5.00001, 5.00001, 5.00001, 5.00001, 5.00001, 5.00001, 5.00001, 5.00001, 5.00001, 5.00001, 5.00001, 5.00001, 5.00001, 5.00001, 4.87, 5.00001, 5.00001, 5.00001, 5.00001, 5.00001, 5.00001, 5.00001, 5.00001, 5.00001, 4.991, 5.00001, 5.00001, 5.00001, 5.00001, 5.00001, 5.00001, 5.00001, 5.00001, 5.00001, 5.00001, 5.00001, 5.00001, 5.00001, 5.00001, 4.93, 5.00001, 5.00001, 5.00001, 5.00001, 5.0, 5.00001, 5.00001, 5.00001, 4.829, 5.00001, 5.00001, 5.00001, 5.00001, 5.00001, 5.00001, 5.00001, 5.00001, 5.00001, 5.00001, 5.00001, 5.00001, 5.00001, 5.00001, 5.00001, 5.00001, 5.00001, 5.00001, 5.00001, 5.00001, 5.00001, 5.00001, 5.00001, 5.00001, 5.00001, 4.908, 5.00001, 5.00001, 5.00001, 5.00001, 4.846, 5.00001, 5.00001, 5.00001, 4.872, 5.00001, 5.00001, 5.00001, 5.00001, 5.00001, 5.00001, 5.00001, 5.00001, 5.00001, 5.00001, 4.955, 5.00001, 5.00001, 4.85, 5.00001, 5.00001, 5.00001, 5.00001, 5.00001, 5.00001, 5.00001, 5.00001, 4.933, 5.00001, 5.00001, 5.00001, 5.00001, 5.00001, 5.0, 5.00001, 5.00001, 5.00001, 5.00001, 5.00001, 4.964, 5.0, 5.00001, 5.0, 5.00001, 5.00001, 5.00001, 4.889, 5.00001, 5.00001, 5.00001, 5.00001, 5.00001, 5.00001, 5.00001, 5.00001, 5.00001, 5.00001, 5.00001, 5.00001, 5.00001, 5.00001, 5.00001, 5.00001, 5.00001, 5.00001, 5.00001, 5.00001, 4.827, 5.00001, 5.00001, 5.00001, 5.00001, 5.00001, 5.00001, 5.00001, 5.00001, 5.00001, 5.00001, 5.00001, 4.853, 4.925, 5.00001, 5.00001, 5.00001, 5.0, 5.00001, 5.00001, 5.00001, 5.00001, 5.00001, 5.00001, 5.00001, 5.00001, 5.00001, 5.00001, 5.00001, 5.00001, 5.00001, 5.00001, 5.00001, 5.00001, 5.00001, 5.00001, 5.00001, 5.00001, 5.00001, 5.00001, 5.00001, 5.00001, 5.00001, 5.00001, 5.00001, 5.00001, 5.00001, 5.00001, 5.0, 5.00001, 5.00001, 5.00001, 5.00001, 5.0, 5.0, 5.00001, 5.00001, 5.0, 5.00001, 5.00001, 5.00001, 5.00001, 5.00001, 5.00001, 5.00001, 5.00001, 5.00001, 5.00001, 5.00001, 5.00001, 5.00001, 5.00001, 5.00001, 5.00001, 5.00001, 5.00001, 5.00001, 5.00001, 5.00001, 5.00001, 5.00001, 5.00001, 5.0, 5.00001, 5.00001, 4.944, 4.923, 5.00001, 5.00001, 5.00001, 5.0, 5.0, 4.929, 4.889, 5.00001, 5.00001, 5.00001, 5.00001, 5.00001, 5.00001, 5.00001, 4.9, 5.0, 5.00001, 5.00001, 5.00001, 5.00001, 5.00001, 5.00001, 4.846, 5.00001, 5.00001, 5.00001, 5.00001, 5.00001, 5.00001, 5.00001, 5.00001, 4.833, 5.00001, 5.00001, 5.00001, 5.00001, 5.00001, 5.00001, 5.00001, 5.00001, 5.00001, 5.00001, 5.00001, 5.00001, 5.0, 5.0, 5.00001, 5.00001, 5.00001, 5.00001, 5.00001, 5.00001, 5.00001, 5.00001, 5.00001, 5.00001, 5.00001, 5.00001, 5.00001, 5.00001, 5.00001, 5.00001, 5.00001, 5.00001, 5.00001, 5.00001, 5.00001, 5.00001, 5.00001, 5.00001, 4.833, 5.00001, 5.00001, 4.912, 5.00001, 5.00001, 5.00001, 4.959, 5.00001, 5.00001, 5.00001, 5.00001, 4.96, 5.00001, 5.00001, 5.00001, 5.00001, 5.00001, 5.00001, 5.00001, 5.00001, 5.00001, 5.00001, 5.00001, 5.00001, 5.00001, 5.00001, 5.00001, 5.00001, 5.00001, 5.00001, 5.00001, 5.00001, 5.00001, 5.00001, 5.00001, 5.00001, 5.00001, 5.00001, 5.00001, 5.00001, 5.00001, 5.00001, 5.00001, 5.00001, 5.00001, 5.00001, 5.00001, 5.00001, 5.00001, 5.00001, 5.00001, 5.0, 5.00001, 5.00001, 5.00001, 5.00001, 5.00001, 5.00001, 5.00001, 5.00001, 5.00001, 5.00001, 5.00001, 5.0, 5.00001, 5.00001, 5.00001, 5.00001, 5.00001, 5.00001, 5.00001, 5.00001, 5.00001, 5.00001, 5.00001, 5.00001, 5.00001, 5.00001, 5.00001, 5.00001, 5.00001, 5.00001, 5.00001, 5.00001, 5.00001, 5.00001, 5.00001, 5.00001, 5.00001, 5.00001, 5.00001, 5.00001, 4.964, 5.00001, 5.00001, 5.00001, 5.00001, 5.00001, 5.00001, 5.00001, 5.00001, 5.00001, 5.00001, 5.00001, 5.00001, 5.00001, 5.00001, 5.00001, 5.00001, 5.00001, 5.00001, 5.00001, 5.00001, 5.00001, 5.00001, 5.00001, 5.00001, 5.00001, 4.988, 5.00001, 5.00001, 5.00001, 5.00001, 4.853, 5.00001, 5.00001, 5.00001, 5.00001, 5.00001, 5.00001, 5.00001, 5.00001, 5.00001, 5.00001, 5.00001, 5.00001, 5.00001, 5.00001, 5.00001, 5.00001, 5.00001, 5.00001, 5.00001, 5.00001, 5.00001, 5.00001, 5.00001, 5.00001, 5.00001, 5.00001, 5.00001, 5.00001, 5.00001, 5.00001, 5.00001, 5.00001, 5.00001, 5.00001, 5.00001, 5.00001, 5.00001, 5.00001, 5.00001, 5.00001, 5.00001, 4.92, 5.00001, 5.00001, 5.00001, 5.00001, 5.00001, 5.00001, 5.00001, 5.00001, 5.00001, 5.00001, 5.00001, 5.00001, 5.00001, 5.00001, 5.00001, 5.00001, 5.00001, 5.00001, 5.00001, 5.00001, 5.00001, 5.00001, 5.00001, 5.00001, 5.00001, 5.00001, 5.00001, 5.00001, 5.00001, 4.85, 5.00001, 5.00001, 5.00001, 5.00001, 5.00001, 5.00001, 5.00001, 5.00001, 5.00001, 5.00001, 5.00001, 5.00001, 5.00001, 5.00001, 5.00001, 5.00001, 5.00001, 5.00001, 5.00001, 5.00001, 5.00001, 5.00001, 5.00001, 5.00001, 5.00001]\n"
          ]
        }
      ]
    },
    {
      "cell_type": "markdown",
      "source": [
        "Так как столбец с количеством спален по результатам корреляционного анализа не используется в построении модели, предварительно удалим его, для того, чтобы не потерять информацию, тк в этом столбце больше всего обнаружено выбросов."
      ],
      "metadata": {
        "id": "qkCrtPSKEEyr"
      }
    },
    {
      "cell_type": "code",
      "source": [
        "housing_no_outliers = housing_df.drop(columns=['AveBedrms'])"
      ],
      "metadata": {
        "id": "9qxWcTTlD185"
      },
      "execution_count": null,
      "outputs": []
    },
    {
      "cell_type": "code",
      "source": [
        "for column_name in housing_no_outliers.columns:\n",
        "  outliers_value = find_outliers(housing_no_outliers, column_name)\n",
        "  if len(outliers_value) > 0:\n",
        "    housing_no_outliers = housing_no_outliers[~housing_no_outliers[column_name].isin(outliers_value)] #оставляем строки без выбросов"
      ],
      "metadata": {
        "id": "eQUE4oFyEfNZ"
      },
      "execution_count": null,
      "outputs": []
    },
    {
      "cell_type": "code",
      "source": [
        "housing_no_outliers.info()"
      ],
      "metadata": {
        "colab": {
          "base_uri": "https://localhost:8080/"
        },
        "id": "Fj06QT0wFn46",
        "outputId": "39430323-f89c-4dc5-9dd1-2d8d4b7fb6a6"
      },
      "execution_count": null,
      "outputs": [
        {
          "output_type": "stream",
          "name": "stdout",
          "text": [
            "<class 'pandas.core.frame.DataFrame'>\n",
            "Index: 17168 entries, 3 to 20639\n",
            "Data columns (total 8 columns):\n",
            " #   Column       Non-Null Count  Dtype  \n",
            "---  ------       --------------  -----  \n",
            " 0   MedInc       17168 non-null  float64\n",
            " 1   HouseAge     17168 non-null  float64\n",
            " 2   AveRooms     17168 non-null  float64\n",
            " 3   Population   17168 non-null  float64\n",
            " 4   AveOccup     17168 non-null  float64\n",
            " 5   Latitude     17168 non-null  float64\n",
            " 6   Longitude    17168 non-null  float64\n",
            " 7   MedHouseVal  17168 non-null  float64\n",
            "dtypes: float64(8)\n",
            "memory usage: 1.2 MB\n"
          ]
        }
      ]
    },
    {
      "cell_type": "markdown",
      "source": [
        "Строки с выбросами были удалены."
      ],
      "metadata": {
        "id": "Ed6wH8ewF9-D"
      }
    },
    {
      "cell_type": "code",
      "source": [
        "y2 = housing_no_outliers['MedHouseVal']\n",
        "X2 = housing_no_outliers.drop(columns=['MedHouseVal'])"
      ],
      "metadata": {
        "id": "Yg0lyqSqGCGZ"
      },
      "execution_count": null,
      "outputs": []
    },
    {
      "cell_type": "code",
      "source": [
        "r2_train3, r2_test3, rmse_train3, rmse_test3 = linear_model(X2, y2)\n",
        "print(f'R2 на тестовом множестве: {r2_test3}\\nR2 на обучающем множестве: {r2_train3}')\n",
        "print(f'RMSE на тестовом множестве: {rmse_test3}\\nRMSE на обучающем множестве: {rmse_train3}')"
      ],
      "metadata": {
        "colab": {
          "base_uri": "https://localhost:8080/"
        },
        "id": "uu6XGSYmGNqn",
        "outputId": "53550c43-870b-4acc-b595-502d82d26fb0"
      },
      "execution_count": null,
      "outputs": [
        {
          "output_type": "stream",
          "name": "stdout",
          "text": [
            "R2 на тестовом множестве: 0.6178112928981232\n",
            "R2 на обучающем множестве: 0.6274958929542234\n",
            "RMSE на тестовом множестве: 0.5639823707351388\n",
            "RMSE на обучающем множестве: 0.5739548626509028\n"
          ]
        }
      ]
    },
    {
      "cell_type": "markdown",
      "source": [
        "После удаления выбросов значительно уменьшилось значение среднеквадратичной ошибки и на обучающей, и на тестовой выборке, значение R2 на тестовом множестве также увеличилось. Получается, что наличие выбросов значительно влияли на качество модели."
      ],
      "metadata": {
        "id": "p45cF5BZGkNn"
      }
    },
    {
      "cell_type": "markdown",
      "source": [
        "8. Измените несколько признаков на выбор математически. Например, вычислите логарифм, возведите в квадрат, извлеките квадратный корень.\n",
        "\n",
        "a. Повторите п. 3, п. 4 на измененных данных."
      ],
      "metadata": {
        "id": "_OGOr1OzG95V"
      }
    },
    {
      "cell_type": "markdown",
      "source": [
        "Столбец MedInc со средними доходами можно прологарифмировать для сглаживания распределения, логарифмирование может сделать преобразование более симметричным и увеличить точность модели. Квадратный корень будем извлекать из данных в столбце Population и возведем в квадрат количество комнат."
      ],
      "metadata": {
        "id": "DAU51ZbgHwz4"
      }
    },
    {
      "cell_type": "code",
      "source": [
        "math_X2 = X2.copy()\n",
        "math_X2['MedInc'] = np.log(math_X2['MedInc'])\n",
        "math_X2['Population'] = np.sqrt(math_X2['Population'])\n",
        "math_X2['AveRooms'] = math_X2['AveRooms'] ** 2\n",
        "math_X2.head()"
      ],
      "metadata": {
        "colab": {
          "base_uri": "https://localhost:8080/",
          "height": 206
        },
        "id": "DjAMfoNEHhs0",
        "outputId": "90b64ace-aa3a-45fc-e038-bcac58a35df4"
      },
      "execution_count": null,
      "outputs": [
        {
          "output_type": "execute_result",
          "data": {
            "text/plain": [
              "     MedInc  HouseAge   AveRooms  Population  AveOccup  Latitude  Longitude\n",
              "3  1.730434      52.0  33.841580   23.622024  2.547945     37.85    -122.25\n",
              "4  1.347086      52.0  39.461681   23.769729  2.181467     37.85    -122.25\n",
              "5  1.395452      52.0  22.673387   20.322401  2.139896     37.85    -122.25\n",
              "6  1.297217      52.0  24.323703   33.075671  2.128405     37.84    -122.25\n",
              "7  1.137833      52.0  23.016266   34.014703  1.788253     37.84    -122.25"
            ],
            "text/html": [
              "\n",
              "  <div id=\"df-281f6370-18d5-4ee3-90d3-280f93719dfc\" class=\"colab-df-container\">\n",
              "    <div>\n",
              "<style scoped>\n",
              "    .dataframe tbody tr th:only-of-type {\n",
              "        vertical-align: middle;\n",
              "    }\n",
              "\n",
              "    .dataframe tbody tr th {\n",
              "        vertical-align: top;\n",
              "    }\n",
              "\n",
              "    .dataframe thead th {\n",
              "        text-align: right;\n",
              "    }\n",
              "</style>\n",
              "<table border=\"1\" class=\"dataframe\">\n",
              "  <thead>\n",
              "    <tr style=\"text-align: right;\">\n",
              "      <th></th>\n",
              "      <th>MedInc</th>\n",
              "      <th>HouseAge</th>\n",
              "      <th>AveRooms</th>\n",
              "      <th>Population</th>\n",
              "      <th>AveOccup</th>\n",
              "      <th>Latitude</th>\n",
              "      <th>Longitude</th>\n",
              "    </tr>\n",
              "  </thead>\n",
              "  <tbody>\n",
              "    <tr>\n",
              "      <th>3</th>\n",
              "      <td>1.730434</td>\n",
              "      <td>52.0</td>\n",
              "      <td>33.841580</td>\n",
              "      <td>23.622024</td>\n",
              "      <td>2.547945</td>\n",
              "      <td>37.85</td>\n",
              "      <td>-122.25</td>\n",
              "    </tr>\n",
              "    <tr>\n",
              "      <th>4</th>\n",
              "      <td>1.347086</td>\n",
              "      <td>52.0</td>\n",
              "      <td>39.461681</td>\n",
              "      <td>23.769729</td>\n",
              "      <td>2.181467</td>\n",
              "      <td>37.85</td>\n",
              "      <td>-122.25</td>\n",
              "    </tr>\n",
              "    <tr>\n",
              "      <th>5</th>\n",
              "      <td>1.395452</td>\n",
              "      <td>52.0</td>\n",
              "      <td>22.673387</td>\n",
              "      <td>20.322401</td>\n",
              "      <td>2.139896</td>\n",
              "      <td>37.85</td>\n",
              "      <td>-122.25</td>\n",
              "    </tr>\n",
              "    <tr>\n",
              "      <th>6</th>\n",
              "      <td>1.297217</td>\n",
              "      <td>52.0</td>\n",
              "      <td>24.323703</td>\n",
              "      <td>33.075671</td>\n",
              "      <td>2.128405</td>\n",
              "      <td>37.84</td>\n",
              "      <td>-122.25</td>\n",
              "    </tr>\n",
              "    <tr>\n",
              "      <th>7</th>\n",
              "      <td>1.137833</td>\n",
              "      <td>52.0</td>\n",
              "      <td>23.016266</td>\n",
              "      <td>34.014703</td>\n",
              "      <td>1.788253</td>\n",
              "      <td>37.84</td>\n",
              "      <td>-122.25</td>\n",
              "    </tr>\n",
              "  </tbody>\n",
              "</table>\n",
              "</div>\n",
              "    <div class=\"colab-df-buttons\">\n",
              "\n",
              "  <div class=\"colab-df-container\">\n",
              "    <button class=\"colab-df-convert\" onclick=\"convertToInteractive('df-281f6370-18d5-4ee3-90d3-280f93719dfc')\"\n",
              "            title=\"Convert this dataframe to an interactive table.\"\n",
              "            style=\"display:none;\">\n",
              "\n",
              "  <svg xmlns=\"http://www.w3.org/2000/svg\" height=\"24px\" viewBox=\"0 -960 960 960\">\n",
              "    <path d=\"M120-120v-720h720v720H120Zm60-500h600v-160H180v160Zm220 220h160v-160H400v160Zm0 220h160v-160H400v160ZM180-400h160v-160H180v160Zm440 0h160v-160H620v160ZM180-180h160v-160H180v160Zm440 0h160v-160H620v160Z\"/>\n",
              "  </svg>\n",
              "    </button>\n",
              "\n",
              "  <style>\n",
              "    .colab-df-container {\n",
              "      display:flex;\n",
              "      gap: 12px;\n",
              "    }\n",
              "\n",
              "    .colab-df-convert {\n",
              "      background-color: #E8F0FE;\n",
              "      border: none;\n",
              "      border-radius: 50%;\n",
              "      cursor: pointer;\n",
              "      display: none;\n",
              "      fill: #1967D2;\n",
              "      height: 32px;\n",
              "      padding: 0 0 0 0;\n",
              "      width: 32px;\n",
              "    }\n",
              "\n",
              "    .colab-df-convert:hover {\n",
              "      background-color: #E2EBFA;\n",
              "      box-shadow: 0px 1px 2px rgba(60, 64, 67, 0.3), 0px 1px 3px 1px rgba(60, 64, 67, 0.15);\n",
              "      fill: #174EA6;\n",
              "    }\n",
              "\n",
              "    .colab-df-buttons div {\n",
              "      margin-bottom: 4px;\n",
              "    }\n",
              "\n",
              "    [theme=dark] .colab-df-convert {\n",
              "      background-color: #3B4455;\n",
              "      fill: #D2E3FC;\n",
              "    }\n",
              "\n",
              "    [theme=dark] .colab-df-convert:hover {\n",
              "      background-color: #434B5C;\n",
              "      box-shadow: 0px 1px 3px 1px rgba(0, 0, 0, 0.15);\n",
              "      filter: drop-shadow(0px 1px 2px rgba(0, 0, 0, 0.3));\n",
              "      fill: #FFFFFF;\n",
              "    }\n",
              "  </style>\n",
              "\n",
              "    <script>\n",
              "      const buttonEl =\n",
              "        document.querySelector('#df-281f6370-18d5-4ee3-90d3-280f93719dfc button.colab-df-convert');\n",
              "      buttonEl.style.display =\n",
              "        google.colab.kernel.accessAllowed ? 'block' : 'none';\n",
              "\n",
              "      async function convertToInteractive(key) {\n",
              "        const element = document.querySelector('#df-281f6370-18d5-4ee3-90d3-280f93719dfc');\n",
              "        const dataTable =\n",
              "          await google.colab.kernel.invokeFunction('convertToInteractive',\n",
              "                                                    [key], {});\n",
              "        if (!dataTable) return;\n",
              "\n",
              "        const docLinkHtml = 'Like what you see? Visit the ' +\n",
              "          '<a target=\"_blank\" href=https://colab.research.google.com/notebooks/data_table.ipynb>data table notebook</a>'\n",
              "          + ' to learn more about interactive tables.';\n",
              "        element.innerHTML = '';\n",
              "        dataTable['output_type'] = 'display_data';\n",
              "        await google.colab.output.renderOutput(dataTable, element);\n",
              "        const docLink = document.createElement('div');\n",
              "        docLink.innerHTML = docLinkHtml;\n",
              "        element.appendChild(docLink);\n",
              "      }\n",
              "    </script>\n",
              "  </div>\n",
              "\n",
              "\n",
              "<div id=\"df-f7f5054e-80a9-465f-8561-716358878541\">\n",
              "  <button class=\"colab-df-quickchart\" onclick=\"quickchart('df-f7f5054e-80a9-465f-8561-716358878541')\"\n",
              "            title=\"Suggest charts\"\n",
              "            style=\"display:none;\">\n",
              "\n",
              "<svg xmlns=\"http://www.w3.org/2000/svg\" height=\"24px\"viewBox=\"0 0 24 24\"\n",
              "     width=\"24px\">\n",
              "    <g>\n",
              "        <path d=\"M19 3H5c-1.1 0-2 .9-2 2v14c0 1.1.9 2 2 2h14c1.1 0 2-.9 2-2V5c0-1.1-.9-2-2-2zM9 17H7v-7h2v7zm4 0h-2V7h2v10zm4 0h-2v-4h2v4z\"/>\n",
              "    </g>\n",
              "</svg>\n",
              "  </button>\n",
              "\n",
              "<style>\n",
              "  .colab-df-quickchart {\n",
              "      --bg-color: #E8F0FE;\n",
              "      --fill-color: #1967D2;\n",
              "      --hover-bg-color: #E2EBFA;\n",
              "      --hover-fill-color: #174EA6;\n",
              "      --disabled-fill-color: #AAA;\n",
              "      --disabled-bg-color: #DDD;\n",
              "  }\n",
              "\n",
              "  [theme=dark] .colab-df-quickchart {\n",
              "      --bg-color: #3B4455;\n",
              "      --fill-color: #D2E3FC;\n",
              "      --hover-bg-color: #434B5C;\n",
              "      --hover-fill-color: #FFFFFF;\n",
              "      --disabled-bg-color: #3B4455;\n",
              "      --disabled-fill-color: #666;\n",
              "  }\n",
              "\n",
              "  .colab-df-quickchart {\n",
              "    background-color: var(--bg-color);\n",
              "    border: none;\n",
              "    border-radius: 50%;\n",
              "    cursor: pointer;\n",
              "    display: none;\n",
              "    fill: var(--fill-color);\n",
              "    height: 32px;\n",
              "    padding: 0;\n",
              "    width: 32px;\n",
              "  }\n",
              "\n",
              "  .colab-df-quickchart:hover {\n",
              "    background-color: var(--hover-bg-color);\n",
              "    box-shadow: 0 1px 2px rgba(60, 64, 67, 0.3), 0 1px 3px 1px rgba(60, 64, 67, 0.15);\n",
              "    fill: var(--button-hover-fill-color);\n",
              "  }\n",
              "\n",
              "  .colab-df-quickchart-complete:disabled,\n",
              "  .colab-df-quickchart-complete:disabled:hover {\n",
              "    background-color: var(--disabled-bg-color);\n",
              "    fill: var(--disabled-fill-color);\n",
              "    box-shadow: none;\n",
              "  }\n",
              "\n",
              "  .colab-df-spinner {\n",
              "    border: 2px solid var(--fill-color);\n",
              "    border-color: transparent;\n",
              "    border-bottom-color: var(--fill-color);\n",
              "    animation:\n",
              "      spin 1s steps(1) infinite;\n",
              "  }\n",
              "\n",
              "  @keyframes spin {\n",
              "    0% {\n",
              "      border-color: transparent;\n",
              "      border-bottom-color: var(--fill-color);\n",
              "      border-left-color: var(--fill-color);\n",
              "    }\n",
              "    20% {\n",
              "      border-color: transparent;\n",
              "      border-left-color: var(--fill-color);\n",
              "      border-top-color: var(--fill-color);\n",
              "    }\n",
              "    30% {\n",
              "      border-color: transparent;\n",
              "      border-left-color: var(--fill-color);\n",
              "      border-top-color: var(--fill-color);\n",
              "      border-right-color: var(--fill-color);\n",
              "    }\n",
              "    40% {\n",
              "      border-color: transparent;\n",
              "      border-right-color: var(--fill-color);\n",
              "      border-top-color: var(--fill-color);\n",
              "    }\n",
              "    60% {\n",
              "      border-color: transparent;\n",
              "      border-right-color: var(--fill-color);\n",
              "    }\n",
              "    80% {\n",
              "      border-color: transparent;\n",
              "      border-right-color: var(--fill-color);\n",
              "      border-bottom-color: var(--fill-color);\n",
              "    }\n",
              "    90% {\n",
              "      border-color: transparent;\n",
              "      border-bottom-color: var(--fill-color);\n",
              "    }\n",
              "  }\n",
              "</style>\n",
              "\n",
              "  <script>\n",
              "    async function quickchart(key) {\n",
              "      const quickchartButtonEl =\n",
              "        document.querySelector('#' + key + ' button');\n",
              "      quickchartButtonEl.disabled = true;  // To prevent multiple clicks.\n",
              "      quickchartButtonEl.classList.add('colab-df-spinner');\n",
              "      try {\n",
              "        const charts = await google.colab.kernel.invokeFunction(\n",
              "            'suggestCharts', [key], {});\n",
              "      } catch (error) {\n",
              "        console.error('Error during call to suggestCharts:', error);\n",
              "      }\n",
              "      quickchartButtonEl.classList.remove('colab-df-spinner');\n",
              "      quickchartButtonEl.classList.add('colab-df-quickchart-complete');\n",
              "    }\n",
              "    (() => {\n",
              "      let quickchartButtonEl =\n",
              "        document.querySelector('#df-f7f5054e-80a9-465f-8561-716358878541 button');\n",
              "      quickchartButtonEl.style.display =\n",
              "        google.colab.kernel.accessAllowed ? 'block' : 'none';\n",
              "    })();\n",
              "  </script>\n",
              "</div>\n",
              "\n",
              "    </div>\n",
              "  </div>\n"
            ],
            "application/vnd.google.colaboratory.intrinsic+json": {
              "type": "dataframe",
              "variable_name": "math_X2",
              "summary": "{\n  \"name\": \"math_X2\",\n  \"rows\": 17168,\n  \"fields\": [\n    {\n      \"column\": \"MedInc\",\n      \"properties\": {\n        \"dtype\": \"number\",\n        \"std\": 0.42534995139271603,\n        \"min\": -0.6933472005626123,\n        \"max\": 2.080853045040103,\n        \"num_unique_values\": 10718,\n        \"samples\": [\n          1.324711467807952,\n          1.2207414219011732,\n          0.7695061886586945\n        ],\n        \"semantic_type\": \"\",\n        \"description\": \"\"\n      }\n    },\n    {\n      \"column\": \"HouseAge\",\n      \"properties\": {\n        \"dtype\": \"number\",\n        \"std\": 12.27518190386935,\n        \"min\": 1.0,\n        \"max\": 52.0,\n        \"num_unique_values\": 52,\n        \"samples\": [\n          10.0,\n          25.0,\n          3.0\n        ],\n        \"semantic_type\": \"\",\n        \"description\": \"\"\n      }\n    },\n    {\n      \"column\": \"AveRooms\",\n      \"properties\": {\n        \"dtype\": \"number\",\n        \"std\": 11.252834301994364,\n        \"min\": 4.3837890625,\n        \"max\": 68.45298383703373,\n        \"num_unique_values\": 16128,\n        \"samples\": [\n          31.308442261080334,\n          29.681479981332938,\n          16.798118042428058\n        ],\n        \"semantic_type\": \"\",\n        \"description\": \"\"\n      }\n    },\n    {\n      \"column\": \"Population\",\n      \"properties\": {\n        \"dtype\": \"number\",\n        \"std\": 9.189663274413373,\n        \"min\": 2.23606797749979,\n        \"max\": 56.04462507680822,\n        \"num_unique_values\": 2867,\n        \"samples\": [\n          54.52522352086234,\n          54.30469592954186,\n          17.635192088548397\n        ],\n        \"semantic_type\": \"\",\n        \"description\": \"\"\n      }\n    },\n    {\n      \"column\": \"AveOccup\",\n      \"properties\": {\n        \"dtype\": \"number\",\n        \"std\": 0.6273700330580999,\n        \"min\": 1.1612903225806452,\n        \"max\": 4.566433566433567,\n        \"num_unique_values\": 15732,\n        \"samples\": [\n          2.671153846153846,\n          3.29066985645933,\n          4.3936170212765955\n        ],\n        \"semantic_type\": \"\",\n        \"description\": \"\"\n      }\n    },\n    {\n      \"column\": \"Latitude\",\n      \"properties\": {\n        \"dtype\": \"number\",\n        \"std\": 2.165304468423781,\n        \"min\": 32.54,\n        \"max\": 41.95,\n        \"num_unique_values\": 850,\n        \"samples\": [\n          34.09,\n          36.4,\n          38.09\n        ],\n        \"semantic_type\": \"\",\n        \"description\": \"\"\n      }\n    },\n    {\n      \"column\": \"Longitude\",\n      \"properties\": {\n        \"dtype\": \"number\",\n        \"std\": 2.0149012224858924,\n        \"min\": -124.35,\n        \"max\": -114.55,\n        \"num_unique_values\": 823,\n        \"samples\": [\n          -121.3,\n          -119.77,\n          -120.93\n        ],\n        \"semantic_type\": \"\",\n        \"description\": \"\"\n      }\n    }\n  ]\n}"
            }
          },
          "metadata": {},
          "execution_count": 71
        }
      ]
    },
    {
      "cell_type": "code",
      "source": [
        "r2_train4, r2_test4, rmse_train4, rmse_test4 = linear_model(math_X2, y2)\n",
        "print(f'R2 на тестовом множестве: {r2_test4}\\nR2 на обучающем множестве: {r2_train4}')\n",
        "print(f'RMSE на тестовом множестве: {rmse_test4}\\nRMSE на обучающем множестве: {rmse_train4}')"
      ],
      "metadata": {
        "colab": {
          "base_uri": "https://localhost:8080/"
        },
        "id": "XJHd0n0WJicS",
        "outputId": "48fb2595-c92c-4e98-9562-3c83bd19b134"
      },
      "execution_count": null,
      "outputs": [
        {
          "output_type": "stream",
          "name": "stdout",
          "text": [
            "R2 на тестовом множестве: 0.5801895696341066\n",
            "R2 на обучающем множестве: 0.5921511824338797\n",
            "RMSE на тестовом множестве: 0.5910894608015936\n",
            "RMSE на обучающем множестве: 0.6005674782501348\n"
          ]
        }
      ]
    },
    {
      "cell_type": "markdown",
      "source": [
        "В результате проведения математических операций над столбцами уменьшились значения среднеквадратичных ошибок в сравнении с моделью без измененных признаков и немного увеличилось значение R2. Но значения метрик R2 и среднеквадратичных ошибок получили лучше на данных без выбросов и столбца с сильной корреляцией, чем на данных с математическими операциями"
      ],
      "metadata": {
        "id": "VkkQigaiJ1jB"
      }
    },
    {
      "cell_type": "markdown",
      "source": [
        "9. Сформулируйте выводы по проделанной работе.\n",
        "\n",
        "a. Кратко опишите какие преобразования были сделаны с данными.\n",
        "\n",
        "b. Сравните метрики всех моделей. Желательно оформление в виде таблицы вида |модель|RMSE|R2|признаки, на которых проводилось обучение с указанием их преобразований|.\n",
        "\n",
        "c. Напишите свое мнение, в полной ли мере модели справились с поставленной задачей."
      ],
      "metadata": {
        "id": "u-641fdJKwht"
      }
    },
    {
      "cell_type": "markdown",
      "source": [
        "Данные были проанализированы на наличие выбросов. Далее была построена модель на неизмененных данных, рассчитаны ее метрики. Затем, используя корреляционную матрицу, был удален столбец с наибольшей корреляцией, снова была построена модель и рассчитаны метрики. Следующим шагом были удалены все выбросы, построена модель и рассчитаны метрики. В завершение всего, над некоторыми столбцами были проведены математические операции, построена модель с учетом всех манипуляций и рассчитаны метрики качества модели."
      ],
      "metadata": {
        "id": "T46Noc-iK2JV"
      }
    },
    {
      "cell_type": "code",
      "source": [
        "result = pd.DataFrame({'Модель': ['На необработанных данных', 'Без столбца AveBedrms', 'Без выбросов', 'С математическими операциями'],\n",
        "                       'R2-test': [r2_test1, r2_test2, r2_test3, r2_test4],\n",
        "                       'R2-train': [r2_train1, r2_train2, r2_train3, r2_train4],\n",
        "                       'RMSE-test': [rmse_test1, rmse_test2, rmse_test3, rmse_test4],\n",
        "                       'RMSE-train': [rmse_train1, rmse_train2, rmse_train3, rmse_train4]})\n",
        "result"
      ],
      "metadata": {
        "colab": {
          "base_uri": "https://localhost:8080/",
          "height": 175
        },
        "id": "NAIKW5XrLnCl",
        "outputId": "75ff1861-9b78-484d-80cd-bdb9795b483c"
      },
      "execution_count": null,
      "outputs": [
        {
          "output_type": "execute_result",
          "data": {
            "text/plain": [
              "                         Модель   R2-test  R2-train  RMSE-test  RMSE-train\n",
              "0      На необработанных данных  0.575788  0.612551   0.745581    0.719676\n",
              "1         Без столбца AveBedrms  0.582324  0.599524   0.739815    0.731675\n",
              "2                  Без выбросов  0.617811  0.627496   0.563982    0.573955\n",
              "3  С математическими операциями  0.580190  0.592151   0.591089    0.600567"
            ],
            "text/html": [
              "\n",
              "  <div id=\"df-04191865-8926-419d-8f83-635f2f5e8c90\" class=\"colab-df-container\">\n",
              "    <div>\n",
              "<style scoped>\n",
              "    .dataframe tbody tr th:only-of-type {\n",
              "        vertical-align: middle;\n",
              "    }\n",
              "\n",
              "    .dataframe tbody tr th {\n",
              "        vertical-align: top;\n",
              "    }\n",
              "\n",
              "    .dataframe thead th {\n",
              "        text-align: right;\n",
              "    }\n",
              "</style>\n",
              "<table border=\"1\" class=\"dataframe\">\n",
              "  <thead>\n",
              "    <tr style=\"text-align: right;\">\n",
              "      <th></th>\n",
              "      <th>Модель</th>\n",
              "      <th>R2-test</th>\n",
              "      <th>R2-train</th>\n",
              "      <th>RMSE-test</th>\n",
              "      <th>RMSE-train</th>\n",
              "    </tr>\n",
              "  </thead>\n",
              "  <tbody>\n",
              "    <tr>\n",
              "      <th>0</th>\n",
              "      <td>На необработанных данных</td>\n",
              "      <td>0.575788</td>\n",
              "      <td>0.612551</td>\n",
              "      <td>0.745581</td>\n",
              "      <td>0.719676</td>\n",
              "    </tr>\n",
              "    <tr>\n",
              "      <th>1</th>\n",
              "      <td>Без столбца AveBedrms</td>\n",
              "      <td>0.582324</td>\n",
              "      <td>0.599524</td>\n",
              "      <td>0.739815</td>\n",
              "      <td>0.731675</td>\n",
              "    </tr>\n",
              "    <tr>\n",
              "      <th>2</th>\n",
              "      <td>Без выбросов</td>\n",
              "      <td>0.617811</td>\n",
              "      <td>0.627496</td>\n",
              "      <td>0.563982</td>\n",
              "      <td>0.573955</td>\n",
              "    </tr>\n",
              "    <tr>\n",
              "      <th>3</th>\n",
              "      <td>С математическими операциями</td>\n",
              "      <td>0.580190</td>\n",
              "      <td>0.592151</td>\n",
              "      <td>0.591089</td>\n",
              "      <td>0.600567</td>\n",
              "    </tr>\n",
              "  </tbody>\n",
              "</table>\n",
              "</div>\n",
              "    <div class=\"colab-df-buttons\">\n",
              "\n",
              "  <div class=\"colab-df-container\">\n",
              "    <button class=\"colab-df-convert\" onclick=\"convertToInteractive('df-04191865-8926-419d-8f83-635f2f5e8c90')\"\n",
              "            title=\"Convert this dataframe to an interactive table.\"\n",
              "            style=\"display:none;\">\n",
              "\n",
              "  <svg xmlns=\"http://www.w3.org/2000/svg\" height=\"24px\" viewBox=\"0 -960 960 960\">\n",
              "    <path d=\"M120-120v-720h720v720H120Zm60-500h600v-160H180v160Zm220 220h160v-160H400v160Zm0 220h160v-160H400v160ZM180-400h160v-160H180v160Zm440 0h160v-160H620v160ZM180-180h160v-160H180v160Zm440 0h160v-160H620v160Z\"/>\n",
              "  </svg>\n",
              "    </button>\n",
              "\n",
              "  <style>\n",
              "    .colab-df-container {\n",
              "      display:flex;\n",
              "      gap: 12px;\n",
              "    }\n",
              "\n",
              "    .colab-df-convert {\n",
              "      background-color: #E8F0FE;\n",
              "      border: none;\n",
              "      border-radius: 50%;\n",
              "      cursor: pointer;\n",
              "      display: none;\n",
              "      fill: #1967D2;\n",
              "      height: 32px;\n",
              "      padding: 0 0 0 0;\n",
              "      width: 32px;\n",
              "    }\n",
              "\n",
              "    .colab-df-convert:hover {\n",
              "      background-color: #E2EBFA;\n",
              "      box-shadow: 0px 1px 2px rgba(60, 64, 67, 0.3), 0px 1px 3px 1px rgba(60, 64, 67, 0.15);\n",
              "      fill: #174EA6;\n",
              "    }\n",
              "\n",
              "    .colab-df-buttons div {\n",
              "      margin-bottom: 4px;\n",
              "    }\n",
              "\n",
              "    [theme=dark] .colab-df-convert {\n",
              "      background-color: #3B4455;\n",
              "      fill: #D2E3FC;\n",
              "    }\n",
              "\n",
              "    [theme=dark] .colab-df-convert:hover {\n",
              "      background-color: #434B5C;\n",
              "      box-shadow: 0px 1px 3px 1px rgba(0, 0, 0, 0.15);\n",
              "      filter: drop-shadow(0px 1px 2px rgba(0, 0, 0, 0.3));\n",
              "      fill: #FFFFFF;\n",
              "    }\n",
              "  </style>\n",
              "\n",
              "    <script>\n",
              "      const buttonEl =\n",
              "        document.querySelector('#df-04191865-8926-419d-8f83-635f2f5e8c90 button.colab-df-convert');\n",
              "      buttonEl.style.display =\n",
              "        google.colab.kernel.accessAllowed ? 'block' : 'none';\n",
              "\n",
              "      async function convertToInteractive(key) {\n",
              "        const element = document.querySelector('#df-04191865-8926-419d-8f83-635f2f5e8c90');\n",
              "        const dataTable =\n",
              "          await google.colab.kernel.invokeFunction('convertToInteractive',\n",
              "                                                    [key], {});\n",
              "        if (!dataTable) return;\n",
              "\n",
              "        const docLinkHtml = 'Like what you see? Visit the ' +\n",
              "          '<a target=\"_blank\" href=https://colab.research.google.com/notebooks/data_table.ipynb>data table notebook</a>'\n",
              "          + ' to learn more about interactive tables.';\n",
              "        element.innerHTML = '';\n",
              "        dataTable['output_type'] = 'display_data';\n",
              "        await google.colab.output.renderOutput(dataTable, element);\n",
              "        const docLink = document.createElement('div');\n",
              "        docLink.innerHTML = docLinkHtml;\n",
              "        element.appendChild(docLink);\n",
              "      }\n",
              "    </script>\n",
              "  </div>\n",
              "\n",
              "\n",
              "<div id=\"df-137f0d3a-a53d-4329-9df5-7127e46e08af\">\n",
              "  <button class=\"colab-df-quickchart\" onclick=\"quickchart('df-137f0d3a-a53d-4329-9df5-7127e46e08af')\"\n",
              "            title=\"Suggest charts\"\n",
              "            style=\"display:none;\">\n",
              "\n",
              "<svg xmlns=\"http://www.w3.org/2000/svg\" height=\"24px\"viewBox=\"0 0 24 24\"\n",
              "     width=\"24px\">\n",
              "    <g>\n",
              "        <path d=\"M19 3H5c-1.1 0-2 .9-2 2v14c0 1.1.9 2 2 2h14c1.1 0 2-.9 2-2V5c0-1.1-.9-2-2-2zM9 17H7v-7h2v7zm4 0h-2V7h2v10zm4 0h-2v-4h2v4z\"/>\n",
              "    </g>\n",
              "</svg>\n",
              "  </button>\n",
              "\n",
              "<style>\n",
              "  .colab-df-quickchart {\n",
              "      --bg-color: #E8F0FE;\n",
              "      --fill-color: #1967D2;\n",
              "      --hover-bg-color: #E2EBFA;\n",
              "      --hover-fill-color: #174EA6;\n",
              "      --disabled-fill-color: #AAA;\n",
              "      --disabled-bg-color: #DDD;\n",
              "  }\n",
              "\n",
              "  [theme=dark] .colab-df-quickchart {\n",
              "      --bg-color: #3B4455;\n",
              "      --fill-color: #D2E3FC;\n",
              "      --hover-bg-color: #434B5C;\n",
              "      --hover-fill-color: #FFFFFF;\n",
              "      --disabled-bg-color: #3B4455;\n",
              "      --disabled-fill-color: #666;\n",
              "  }\n",
              "\n",
              "  .colab-df-quickchart {\n",
              "    background-color: var(--bg-color);\n",
              "    border: none;\n",
              "    border-radius: 50%;\n",
              "    cursor: pointer;\n",
              "    display: none;\n",
              "    fill: var(--fill-color);\n",
              "    height: 32px;\n",
              "    padding: 0;\n",
              "    width: 32px;\n",
              "  }\n",
              "\n",
              "  .colab-df-quickchart:hover {\n",
              "    background-color: var(--hover-bg-color);\n",
              "    box-shadow: 0 1px 2px rgba(60, 64, 67, 0.3), 0 1px 3px 1px rgba(60, 64, 67, 0.15);\n",
              "    fill: var(--button-hover-fill-color);\n",
              "  }\n",
              "\n",
              "  .colab-df-quickchart-complete:disabled,\n",
              "  .colab-df-quickchart-complete:disabled:hover {\n",
              "    background-color: var(--disabled-bg-color);\n",
              "    fill: var(--disabled-fill-color);\n",
              "    box-shadow: none;\n",
              "  }\n",
              "\n",
              "  .colab-df-spinner {\n",
              "    border: 2px solid var(--fill-color);\n",
              "    border-color: transparent;\n",
              "    border-bottom-color: var(--fill-color);\n",
              "    animation:\n",
              "      spin 1s steps(1) infinite;\n",
              "  }\n",
              "\n",
              "  @keyframes spin {\n",
              "    0% {\n",
              "      border-color: transparent;\n",
              "      border-bottom-color: var(--fill-color);\n",
              "      border-left-color: var(--fill-color);\n",
              "    }\n",
              "    20% {\n",
              "      border-color: transparent;\n",
              "      border-left-color: var(--fill-color);\n",
              "      border-top-color: var(--fill-color);\n",
              "    }\n",
              "    30% {\n",
              "      border-color: transparent;\n",
              "      border-left-color: var(--fill-color);\n",
              "      border-top-color: var(--fill-color);\n",
              "      border-right-color: var(--fill-color);\n",
              "    }\n",
              "    40% {\n",
              "      border-color: transparent;\n",
              "      border-right-color: var(--fill-color);\n",
              "      border-top-color: var(--fill-color);\n",
              "    }\n",
              "    60% {\n",
              "      border-color: transparent;\n",
              "      border-right-color: var(--fill-color);\n",
              "    }\n",
              "    80% {\n",
              "      border-color: transparent;\n",
              "      border-right-color: var(--fill-color);\n",
              "      border-bottom-color: var(--fill-color);\n",
              "    }\n",
              "    90% {\n",
              "      border-color: transparent;\n",
              "      border-bottom-color: var(--fill-color);\n",
              "    }\n",
              "  }\n",
              "</style>\n",
              "\n",
              "  <script>\n",
              "    async function quickchart(key) {\n",
              "      const quickchartButtonEl =\n",
              "        document.querySelector('#' + key + ' button');\n",
              "      quickchartButtonEl.disabled = true;  // To prevent multiple clicks.\n",
              "      quickchartButtonEl.classList.add('colab-df-spinner');\n",
              "      try {\n",
              "        const charts = await google.colab.kernel.invokeFunction(\n",
              "            'suggestCharts', [key], {});\n",
              "      } catch (error) {\n",
              "        console.error('Error during call to suggestCharts:', error);\n",
              "      }\n",
              "      quickchartButtonEl.classList.remove('colab-df-spinner');\n",
              "      quickchartButtonEl.classList.add('colab-df-quickchart-complete');\n",
              "    }\n",
              "    (() => {\n",
              "      let quickchartButtonEl =\n",
              "        document.querySelector('#df-137f0d3a-a53d-4329-9df5-7127e46e08af button');\n",
              "      quickchartButtonEl.style.display =\n",
              "        google.colab.kernel.accessAllowed ? 'block' : 'none';\n",
              "    })();\n",
              "  </script>\n",
              "</div>\n",
              "\n",
              "  <div id=\"id_981cba86-283b-478f-a7a1-1513726691b2\">\n",
              "    <style>\n",
              "      .colab-df-generate {\n",
              "        background-color: #E8F0FE;\n",
              "        border: none;\n",
              "        border-radius: 50%;\n",
              "        cursor: pointer;\n",
              "        display: none;\n",
              "        fill: #1967D2;\n",
              "        height: 32px;\n",
              "        padding: 0 0 0 0;\n",
              "        width: 32px;\n",
              "      }\n",
              "\n",
              "      .colab-df-generate:hover {\n",
              "        background-color: #E2EBFA;\n",
              "        box-shadow: 0px 1px 2px rgba(60, 64, 67, 0.3), 0px 1px 3px 1px rgba(60, 64, 67, 0.15);\n",
              "        fill: #174EA6;\n",
              "      }\n",
              "\n",
              "      [theme=dark] .colab-df-generate {\n",
              "        background-color: #3B4455;\n",
              "        fill: #D2E3FC;\n",
              "      }\n",
              "\n",
              "      [theme=dark] .colab-df-generate:hover {\n",
              "        background-color: #434B5C;\n",
              "        box-shadow: 0px 1px 3px 1px rgba(0, 0, 0, 0.15);\n",
              "        filter: drop-shadow(0px 1px 2px rgba(0, 0, 0, 0.3));\n",
              "        fill: #FFFFFF;\n",
              "      }\n",
              "    </style>\n",
              "    <button class=\"colab-df-generate\" onclick=\"generateWithVariable('result')\"\n",
              "            title=\"Generate code using this dataframe.\"\n",
              "            style=\"display:none;\">\n",
              "\n",
              "  <svg xmlns=\"http://www.w3.org/2000/svg\" height=\"24px\"viewBox=\"0 0 24 24\"\n",
              "       width=\"24px\">\n",
              "    <path d=\"M7,19H8.4L18.45,9,17,7.55,7,17.6ZM5,21V16.75L18.45,3.32a2,2,0,0,1,2.83,0l1.4,1.43a1.91,1.91,0,0,1,.58,1.4,1.91,1.91,0,0,1-.58,1.4L9.25,21ZM18.45,9,17,7.55Zm-12,3A5.31,5.31,0,0,0,4.9,8.1,5.31,5.31,0,0,0,1,6.5,5.31,5.31,0,0,0,4.9,4.9,5.31,5.31,0,0,0,6.5,1,5.31,5.31,0,0,0,8.1,4.9,5.31,5.31,0,0,0,12,6.5,5.46,5.46,0,0,0,6.5,12Z\"/>\n",
              "  </svg>\n",
              "    </button>\n",
              "    <script>\n",
              "      (() => {\n",
              "      const buttonEl =\n",
              "        document.querySelector('#id_981cba86-283b-478f-a7a1-1513726691b2 button.colab-df-generate');\n",
              "      buttonEl.style.display =\n",
              "        google.colab.kernel.accessAllowed ? 'block' : 'none';\n",
              "\n",
              "      buttonEl.onclick = () => {\n",
              "        google.colab.notebook.generateWithVariable('result');\n",
              "      }\n",
              "      })();\n",
              "    </script>\n",
              "  </div>\n",
              "\n",
              "    </div>\n",
              "  </div>\n"
            ],
            "application/vnd.google.colaboratory.intrinsic+json": {
              "type": "dataframe",
              "variable_name": "result",
              "summary": "{\n  \"name\": \"result\",\n  \"rows\": 4,\n  \"fields\": [\n    {\n      \"column\": \"\\u041c\\u043e\\u0434\\u0435\\u043b\\u044c\",\n      \"properties\": {\n        \"dtype\": \"string\",\n        \"num_unique_values\": 4,\n        \"samples\": [\n          \"\\u0411\\u0435\\u0437 \\u0441\\u0442\\u043e\\u043b\\u0431\\u0446\\u0430 AveBedrms\",\n          \"\\u0421 \\u043c\\u0430\\u0442\\u0435\\u043c\\u0430\\u0442\\u0438\\u0447\\u0435\\u0441\\u043a\\u0438\\u043c\\u0438 \\u043e\\u043f\\u0435\\u0440\\u0430\\u0446\\u0438\\u044f\\u043c\\u0438\",\n          \"\\u041d\\u0430 \\u043d\\u0435\\u043e\\u0431\\u0440\\u0430\\u0431\\u043e\\u0442\\u0430\\u043d\\u043d\\u044b\\u0445 \\u0434\\u0430\\u043d\\u043d\\u044b\\u0445\"\n        ],\n        \"semantic_type\": \"\",\n        \"description\": \"\"\n      }\n    },\n    {\n      \"column\": \"R2-test\",\n      \"properties\": {\n        \"dtype\": \"number\",\n        \"std\": 0.01938079819261867,\n        \"min\": 0.5757877060324508,\n        \"max\": 0.6178112928981232,\n        \"num_unique_values\": 4,\n        \"samples\": [\n          0.5823239094526445,\n          0.5801895696341066,\n          0.5757877060324508\n        ],\n        \"semantic_type\": \"\",\n        \"description\": \"\"\n      }\n    },\n    {\n      \"column\": \"R2-train\",\n      \"properties\": {\n        \"dtype\": \"number\",\n        \"std\": 0.015532911446898001,\n        \"min\": 0.5921511824338797,\n        \"max\": 0.6274958929542234,\n        \"num_unique_values\": 4,\n        \"samples\": [\n          0.5995238502055928,\n          0.5921511824338797,\n          0.6125511913966952\n        ],\n        \"semantic_type\": \"\",\n        \"description\": \"\"\n      }\n    },\n    {\n      \"column\": \"RMSE-test\",\n      \"properties\": {\n        \"dtype\": \"number\",\n        \"std\": 0.09602539353071989,\n        \"min\": 0.5639823707351388,\n        \"max\": 0.7455813830127764,\n        \"num_unique_values\": 4,\n        \"samples\": [\n          0.7398151789804083,\n          0.5910894608015936,\n          0.7455813830127764\n        ],\n        \"semantic_type\": \"\",\n        \"description\": \"\"\n      }\n    },\n    {\n      \"column\": \"RMSE-train\",\n      \"properties\": {\n        \"dtype\": \"number\",\n        \"std\": 0.08079715461813365,\n        \"min\": 0.5739548626509028,\n        \"max\": 0.7316746485880744,\n        \"num_unique_values\": 4,\n        \"samples\": [\n          0.7316746485880744,\n          0.6005674782501348,\n          0.7196757085831575\n        ],\n        \"semantic_type\": \"\",\n        \"description\": \"\"\n      }\n    }\n  ]\n}"
            }
          },
          "metadata": {},
          "execution_count": 74
        }
      ]
    },
    {
      "cell_type": "markdown",
      "source": [
        "Лучшие значения метрик были получены при использовании данных без выбросов и без столбца AveBedrms"
      ],
      "metadata": {
        "id": "dh_YrD4ENaar"
      }
    }
  ]
}