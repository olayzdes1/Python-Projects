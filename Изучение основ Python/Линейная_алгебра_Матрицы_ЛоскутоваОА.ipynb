{
  "nbformat": 4,
  "nbformat_minor": 0,
  "metadata": {
    "colab": {
      "provenance": []
    },
    "kernelspec": {
      "name": "python3",
      "display_name": "Python 3"
    },
    "language_info": {
      "name": "python"
    }
  },
  "cells": [
    {
      "cell_type": "markdown",
      "source": [
        "**Задание 1**\n",
        "*   Создайте матрицу 3 на 3, заполненную числами от 1 до 9\n",
        "*   Прибавьте к ней матрицу с единицами на диагонале\n",
        "*   Умножьте полученную матрицу на вектор (1, 2, 3)\n",
        "*   Вычислить транспонированную матрицу от полученной в результате прибавления матрицы\n",
        "*   Посчитайте обратную матрицу к полученной в результате прибавления матрице\n"
      ],
      "metadata": {
        "id": "aemSSQPeYAGw"
      }
    },
    {
      "cell_type": "code",
      "execution_count": null,
      "metadata": {
        "id": "VgCNNmctX76r"
      },
      "outputs": [],
      "source": [
        "import numpy as np"
      ]
    },
    {
      "cell_type": "code",
      "source": [
        "A1 = np.array([[1,2,3], [4,5,6], [7,8,9]])\n",
        "A2 = A1 + np.eye(3)\n",
        "A3 = np.array([1,2,3]) @ A2\n",
        "A4 = np.transpose(A2)\n",
        "A5 = np.linalg.inv(A2)\n",
        "print(f'Начальная матрица A1:\\n{A1},\\nA1 + единичная матрица:\\n{A2},\\nМатрица, умноженная на вектор:\\n{A3},\\nТранспонированная матрица:\\n{A4},\\nОбратная матрица:\\n{A5}')\n"
      ],
      "metadata": {
        "colab": {
          "base_uri": "https://localhost:8080/"
        },
        "id": "CUs4aTzjYkU-",
        "outputId": "8328d05d-f21e-4f8d-8155-0083b04aaa26"
      },
      "execution_count": null,
      "outputs": [
        {
          "output_type": "stream",
          "name": "stdout",
          "text": [
            "Начальная матрица A1:\n",
            "[[1 2 3]\n",
            " [4 5 6]\n",
            " [7 8 9]],\n",
            "A1 + единичная матрица:\n",
            "[[ 2.  2.  3.]\n",
            " [ 4.  6.  6.]\n",
            " [ 7.  8. 10.]],\n",
            "Матрица, умноженная на вектор:\n",
            "[31. 38. 45.],\n",
            "Транспонированная матрица:\n",
            "[[ 2.  4.  7.]\n",
            " [ 2.  6.  8.]\n",
            " [ 3.  6. 10.]],\n",
            "Обратная матрица:\n",
            "[[-6.00000000e+00 -2.00000000e+00  3.00000000e+00]\n",
            " [-1.00000000e+00  5.00000000e-01 -2.33146835e-16]\n",
            " [ 5.00000000e+00  1.00000000e+00 -2.00000000e+00]]\n"
          ]
        }
      ]
    },
    {
      "cell_type": "markdown",
      "source": [
        "**Задание 2**\n",
        "Найдите собственные значения и собственные вектора матрицы:"
      ],
      "metadata": {
        "id": "N9qU81e2f7Cx"
      }
    },
    {
      "cell_type": "code",
      "source": [
        "m = np.array([[2, 2],\n",
        "              [1, 3]])\n",
        "eig_lambda = np.linalg.eigvals(m)\n",
        "eig_vec = np.transpose(np.linalg.eig(m)[1])\n",
        "print(f'Собственные значения матрицы: {eig_lambda},\\n1-й собственный вектор матрицы: {eig_vec[0]/0.4472136},\\n2-й собственный вектор матрицы: {eig_vec[1]/(-0.70710678)}')"
      ],
      "metadata": {
        "colab": {
          "base_uri": "https://localhost:8080/"
        },
        "id": "lEWuEJgvgAgX",
        "outputId": "7074fe9c-5258-40cf-dcba-b8e6b5bbc751"
      },
      "execution_count": null,
      "outputs": [
        {
          "output_type": "stream",
          "name": "stdout",
          "text": [
            "Собственные значения матрицы: [1. 4.],\n",
            "1-й собственный вектор матрицы: [-1.99999998  0.99999999],\n",
            "2-й собственный вектор матрицы: [1. 1.]\n"
          ]
        }
      ]
    },
    {
      "cell_type": "markdown",
      "source": [
        "**Задание 3**\n",
        "Придумайте матрицу, у которой определитель = 1, и все элементы не равны 0."
      ],
      "metadata": {
        "id": "F65hqdyNjaIE"
      }
    },
    {
      "cell_type": "code",
      "source": [
        "n = np.array([[-6,-2,1], [-2,-1,-1], [-1,-1,-2]])\n",
        "det_n = np.linalg.det(n)\n",
        "print(n)\n",
        "print(det_n)"
      ],
      "metadata": {
        "colab": {
          "base_uri": "https://localhost:8080/"
        },
        "id": "AbrozX20jkxQ",
        "outputId": "a10ab5e2-42b1-4ee8-a87b-f916af811b1b"
      },
      "execution_count": null,
      "outputs": [
        {
          "output_type": "stream",
          "name": "stdout",
          "text": [
            "[[-6 -2  1]\n",
            " [-2 -1 -1]\n",
            " [-1 -1 -2]]\n",
            "1.0000000000000002\n"
          ]
        }
      ]
    }
  ]
}